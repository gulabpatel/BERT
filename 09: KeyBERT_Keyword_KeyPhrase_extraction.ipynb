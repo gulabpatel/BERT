{
  "nbformat": 4,
  "nbformat_minor": 0,
  "metadata": {
    "colab": {
      "name": "09: KeyBERT_Keyword,_KeyPhrase_extraction.ipynb",
      "provenance": [],
      "authorship_tag": "ABX9TyNebxBgh3d9jFVSObOU8dOn",
      "include_colab_link": true
    },
    "kernelspec": {
      "name": "python3",
      "display_name": "Python 3"
    },
    "language_info": {
      "name": "python"
    },
    "widgets": {
      "application/vnd.jupyter.widget-state+json": {
        "6836412e1ff040f29be6ba917a6a88bb": {
          "model_module": "@jupyter-widgets/controls",
          "model_name": "HBoxModel",
          "state": {
            "_view_name": "HBoxView",
            "_dom_classes": [],
            "_model_name": "HBoxModel",
            "_view_module": "@jupyter-widgets/controls",
            "_model_module_version": "1.5.0",
            "_view_count": null,
            "_view_module_version": "1.5.0",
            "box_style": "",
            "layout": "IPY_MODEL_d504799ba67d4a2d9372618a9f4ea461",
            "_model_module": "@jupyter-widgets/controls",
            "children": [
              "IPY_MODEL_dab1753ea617445ea04f00c4f922bd34",
              "IPY_MODEL_f7bec24a49d64234a4ea9276a3ba4b68"
            ]
          }
        },
        "d504799ba67d4a2d9372618a9f4ea461": {
          "model_module": "@jupyter-widgets/base",
          "model_name": "LayoutModel",
          "state": {
            "_view_name": "LayoutView",
            "grid_template_rows": null,
            "right": null,
            "justify_content": null,
            "_view_module": "@jupyter-widgets/base",
            "overflow": null,
            "_model_module_version": "1.2.0",
            "_view_count": null,
            "flex_flow": null,
            "width": null,
            "min_width": null,
            "border": null,
            "align_items": null,
            "bottom": null,
            "_model_module": "@jupyter-widgets/base",
            "top": null,
            "grid_column": null,
            "overflow_y": null,
            "overflow_x": null,
            "grid_auto_flow": null,
            "grid_area": null,
            "grid_template_columns": null,
            "flex": null,
            "_model_name": "LayoutModel",
            "justify_items": null,
            "grid_row": null,
            "max_height": null,
            "align_content": null,
            "visibility": null,
            "align_self": null,
            "height": null,
            "min_height": null,
            "padding": null,
            "grid_auto_rows": null,
            "grid_gap": null,
            "max_width": null,
            "order": null,
            "_view_module_version": "1.2.0",
            "grid_template_areas": null,
            "object_position": null,
            "object_fit": null,
            "grid_auto_columns": null,
            "margin": null,
            "display": null,
            "left": null
          }
        },
        "dab1753ea617445ea04f00c4f922bd34": {
          "model_module": "@jupyter-widgets/controls",
          "model_name": "FloatProgressModel",
          "state": {
            "_view_name": "ProgressView",
            "style": "IPY_MODEL_1fbf5ae66a0741c699ad77ca3eeb9628",
            "_dom_classes": [],
            "description": "100%",
            "_model_name": "FloatProgressModel",
            "bar_style": "success",
            "max": 83426730,
            "_view_module": "@jupyter-widgets/controls",
            "_model_module_version": "1.5.0",
            "value": 83426730,
            "_view_count": null,
            "_view_module_version": "1.5.0",
            "orientation": "horizontal",
            "min": 0,
            "description_tooltip": null,
            "_model_module": "@jupyter-widgets/controls",
            "layout": "IPY_MODEL_44ef1b81117c46c7b7ec29e164c8e597"
          }
        },
        "f7bec24a49d64234a4ea9276a3ba4b68": {
          "model_module": "@jupyter-widgets/controls",
          "model_name": "HTMLModel",
          "state": {
            "_view_name": "HTMLView",
            "style": "IPY_MODEL_0e44d81795e5416db908f4ffc1990290",
            "_dom_classes": [],
            "description": "",
            "_model_name": "HTMLModel",
            "placeholder": "​",
            "_view_module": "@jupyter-widgets/controls",
            "_model_module_version": "1.5.0",
            "value": " 83.4M/83.4M [00:06&lt;00:00, 12.2MB/s]",
            "_view_count": null,
            "_view_module_version": "1.5.0",
            "description_tooltip": null,
            "_model_module": "@jupyter-widgets/controls",
            "layout": "IPY_MODEL_b77d3aa309dd459c971d74cffe89fa2f"
          }
        },
        "1fbf5ae66a0741c699ad77ca3eeb9628": {
          "model_module": "@jupyter-widgets/controls",
          "model_name": "ProgressStyleModel",
          "state": {
            "_view_name": "StyleView",
            "_model_name": "ProgressStyleModel",
            "description_width": "initial",
            "_view_module": "@jupyter-widgets/base",
            "_model_module_version": "1.5.0",
            "_view_count": null,
            "_view_module_version": "1.2.0",
            "bar_color": null,
            "_model_module": "@jupyter-widgets/controls"
          }
        },
        "44ef1b81117c46c7b7ec29e164c8e597": {
          "model_module": "@jupyter-widgets/base",
          "model_name": "LayoutModel",
          "state": {
            "_view_name": "LayoutView",
            "grid_template_rows": null,
            "right": null,
            "justify_content": null,
            "_view_module": "@jupyter-widgets/base",
            "overflow": null,
            "_model_module_version": "1.2.0",
            "_view_count": null,
            "flex_flow": null,
            "width": null,
            "min_width": null,
            "border": null,
            "align_items": null,
            "bottom": null,
            "_model_module": "@jupyter-widgets/base",
            "top": null,
            "grid_column": null,
            "overflow_y": null,
            "overflow_x": null,
            "grid_auto_flow": null,
            "grid_area": null,
            "grid_template_columns": null,
            "flex": null,
            "_model_name": "LayoutModel",
            "justify_items": null,
            "grid_row": null,
            "max_height": null,
            "align_content": null,
            "visibility": null,
            "align_self": null,
            "height": null,
            "min_height": null,
            "padding": null,
            "grid_auto_rows": null,
            "grid_gap": null,
            "max_width": null,
            "order": null,
            "_view_module_version": "1.2.0",
            "grid_template_areas": null,
            "object_position": null,
            "object_fit": null,
            "grid_auto_columns": null,
            "margin": null,
            "display": null,
            "left": null
          }
        },
        "0e44d81795e5416db908f4ffc1990290": {
          "model_module": "@jupyter-widgets/controls",
          "model_name": "DescriptionStyleModel",
          "state": {
            "_view_name": "StyleView",
            "_model_name": "DescriptionStyleModel",
            "description_width": "",
            "_view_module": "@jupyter-widgets/base",
            "_model_module_version": "1.5.0",
            "_view_count": null,
            "_view_module_version": "1.2.0",
            "_model_module": "@jupyter-widgets/controls"
          }
        },
        "b77d3aa309dd459c971d74cffe89fa2f": {
          "model_module": "@jupyter-widgets/base",
          "model_name": "LayoutModel",
          "state": {
            "_view_name": "LayoutView",
            "grid_template_rows": null,
            "right": null,
            "justify_content": null,
            "_view_module": "@jupyter-widgets/base",
            "overflow": null,
            "_model_module_version": "1.2.0",
            "_view_count": null,
            "flex_flow": null,
            "width": null,
            "min_width": null,
            "border": null,
            "align_items": null,
            "bottom": null,
            "_model_module": "@jupyter-widgets/base",
            "top": null,
            "grid_column": null,
            "overflow_y": null,
            "overflow_x": null,
            "grid_auto_flow": null,
            "grid_area": null,
            "grid_template_columns": null,
            "flex": null,
            "_model_name": "LayoutModel",
            "justify_items": null,
            "grid_row": null,
            "max_height": null,
            "align_content": null,
            "visibility": null,
            "align_self": null,
            "height": null,
            "min_height": null,
            "padding": null,
            "grid_auto_rows": null,
            "grid_gap": null,
            "max_width": null,
            "order": null,
            "_view_module_version": "1.2.0",
            "grid_template_areas": null,
            "object_position": null,
            "object_fit": null,
            "grid_auto_columns": null,
            "margin": null,
            "display": null,
            "left": null
          }
        }
      }
    }
  },
  "cells": [
    {
      "cell_type": "markdown",
      "metadata": {
        "id": "view-in-github",
        "colab_type": "text"
      },
      "source": [
        "<a href=\"https://colab.research.google.com/github/gulabpatel/NLP_BERT/blob/main/09%3A%20KeyBERT_Keyword_KeyPhrase_extraction.ipynb\" target=\"_parent\"><img src=\"https://colab.research.google.com/assets/colab-badge.svg\" alt=\"Open In Colab\"/></a>"
      ]
    },
    {
      "cell_type": "markdown",
      "metadata": {
        "id": "8HmPgB9jFfh6"
      },
      "source": [
        "Video walkthrough the code : https://www.youtube.com/watch?v=q2ifXVbKDQg\n",
        "\n",
        "Original Github Repo : https://github.com/MaartenGr/KeyBERT\n",
        "\n",
        "Blog : https://towardsdatascience.com/keyword-extraction-with-bert-724efca412ea"
      ]
    },
    {
      "cell_type": "code",
      "metadata": {
        "id": "IXnqlzZgA4bA"
      },
      "source": [
        "!pip install keybert"
      ],
      "execution_count": null,
      "outputs": []
    },
    {
      "cell_type": "code",
      "metadata": {
        "id": "ZZTrXGb2A5hO"
      },
      "source": [
        "!pip install keybert[flair]\n",
        "!pip install keybert[gensim]\n",
        "!pip install keybert[spacy]\n",
        "!pip install keybert[use]\n",
        "#!pip install keybert[all]  ##To install all backends:"
      ],
      "execution_count": null,
      "outputs": []
    },
    {
      "cell_type": "code",
      "metadata": {
        "colab": {
          "base_uri": "https://localhost:8080/",
          "height": 67,
          "referenced_widgets": [
            "6836412e1ff040f29be6ba917a6a88bb",
            "d504799ba67d4a2d9372618a9f4ea461",
            "dab1753ea617445ea04f00c4f922bd34",
            "f7bec24a49d64234a4ea9276a3ba4b68",
            "1fbf5ae66a0741c699ad77ca3eeb9628",
            "44ef1b81117c46c7b7ec29e164c8e597",
            "0e44d81795e5416db908f4ffc1990290",
            "b77d3aa309dd459c971d74cffe89fa2f"
          ]
        },
        "id": "S1Mj6FIXBVxO",
        "outputId": "47530567-f80e-47dd-e510-5c5115c458bb"
      },
      "source": [
        "from keybert import KeyBERT\n",
        "\n",
        "doc = \"\"\"\n",
        "         Supervised learning is the machine learning task of learning a function that\n",
        "         maps an input to an output based on example input-output pairs. It infers a\n",
        "         function from labeled training data consisting of a set of training examples.\n",
        "         In supervised learning, each example is a pair consisting of an input object\n",
        "         (typically a vector) and a desired output value (also called the supervisory signal). \n",
        "         A supervised learning algorithm analyzes the training data and produces an inferred function, \n",
        "         which can be used for mapping new examples. An optimal scenario will allow for the \n",
        "         algorithm to correctly determine the class labels for unseen instances. This requires \n",
        "         the learning algorithm to generalize from the training data to unseen situations in a \n",
        "         'reasonable' way (see inductive bias).\n",
        "      \"\"\"\n",
        "kw_model = KeyBERT()\n",
        "keywords = kw_model.extract_keywords(doc)"
      ],
      "execution_count": 3,
      "outputs": [
        {
          "output_type": "display_data",
          "data": {
            "application/vnd.jupyter.widget-view+json": {
              "model_id": "6836412e1ff040f29be6ba917a6a88bb",
              "version_minor": 0,
              "version_major": 2
            },
            "text/plain": [
              "HBox(children=(FloatProgress(value=0.0, max=83426730.0), HTML(value='')))"
            ]
          },
          "metadata": {
            "tags": []
          }
        },
        {
          "output_type": "stream",
          "text": [
            "\n"
          ],
          "name": "stdout"
        }
      ]
    },
    {
      "cell_type": "code",
      "metadata": {
        "colab": {
          "base_uri": "https://localhost:8080/"
        },
        "id": "X6uNsqkxBtih",
        "outputId": "0db36fea-947f-4e4e-d5ed-eaf56cf11013"
      },
      "source": [
        "kw_model.extract_keywords(doc, keyphrase_ngram_range=(1, 1), stop_words=None)"
      ],
      "execution_count": 4,
      "outputs": [
        {
          "output_type": "execute_result",
          "data": {
            "text/plain": [
              "[('supervised', 0.5864),\n",
              " ('learning', 0.4431),\n",
              " ('analyzes', 0.3552),\n",
              " ('algorithm', 0.3514),\n",
              " ('training', 0.3099)]"
            ]
          },
          "metadata": {
            "tags": []
          },
          "execution_count": 4
        }
      ]
    },
    {
      "cell_type": "code",
      "metadata": {
        "colab": {
          "base_uri": "https://localhost:8080/"
        },
        "id": "4MN0FIoJBwQI",
        "outputId": "621dde09-b396-4ff3-98bf-26e390613d86"
      },
      "source": [
        "kw_model.extract_keywords(doc, keyphrase_ngram_range=(1, 2), stop_words=None)"
      ],
      "execution_count": 5,
      "outputs": [
        {
          "output_type": "execute_result",
          "data": {
            "text/plain": [
              "[('supervised learning', 0.7035),\n",
              " ('in supervised', 0.6108),\n",
              " ('supervised', 0.5864),\n",
              " ('machine learning', 0.5707),\n",
              " ('learning algorithm', 0.525)]"
            ]
          },
          "metadata": {
            "tags": []
          },
          "execution_count": 5
        }
      ]
    },
    {
      "cell_type": "code",
      "metadata": {
        "colab": {
          "base_uri": "https://localhost:8080/",
          "height": 161
        },
        "id": "1tcTnbjOB0qh",
        "outputId": "08c5088d-7848-4d49-8932-5dcaa2c5ec10"
      },
      "source": [
        "keywords = kw_model.extract_keywords(doc, highlight=True)"
      ],
      "execution_count": 6,
      "outputs": [
        {
          "output_type": "display_data",
          "data": {
            "text/html": [
              "<pre style=\"white-space:pre;overflow-x:auto;line-height:normal;font-family:Menlo,'DejaVu Sans Mono',consolas,'Courier New',monospace\"><span style=\"color: #000000; text-decoration-color: #000000; background-color: #ffff00\">Supervised</span> <span style=\"color: #000000; text-decoration-color: #000000; background-color: #ffff00\">learning</span> is the machine <span style=\"color: #000000; text-decoration-color: #000000; background-color: #ffff00\">learning</span> task of <span style=\"color: #000000; text-decoration-color: #000000; background-color: #ffff00\">learning</span> a function that maps an input to\n",
              "an output based on example input-output pairs. It infers a function from labeled <span style=\"color: #000000; text-decoration-color: #000000; background-color: #ffff00\">training</span> \n",
              "data consisting of a set of <span style=\"color: #000000; text-decoration-color: #000000; background-color: #ffff00\">training</span> examples. In <span style=\"color: #000000; text-decoration-color: #000000; background-color: #ffff00\">supervised</span> learning, each example is a pair\n",
              "consisting of an input object (typically a vector) and a desired output value (also called \n",
              "the supervisory signal). A <span style=\"color: #000000; text-decoration-color: #000000; background-color: #ffff00\">supervised</span> <span style=\"color: #000000; text-decoration-color: #000000; background-color: #ffff00\">learning</span> <span style=\"color: #000000; text-decoration-color: #000000; background-color: #ffff00\">algorithm</span> <span style=\"color: #000000; text-decoration-color: #000000; background-color: #ffff00\">analyzes</span> the <span style=\"color: #000000; text-decoration-color: #000000; background-color: #ffff00\">training</span> data and \n",
              "produces an inferred function, which can be used for mapping new examples. An optimal \n",
              "scenario will allow for the <span style=\"color: #000000; text-decoration-color: #000000; background-color: #ffff00\">algorithm</span> to correctly determine the class labels for unseen \n",
              "instances. This requires the <span style=\"color: #000000; text-decoration-color: #000000; background-color: #ffff00\">learning</span> <span style=\"color: #000000; text-decoration-color: #000000; background-color: #ffff00\">algorithm</span> to generalize from the <span style=\"color: #000000; text-decoration-color: #000000; background-color: #ffff00\">training</span> data to \n",
              "unseen situations in a 'reasonable' way (see inductive bias).\n",
              "</pre>\n"
            ],
            "text/plain": [
              "\u001b[30;48;2;255;255;0mSupervised\u001b[0m \u001b[30;48;2;255;255;0mlearning\u001b[0m is the machine \u001b[30;48;2;255;255;0mlearning\u001b[0m task of \u001b[30;48;2;255;255;0mlearning\u001b[0m a function that maps an input to\n",
              "an output based on example input-output pairs. It infers a function from labeled \u001b[30;48;2;255;255;0mtraining\u001b[0m \n",
              "data consisting of a set of \u001b[30;48;2;255;255;0mtraining\u001b[0m examples. In \u001b[30;48;2;255;255;0msupervised\u001b[0m learning, each example is a pair\n",
              "consisting of an input object (typically a vector) and a desired output value (also called \n",
              "the supervisory signal). A \u001b[30;48;2;255;255;0msupervised\u001b[0m \u001b[30;48;2;255;255;0mlearning\u001b[0m \u001b[30;48;2;255;255;0malgorithm\u001b[0m \u001b[30;48;2;255;255;0manalyzes\u001b[0m the \u001b[30;48;2;255;255;0mtraining\u001b[0m data and \n",
              "produces an inferred function, which can be used for mapping new examples. An optimal \n",
              "scenario will allow for the \u001b[30;48;2;255;255;0malgorithm\u001b[0m to correctly determine the class labels for unseen \n",
              "instances. This requires the \u001b[30;48;2;255;255;0mlearning\u001b[0m \u001b[30;48;2;255;255;0malgorithm\u001b[0m to generalize from the \u001b[30;48;2;255;255;0mtraining\u001b[0m data to \n",
              "unseen situations in a 'reasonable' way (see inductive bias).\n"
            ]
          },
          "metadata": {
            "tags": []
          }
        }
      ]
    },
    {
      "cell_type": "code",
      "metadata": {
        "colab": {
          "base_uri": "https://localhost:8080/"
        },
        "id": "UuDXbpWcB1P4",
        "outputId": "c134b8a1-35c2-4b50-9b96-c6ab5ee8fa50"
      },
      "source": [
        "kw_model.extract_keywords(doc, keyphrase_ngram_range=(3, 3), stop_words='english', \n",
        "                              use_maxsum=True, nr_candidates=20, top_n=5)"
      ],
      "execution_count": 7,
      "outputs": [
        {
          "output_type": "execute_result",
          "data": {
            "text/plain": [
              "[('training data unseen', 0.5125),\n",
              " ('instances requires learning', 0.3058),\n",
              " ('learning function maps', 0.2139),\n",
              " ('machine learning task', 0.1737),\n",
              " ('algorithm generalize training', 0.3765)]"
            ]
          },
          "metadata": {
            "tags": []
          },
          "execution_count": 7
        }
      ]
    },
    {
      "cell_type": "code",
      "metadata": {
        "colab": {
          "base_uri": "https://localhost:8080/"
        },
        "id": "SA4N5o2ZCAPo",
        "outputId": "2b991388-c7d1-416f-e179-990e5030305f"
      },
      "source": [
        "kw_model.extract_keywords(doc, keyphrase_ngram_range=(3, 3), stop_words='english', \n",
        "                              use_mmr=True, diversity=0.7)"
      ],
      "execution_count": 8,
      "outputs": [
        {
          "output_type": "execute_result",
          "data": {
            "text/plain": [
              "[('supervised learning example', 0.7558),\n",
              " ('input output pairs', 0.1015),\n",
              " ('object typically vector', 0.2502),\n",
              " ('situations reasonable way', 0.1763),\n",
              " ('determine class labels', 0.2358)]"
            ]
          },
          "metadata": {
            "tags": []
          },
          "execution_count": 8
        }
      ]
    },
    {
      "cell_type": "code",
      "metadata": {
        "colab": {
          "base_uri": "https://localhost:8080/"
        },
        "id": "Ez0BB_WACgBb",
        "outputId": "16bf7395-88ca-4af5-d8d1-b75aa8128b03"
      },
      "source": [
        "kw_model.extract_keywords(doc, keyphrase_ngram_range=(3, 3), stop_words='english', \n",
        "                              use_mmr=True, diversity=0.2)"
      ],
      "execution_count": 9,
      "outputs": [
        {
          "output_type": "execute_result",
          "data": {
            "text/plain": [
              "[('supervised learning example', 0.7558),\n",
              " ('supervised learning machine', 0.6989),\n",
              " ('examples supervised learning', 0.7041),\n",
              " ('supervised learning algorithm', 0.6769),\n",
              " ('signal supervised learning', 0.6209)]"
            ]
          },
          "metadata": {
            "tags": []
          },
          "execution_count": 9
        }
      ]
    },
    {
      "cell_type": "code",
      "metadata": {
        "id": "T4mpyWNhC1EN"
      },
      "source": [
        "from keybert import KeyBERT\n",
        "from sentence_transformers import SentenceTransformer\n",
        "\n",
        "sentence_model = SentenceTransformer(\"paraphrase-MiniLM-L6-v2\")\n",
        "kw_model = KeyBERT(model=sentence_model)"
      ],
      "execution_count": 10,
      "outputs": []
    },
    {
      "cell_type": "code",
      "metadata": {
        "colab": {
          "base_uri": "https://localhost:8080/"
        },
        "id": "LMqeuLxhFWoB",
        "outputId": "e069f277-4ba8-416c-b4d5-86bd23d777b0"
      },
      "source": [
        "kw_model.extract_keywords(doc, keyphrase_ngram_range=(1, 1), stop_words=None)"
      ],
      "execution_count": 12,
      "outputs": [
        {
          "output_type": "execute_result",
          "data": {
            "text/plain": [
              "[('supervised', 0.5864),\n",
              " ('learning', 0.4431),\n",
              " ('analyzes', 0.3552),\n",
              " ('algorithm', 0.3514),\n",
              " ('training', 0.3099)]"
            ]
          },
          "metadata": {
            "tags": []
          },
          "execution_count": 12
        }
      ]
    },
    {
      "cell_type": "code",
      "metadata": {
        "colab": {
          "base_uri": "https://localhost:8080/"
        },
        "id": "vRrdz0YLFWoI",
        "outputId": "168c81dd-a9af-4cae-a632-055cbcd93961"
      },
      "source": [
        "kw_model.extract_keywords(doc, keyphrase_ngram_range=(1, 2), stop_words=None)"
      ],
      "execution_count": 13,
      "outputs": [
        {
          "output_type": "execute_result",
          "data": {
            "text/plain": [
              "[('supervised learning', 0.7035),\n",
              " ('in supervised', 0.6108),\n",
              " ('supervised', 0.5864),\n",
              " ('machine learning', 0.5707),\n",
              " ('learning algorithm', 0.525)]"
            ]
          },
          "metadata": {
            "tags": []
          },
          "execution_count": 13
        }
      ]
    },
    {
      "cell_type": "code",
      "metadata": {
        "colab": {
          "base_uri": "https://localhost:8080/",
          "height": 161
        },
        "id": "3a2t4pBtFWoM",
        "outputId": "e1491af3-25fe-4592-edc9-d05ca400e2ac"
      },
      "source": [
        "keywords = kw_model.extract_keywords(doc, highlight=True)"
      ],
      "execution_count": 14,
      "outputs": [
        {
          "output_type": "display_data",
          "data": {
            "text/html": [
              "<pre style=\"white-space:pre;overflow-x:auto;line-height:normal;font-family:Menlo,'DejaVu Sans Mono',consolas,'Courier New',monospace\"><span style=\"color: #000000; text-decoration-color: #000000; background-color: #ffff00\">Supervised</span> <span style=\"color: #000000; text-decoration-color: #000000; background-color: #ffff00\">learning</span> is the machine <span style=\"color: #000000; text-decoration-color: #000000; background-color: #ffff00\">learning</span> task of <span style=\"color: #000000; text-decoration-color: #000000; background-color: #ffff00\">learning</span> a function that maps an input to\n",
              "an output based on example input-output pairs. It infers a function from labeled <span style=\"color: #000000; text-decoration-color: #000000; background-color: #ffff00\">training</span> \n",
              "data consisting of a set of <span style=\"color: #000000; text-decoration-color: #000000; background-color: #ffff00\">training</span> examples. In <span style=\"color: #000000; text-decoration-color: #000000; background-color: #ffff00\">supervised</span> learning, each example is a pair\n",
              "consisting of an input object (typically a vector) and a desired output value (also called \n",
              "the supervisory signal). A <span style=\"color: #000000; text-decoration-color: #000000; background-color: #ffff00\">supervised</span> <span style=\"color: #000000; text-decoration-color: #000000; background-color: #ffff00\">learning</span> <span style=\"color: #000000; text-decoration-color: #000000; background-color: #ffff00\">algorithm</span> <span style=\"color: #000000; text-decoration-color: #000000; background-color: #ffff00\">analyzes</span> the <span style=\"color: #000000; text-decoration-color: #000000; background-color: #ffff00\">training</span> data and \n",
              "produces an inferred function, which can be used for mapping new examples. An optimal \n",
              "scenario will allow for the <span style=\"color: #000000; text-decoration-color: #000000; background-color: #ffff00\">algorithm</span> to correctly determine the class labels for unseen \n",
              "instances. This requires the <span style=\"color: #000000; text-decoration-color: #000000; background-color: #ffff00\">learning</span> <span style=\"color: #000000; text-decoration-color: #000000; background-color: #ffff00\">algorithm</span> to generalize from the <span style=\"color: #000000; text-decoration-color: #000000; background-color: #ffff00\">training</span> data to \n",
              "unseen situations in a 'reasonable' way (see inductive bias).\n",
              "</pre>\n"
            ],
            "text/plain": [
              "\u001b[30;48;2;255;255;0mSupervised\u001b[0m \u001b[30;48;2;255;255;0mlearning\u001b[0m is the machine \u001b[30;48;2;255;255;0mlearning\u001b[0m task of \u001b[30;48;2;255;255;0mlearning\u001b[0m a function that maps an input to\n",
              "an output based on example input-output pairs. It infers a function from labeled \u001b[30;48;2;255;255;0mtraining\u001b[0m \n",
              "data consisting of a set of \u001b[30;48;2;255;255;0mtraining\u001b[0m examples. In \u001b[30;48;2;255;255;0msupervised\u001b[0m learning, each example is a pair\n",
              "consisting of an input object (typically a vector) and a desired output value (also called \n",
              "the supervisory signal). A \u001b[30;48;2;255;255;0msupervised\u001b[0m \u001b[30;48;2;255;255;0mlearning\u001b[0m \u001b[30;48;2;255;255;0malgorithm\u001b[0m \u001b[30;48;2;255;255;0manalyzes\u001b[0m the \u001b[30;48;2;255;255;0mtraining\u001b[0m data and \n",
              "produces an inferred function, which can be used for mapping new examples. An optimal \n",
              "scenario will allow for the \u001b[30;48;2;255;255;0malgorithm\u001b[0m to correctly determine the class labels for unseen \n",
              "instances. This requires the \u001b[30;48;2;255;255;0mlearning\u001b[0m \u001b[30;48;2;255;255;0malgorithm\u001b[0m to generalize from the \u001b[30;48;2;255;255;0mtraining\u001b[0m data to \n",
              "unseen situations in a 'reasonable' way (see inductive bias).\n"
            ]
          },
          "metadata": {
            "tags": []
          }
        }
      ]
    },
    {
      "cell_type": "code",
      "metadata": {
        "colab": {
          "base_uri": "https://localhost:8080/"
        },
        "id": "trVfTWnjFWoO",
        "outputId": "2da05b54-7621-4c9f-8d5d-20d9d0a52ddb"
      },
      "source": [
        "kw_model.extract_keywords(doc, keyphrase_ngram_range=(3, 3), stop_words='english', \n",
        "                              use_maxsum=True, nr_candidates=20, top_n=5)"
      ],
      "execution_count": 15,
      "outputs": [
        {
          "output_type": "execute_result",
          "data": {
            "text/plain": [
              "[('training data unseen', 0.5125),\n",
              " ('instances requires learning', 0.3058),\n",
              " ('learning function maps', 0.2139),\n",
              " ('machine learning task', 0.1737),\n",
              " ('algorithm generalize training', 0.3765)]"
            ]
          },
          "metadata": {
            "tags": []
          },
          "execution_count": 15
        }
      ]
    },
    {
      "cell_type": "code",
      "metadata": {
        "colab": {
          "base_uri": "https://localhost:8080/"
        },
        "id": "pytrjA2WFWoR",
        "outputId": "57018deb-b334-4839-f819-c5aff948f902"
      },
      "source": [
        "kw_model.extract_keywords(doc, keyphrase_ngram_range=(3, 3), stop_words='english', \n",
        "                              use_mmr=True, diversity=0.7)"
      ],
      "execution_count": 16,
      "outputs": [
        {
          "output_type": "execute_result",
          "data": {
            "text/plain": [
              "[('supervised learning example', 0.7558),\n",
              " ('input output pairs', 0.1015),\n",
              " ('object typically vector', 0.2502),\n",
              " ('situations reasonable way', 0.1763),\n",
              " ('determine class labels', 0.2358)]"
            ]
          },
          "metadata": {
            "tags": []
          },
          "execution_count": 16
        }
      ]
    },
    {
      "cell_type": "code",
      "metadata": {
        "colab": {
          "base_uri": "https://localhost:8080/"
        },
        "id": "bpu8YRJgFWoT",
        "outputId": "756994bb-623b-4f84-b809-b4e4c978f3c5"
      },
      "source": [
        "kw_model.extract_keywords(doc, keyphrase_ngram_range=(3, 3), stop_words='english', \n",
        "                              use_mmr=True, diversity=0.2)"
      ],
      "execution_count": 17,
      "outputs": [
        {
          "output_type": "execute_result",
          "data": {
            "text/plain": [
              "[('supervised learning example', 0.7558),\n",
              " ('supervised learning machine', 0.6989),\n",
              " ('examples supervised learning', 0.7041),\n",
              " ('supervised learning algorithm', 0.6769),\n",
              " ('signal supervised learning', 0.6209)]"
            ]
          },
          "metadata": {
            "tags": []
          },
          "execution_count": 17
        }
      ]
    }
  ]
}