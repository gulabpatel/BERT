{
  "nbformat": 4,
  "nbformat_minor": 0,
  "metadata": {
    "colab": {
      "name": "10: BERT, DistillBert, ALBERT, RoBERTa, XNNet, GPT2_Classification.ipynb",
      "provenance": [],
      "collapsed_sections": [
        "E6BxJG3XtV84",
        "IC1tBYxRA6iU",
        "lri8KEomGkAh",
        "kFiArS_C4DlQ",
        "wwHNCEdHEaSz",
        "fZKbpevQ7a-h",
        "6QGPheuGXqIV",
        "wOz-aOhucHlf",
        "AHM3fSwmXs39",
        "VHbXqbckfqEo",
        "cLbK5JgBFkua",
        "KkM5QS7-BWrU",
        "vY0pHkn6mhYm",
        "kINbb8yIwFff",
        "-THS6Ok_XCSH",
        "kiSeT-4YwFfg",
        "XSybv8T4wFfg",
        "jGRK8fUfwFfg",
        "BRMtnpJ5wFfh",
        "t8fzWG5hw7rE",
        "c95d2LP5XGFm",
        "fYn3lsgYw7rL",
        "oxy_rKYUw7rN",
        "Q4cPsPMKw7rQ",
        "HnM7tMYDw7rT",
        "7afhBl6Lr2-V",
        "lhbg8DNEXKbl",
        "Sr-OL53Or2-Z",
        "Re320PdZr2-a",
        "bLOxFxOdr2-c",
        "es0jaUt_r2-d",
        "CmBcXmA_whrO",
        "yU3E8E2uXTWL",
        "vkOrqt-ywhrR",
        "sGXh1G4BwhrR",
        "gFaKlixUwhrS",
        "sACsGeJ8whrU",
        "Yr5JKDhBsAWS",
        "VCksRw4TL8xG",
        "nSyd4V2OL_Eo",
        "w0koK3CBLy19",
        "GevTfVV6Y7ZN",
        "DTXvFqcOLqMr",
        "hb1YZcAPLimH",
        "-SqL7dLuLaqN",
        "Z3XAE2JGLR3e",
        "doKtdR5qbiq0",
        "jYGBIz7qb5Py",
        "ruEMXcq5cKZv",
        "qjuCtVQtMKD3"
      ],
      "include_colab_link": true
    },
    "kernelspec": {
      "name": "python3",
      "display_name": "Python 3"
    },
    "accelerator": "GPU",
    "gpuClass": "standard"
  },
  "cells": [
    {
      "cell_type": "markdown",
      "metadata": {
        "id": "view-in-github",
        "colab_type": "text"
      },
      "source": [
        "<a href=\"https://colab.research.google.com/github/gulabpatel/NLP_BERT/blob/main/10%3A%20Classification_BERT_DistillBert_ALBERT_RoBERTa_XNNet_GPT2.ipynb\" target=\"_parent\"><img src=\"https://colab.research.google.com/assets/colab-badge.svg\" alt=\"Open In Colab\"/></a>"
      ]
    },
    {
      "cell_type": "markdown",
      "source": [
        "# Data Loading, EDA & Preprocessing"
      ],
      "metadata": {
        "id": "E6BxJG3XtV84"
      }
    },
    {
      "cell_type": "code",
      "metadata": {
        "id": "b50CCOvhAXfk"
      },
      "source": [
        "## Installing Simple Transformers\n",
        "!pip install simpletransformers"
      ],
      "execution_count": null,
      "outputs": []
    },
    {
      "cell_type": "code",
      "metadata": {
        "id": "_UkeC7SG2krJ"
      },
      "source": [
        "## Read Data\n",
        "import pandas as pd\n",
        "import numpy as np\n",
        "import csv\n",
        "from sklearn.model_selection import train_test_split\n",
        "from sklearn.metrics import accuracy_score\n",
        "from sklearn.metrics import classification_report\n",
        "from sklearn.metrics import confusion_matrix\n",
        "from sklearn.metrics import f1_score\n",
        "from sklearn.metrics import precision_score\n",
        "from sklearn.utils import class_weight"
      ],
      "execution_count": null,
      "outputs": []
    },
    {
      "cell_type": "code",
      "source": [
        "from google.colab import drive\n",
        "drive.mount('/content/drive')"
      ],
      "metadata": {
        "colab": {
          "base_uri": "https://localhost:8080/"
        },
        "id": "F9YXiqtRUSxS",
        "outputId": "a8019b23-c204-4df2-a06b-d382995362d0"
      },
      "execution_count": null,
      "outputs": [
        {
          "output_type": "stream",
          "name": "stdout",
          "text": [
            "Mounted at /content/drive\n"
          ]
        }
      ]
    },
    {
      "cell_type": "code",
      "source": [
        "df = pd.read_csv(\"/content/drive/MyDrive/dataset/tripadvisor_hotel_reviews.csv\")\n",
        "df.sample(10)"
      ],
      "metadata": {
        "id": "Qby2C-zHUYg3"
      },
      "execution_count": null,
      "outputs": []
    },
    {
      "cell_type": "markdown",
      "metadata": {
        "id": "IC1tBYxRA6iU"
      },
      "source": [
        "## EDA and Prep Data for SimpleTransformers"
      ]
    },
    {
      "cell_type": "code",
      "source": [
        "df[\"Review\"] = df[\"Review\"].apply(lambda x: x.replace(\"* \", \"\"))\n",
        "df[\"Review\"] = df[\"Review\"].apply(lambda x: x.replace(\"__Ç_é_\", \"s\"))\n",
        "df[\"Review\"] = df[\"Review\"].apply(lambda x: x.replace(\"__Ç\", \"s\"))\n",
        "df[\"Review\"] = df[\"Review\"].apply(lambda x: x.replace(\"///\", \" \"))"
      ],
      "metadata": {
        "id": "G8ZAtvP0WYEf"
      },
      "execution_count": null,
      "outputs": []
    },
    {
      "cell_type": "code",
      "metadata": {
        "id": "oeA6OK4H2eVL"
      },
      "source": [
        "# Rename 'sentence' column to 'text' (this is the name SimpleTransformers expects).\n",
        "df.columns = ['text', 'label']"
      ],
      "execution_count": null,
      "outputs": []
    },
    {
      "cell_type": "markdown",
      "source": [
        "Tramsformer assumes label from 0 to Num_labels."
      ],
      "metadata": {
        "id": "AvDPNybHarg-"
      }
    },
    {
      "cell_type": "code",
      "source": [
        "# Dict={1:0,2:1,3:2,4:3,5:4}\n",
        "# df['label']=df['label'].map(Dict)\n",
        "df['label'] = df['label'].apply(lambda x:x-1)"
      ],
      "metadata": {
        "id": "FtnrgzfnR6EO"
      },
      "execution_count": null,
      "outputs": []
    },
    {
      "cell_type": "markdown",
      "source": [
        "## EDA"
      ],
      "metadata": {
        "id": "lri8KEomGkAh"
      }
    },
    {
      "cell_type": "markdown",
      "source": [
        "Check Missing values"
      ],
      "metadata": {
        "id": "D_9YgUabaKlE"
      }
    },
    {
      "cell_type": "code",
      "source": [
        "df.isnull().sum()"
      ],
      "metadata": {
        "colab": {
          "base_uri": "https://localhost:8080/"
        },
        "id": "5sC9VFPGSLlr",
        "outputId": "a961ebaf-75ee-453f-8ac1-22bcf8d603db"
      },
      "execution_count": null,
      "outputs": [
        {
          "output_type": "execute_result",
          "data": {
            "text/plain": [
              "text     0\n",
              "label    0\n",
              "dtype: int64"
            ]
          },
          "metadata": {},
          "execution_count": 8
        }
      ]
    },
    {
      "cell_type": "markdown",
      "source": [
        "Check calss imbalancy"
      ],
      "metadata": {
        "id": "BQz_PWyDaNMa"
      }
    },
    {
      "cell_type": "code",
      "source": [
        "df.label.value_counts()"
      ],
      "metadata": {
        "colab": {
          "base_uri": "https://localhost:8080/"
        },
        "id": "DJJv7pVUGnw_",
        "outputId": "00ddb829-818a-4198-d76a-49b109bd69bd"
      },
      "execution_count": null,
      "outputs": [
        {
          "output_type": "execute_result",
          "data": {
            "text/plain": [
              "4    9054\n",
              "3    6039\n",
              "2    2184\n",
              "1    1793\n",
              "0    1421\n",
              "Name: label, dtype: int64"
            ]
          },
          "metadata": {},
          "execution_count": 9
        }
      ]
    },
    {
      "cell_type": "code",
      "source": [
        "df.groupby(\"label\").size().plot.bar()"
      ],
      "metadata": {
        "id": "QvfSB3fxDFtH",
        "colab": {
          "base_uri": "https://localhost:8080/"
        },
        "outputId": "af32ab21-f627-49f5-a765-f0ed82e0439c"
      },
      "execution_count": null,
      "outputs": [
        {
          "output_type": "execute_result",
          "data": {
            "text/plain": [
              "<matplotlib.axes._subplots.AxesSubplot at 0x7f0cc701c550>"
            ]
          },
          "metadata": {},
          "execution_count": 10
        },
        {
          "output_type": "display_data",
          "data": {
            "text/plain": [
              "<Figure size 432x288 with 1 Axes>"
            ],
            "image/png": "[encoded data removed]"
          },
          "metadata": {
            "needs_background": "light"
          }
        }
      ]
    },
    {
      "cell_type": "markdown",
      "source": [
        "Data is imbalance, let's calculate the class_weights"
      ],
      "metadata": {
        "id": "PVZIc6SNaQbh"
      }
    },
    {
      "cell_type": "code",
      "source": [
        "from sklearn.utils.class_weight import compute_class_weight\n",
        "class_weights = compute_class_weight(class_weight = \"balanced\", classes= np.unique(df.label), y= df.label)"
      ],
      "metadata": {
        "id": "9_SFTTxHbhQT"
      },
      "execution_count": null,
      "outputs": []
    },
    {
      "cell_type": "markdown",
      "metadata": {
        "id": "Wv7xPZlNCvr1"
      },
      "source": [
        "Split off 80-10-10% for Training, validation and Testing.\n"
      ]
    },
    {
      "cell_type": "code",
      "metadata": {
        "id": "loJK0iLaCXDZ",
        "colab": {
          "base_uri": "https://localhost:8080/"
        },
        "outputId": "42e8f398-f98c-451d-8104-f15bb80c66f6"
      },
      "source": [
        "# Use 80% for training and 10% for validation and 10% for testing.\n",
        "train_df, val_df = train_test_split(df, random_state=2018, test_size=0.2)\n",
        "validation_df, test_df = train_test_split(val_df, random_state=2018, test_size=0.5)\n",
        "\n",
        "print(\"train_df size : \", len(train_df))\n",
        "print(\"validation_df size : \", len(validation_df))\n",
        "print(\"test_df size : \", len(test_df))"
      ],
      "execution_count": null,
      "outputs": [
        {
          "output_type": "stream",
          "name": "stdout",
          "text": [
            "train_df size :  16392\n",
            "validation_df size :  2049\n",
            "test_df size :  2050\n"
          ]
        }
      ]
    },
    {
      "cell_type": "markdown",
      "metadata": {
        "id": "kFiArS_C4DlQ"
      },
      "source": [
        "# Model 1 Bert(bert base uncased)"
      ]
    },
    {
      "cell_type": "markdown",
      "metadata": {
        "id": "aH5bIzq_DXct"
      },
      "source": [
        "\n",
        "reprocess_input_data: bool\n",
        "If True, the input data will be reprocessed even if a cached file of the input data exists in the cache_dir.\n",
        "\n",
        "supported models https://simpletransformers.ai/docs/classification-specifics/#supported-model-types"
      ]
    },
    {
      "cell_type": "code",
      "metadata": {
        "id": "ITLUMV1CBmQS",
        "outputId": "42e30020-e105-425a-f9f3-e0d7bb5f81de",
        "colab": {
          "base_uri": "https://localhost:8080/",
          "height": 284,
          "referenced_widgets": [
            "08eefeed053245a7bbfbd1ee57e9bf27",
            "85d25eee8ca74078aeab160967a1c8c3",
            "f12f99a6c33d40a2bdf7ecedb8831fc8",
            "63ce303ccc2d4b4681f4f9b8c43cc256",
            "8ec8e07e55c8401e9579647d3ce8d6e2",
            "ab89b96360b54999a5082d4a15ae737a",
            "e9afb324a41541cb97e5f6e747121751",
            "fc2f533472834b438a27944bd58dc0f1",
            "ff52a564b25049ac89946d6178acb7c4",
            "c88dd478b44849d2a77eaecf25ffe273",
            "64f0b280c4d145619b65ef90ad4a28b1",
            "f4b83c8e0bda4e4c8bc1e4c91e12c010",
            "8c4f33c49b8548899489a56f932656ad",
            "62866911859b460cb73eef076a1795a1",
            "6ebfb4bdbe5741b380e3965e5b62f2ed",
            "a89cd965899548198eac44fadeca99db",
            "89b6258549ba436d9c1c54d39562e63d",
            "d1453b9561a74200a129337a924b042d",
            "8fe5fb6556ee46b097993729af60f0b3",
            "11280d8b63614beaaee5b52351119c8e",
            "da72549a6514441298a95c122369a0f1",
            "ffff8ae6cd9041efae76cfb56f9bdd47",
            "4787bba030a548cbb860144df3477e1b",
            "5a41551d951340efb3436e9ebee43abc",
            "8656e2a28ba34e9d92fffdd59a37ea3a",
            "d292aeea3b7346a59e6635672c8deb73",
            "c3a6ff395822469eb31ddbb93df059ae",
            "2a598fd6e611474b863c9d5eee3e6947",
            "a83b52bb7d754128878c252da57328f8",
            "68c05b64fc284175b0706153d4ca6568",
            "cf9a78a4faf4480298c32f7283d6b386",
            "88a25dfd161f46f7b2f1f97546d983dc",
            "42d76ae68c4f4e609e096310aaae046c",
            "884a9a305acf4251b2b5a7fe51756c7d",
            "401230600af5487ba7ff271b1aa843f8",
            "3c8675b179614c4c87bba9aadb7953f1",
            "cc2118a382724b80ad5237e26c9211b3",
            "21292a67c69e4ae3b5cc0727f63bc70d",
            "66c625f4df2544ba98892d2db66e8130",
            "96e4347784ef4634876a1c0761b81cc6",
            "20eb815386bd426a896a42c90624e532",
            "fb774abfa21b473f8170c1d52557efe7",
            "9968135458f445278cf317c5e554c799",
            "c5b3a5d5c5e648d79d5612cdeed376e9",
            "75f0d705f2c440b6b786409a9a0e9a7e",
            "d079b7b5dbcf4eb0b095a65e9e6926b7",
            "a5f2c2a7ed0b40cca27a971f664688a9",
            "9b2fc4329bca4d48858ddff5b1800abe",
            "0ac4bef5461e4dd99e2dbdf4fcd7ac38",
            "cb5d385e9a8e4cd69cc1a2a98264d3cf",
            "42e064d5abaf4018a1092ada0e4c99df",
            "1ff1cabad1574dd7bd0409e99b185db6",
            "79ba570d80174baabc9f9f17dfa6b770",
            "1c53d0bbd07940f2a29140d3226559e7",
            "832961fa9ca24f4e959f082147a91bc7"
          ]
        }
      },
      "source": [
        "from simpletransformers.classification import ClassificationModel\n",
        "\n",
        "args = {\n",
        "    'reprocess_input_data': True, \n",
        "    'overwrite_output_dir': True\n",
        "}\n",
        "\n",
        "model = ClassificationModel('bert', 'bert-base-uncased', num_labels=5, args=args)"
      ],
      "execution_count": null,
      "outputs": [
        {
          "output_type": "display_data",
          "data": {
            "text/plain": [
              "Downloading:   0%|          | 0.00/570 [00:00<?, ?B/s]"
            ],
            "application/vnd.jupyter.widget-view+json": {
              "version_major": 2,
              "version_minor": 0,
              "model_id": "08eefeed053245a7bbfbd1ee57e9bf27"
            }
          },
          "metadata": {}
        },
        {
          "output_type": "display_data",
          "data": {
            "text/plain": [
              "Downloading:   0%|          | 0.00/420M [00:00<?, ?B/s]"
            ],
            "application/vnd.jupyter.widget-view+json": {
              "version_major": 2,
              "version_minor": 0,
              "model_id": "f4b83c8e0bda4e4c8bc1e4c91e12c010"
            }
          },
          "metadata": {}
        },
        {
          "output_type": "stream",
          "name": "stderr",
          "text": [
            "Some weights of the model checkpoint at bert-base-uncased were not used when initializing BertForSequenceClassification: ['cls.predictions.decoder.weight', 'cls.predictions.transform.LayerNorm.bias', 'cls.predictions.transform.dense.weight', 'cls.seq_relationship.bias', 'cls.predictions.transform.dense.bias', 'cls.seq_relationship.weight', 'cls.predictions.bias', 'cls.predictions.transform.LayerNorm.weight']\n",
            "- This IS expected if you are initializing BertForSequenceClassification from the checkpoint of a model trained on another task or with another architecture (e.g. initializing a BertForSequenceClassification model from a BertForPreTraining model).\n",
            "- This IS NOT expected if you are initializing BertForSequenceClassification from the checkpoint of a model that you expect to be exactly identical (initializing a BertForSequenceClassification model from a BertForSequenceClassification model).\n",
            "Some weights of BertForSequenceClassification were not initialized from the model checkpoint at bert-base-uncased and are newly initialized: ['classifier.weight', 'classifier.bias']\n",
            "You should probably TRAIN this model on a down-stream task to be able to use it for predictions and inference.\n"
          ]
        },
        {
          "output_type": "display_data",
          "data": {
            "text/plain": [
              "Downloading:   0%|          | 0.00/28.0 [00:00<?, ?B/s]"
            ],
            "application/vnd.jupyter.widget-view+json": {
              "version_major": 2,
              "version_minor": 0,
              "model_id": "4787bba030a548cbb860144df3477e1b"
            }
          },
          "metadata": {}
        },
        {
          "output_type": "display_data",
          "data": {
            "text/plain": [
              "Downloading:   0%|          | 0.00/226k [00:00<?, ?B/s]"
            ],
            "application/vnd.jupyter.widget-view+json": {
              "version_major": 2,
              "version_minor": 0,
              "model_id": "884a9a305acf4251b2b5a7fe51756c7d"
            }
          },
          "metadata": {}
        },
        {
          "output_type": "display_data",
          "data": {
            "text/plain": [
              "Downloading:   0%|          | 0.00/455k [00:00<?, ?B/s]"
            ],
            "application/vnd.jupyter.widget-view+json": {
              "version_major": 2,
              "version_minor": 0,
              "model_id": "75f0d705f2c440b6b786409a9a0e9a7e"
            }
          },
          "metadata": {}
        }
      ]
    },
    {
      "cell_type": "markdown",
      "metadata": {
        "id": "wwHNCEdHEaSz"
      },
      "source": [
        "## Inspect Training Arguments"
      ]
    },
    {
      "cell_type": "markdown",
      "metadata": {
        "id": "HeBRWPzmqUze"
      },
      "source": [
        "Retrieves all of the arguments and their values, and prints them in a table.\n"
      ]
    },
    {
      "cell_type": "code",
      "metadata": {
        "id": "ADMTSlPv4tsh",
        "colab": {
          "base_uri": "https://localhost:8080/",
          "height": 424
        },
        "outputId": "e8840756-6506-4cf3-bf67-aa42c879971a"
      },
      "source": [
        "arg_values = []\n",
        "pd.set_option('display.max_rows', 80)\n",
        "\n",
        "# For all of the arguments...\n",
        "for arg in dir(model.args):\n",
        "    \n",
        "    # Skip over the special attributes and any functions.\n",
        "    if (not arg[0:2] == '__') and (not callable(getattr(model.args, arg))):\n",
        "    \n",
        "        # Store the argument and its value as a tuple.\n",
        "        arg_values.append((arg, str(getattr(model.args, arg))))\n",
        "\n",
        "# Store as a dataframe just to get the pretty printout.\n",
        "df_args = pd.DataFrame(arg_values)        \n",
        "\n",
        "df_args"
      ],
      "execution_count": null,
      "outputs": [
        {
          "output_type": "execute_result",
          "data": {
            "text/plain": [
              "                           0               1\n",
              "0            adafactor_beta1            None\n",
              "1   adafactor_clip_threshold             1.0\n",
              "2       adafactor_decay_rate            -0.8\n",
              "3              adafactor_eps  (1e-30, 0.001)\n",
              "4    adafactor_relative_step            True\n",
              "..                       ...             ...\n",
              "90              wandb_kwargs              {}\n",
              "91             wandb_project            None\n",
              "92              warmup_ratio            0.06\n",
              "93              warmup_steps               0\n",
              "94              weight_decay             0.0\n",
              "\n",
              "[95 rows x 2 columns]"
            ],
            "text/html": [
              "\n",
              "  <div id=\"df-daba1c6b-2436-413a-b436-65f868230fe0\">\n",
              "    <div class=\"colab-df-container\">\n",
              "      <div>\n",
              "<style scoped>\n",
              "    .dataframe tbody tr th:only-of-type {\n",
              "        vertical-align: middle;\n",
              "    }\n",
              "\n",
              "    .dataframe tbody tr th {\n",
              "        vertical-align: top;\n",
              "    }\n",
              "\n",
              "    .dataframe thead th {\n",
              "        text-align: right;\n",
              "    }\n",
              "</style>\n",
              "<table border=\"1\" class=\"dataframe\">\n",
              "  <thead>\n",
              "    <tr style=\"text-align: right;\">\n",
              "      <th></th>\n",
              "      <th>0</th>\n",
              "      <th>1</th>\n",
              "    </tr>\n",
              "  </thead>\n",
              "  <tbody>\n",
              "    <tr>\n",
              "      <th>0</th>\n",
              "      <td>adafactor_beta1</td>\n",
              "      <td>None</td>\n",
              "    </tr>\n",
              "    <tr>\n",
              "      <th>1</th>\n",
              "      <td>adafactor_clip_threshold</td>\n",
              "      <td>1.0</td>\n",
              "    </tr>\n",
              "    <tr>\n",
              "      <th>2</th>\n",
              "      <td>adafactor_decay_rate</td>\n",
              "      <td>-0.8</td>\n",
              "    </tr>\n",
              "    <tr>\n",
              "      <th>3</th>\n",
              "      <td>adafactor_eps</td>\n",
              "      <td>(1e-30, 0.001)</td>\n",
              "    </tr>\n",
              "    <tr>\n",
              "      <th>4</th>\n",
              "      <td>adafactor_relative_step</td>\n",
              "      <td>True</td>\n",
              "    </tr>\n",
              "    <tr>\n",
              "      <th>...</th>\n",
              "      <td>...</td>\n",
              "      <td>...</td>\n",
              "    </tr>\n",
              "    <tr>\n",
              "      <th>90</th>\n",
              "      <td>wandb_kwargs</td>\n",
              "      <td>{}</td>\n",
              "    </tr>\n",
              "    <tr>\n",
              "      <th>91</th>\n",
              "      <td>wandb_project</td>\n",
              "      <td>None</td>\n",
              "    </tr>\n",
              "    <tr>\n",
              "      <th>92</th>\n",
              "      <td>warmup_ratio</td>\n",
              "      <td>0.06</td>\n",
              "    </tr>\n",
              "    <tr>\n",
              "      <th>93</th>\n",
              "      <td>warmup_steps</td>\n",
              "      <td>0</td>\n",
              "    </tr>\n",
              "    <tr>\n",
              "      <th>94</th>\n",
              "      <td>weight_decay</td>\n",
              "      <td>0.0</td>\n",
              "    </tr>\n",
              "  </tbody>\n",
              "</table>\n",
              "<p>95 rows × 2 columns</p>\n",
              "</div>\n",
              "      <button class=\"colab-df-convert\" onclick=\"convertToInteractive('df-daba1c6b-2436-413a-b436-65f868230fe0')\"\n",
              "              title=\"Convert this dataframe to an interactive table.\"\n",
              "              style=\"display:none;\">\n",
              "        \n",
              "  <svg xmlns=\"http://www.w3.org/2000/svg\" height=\"24px\"viewBox=\"0 0 24 24\"\n",
              "       width=\"24px\">\n",
              "    <path d=\"M0 0h24v24H0V0z\" fill=\"none\"/>\n",
              "    <path d=\"M18.56 5.44l.94 2.06.94-2.06 2.06-.94-2.06-.94-.94-2.06-.94 2.06-2.06.94zm-11 1L8.5 8.5l.94-2.06 2.06-.94-2.06-.94L8.5 2.5l-.94 2.06-2.06.94zm10 10l.94 2.06.94-2.06 2.06-.94-2.06-.94-.94-2.06-.94 2.06-2.06.94z\"/><path d=\"M17.41 7.96l-1.37-1.37c-.4-.4-.92-.59-1.43-.59-.52 0-1.04.2-1.43.59L10.3 9.45l-7.72 7.72c-.78.78-.78 2.05 0 2.83L4 21.41c.39.39.9.59 1.41.59.51 0 1.02-.2 1.41-.59l7.78-7.78 2.81-2.81c.8-.78.8-2.07 0-2.86zM5.41 20L4 18.59l7.72-7.72 1.47 1.35L5.41 20z\"/>\n",
              "  </svg>\n",
              "      </button>\n",
              "      \n",
              "  <style>\n",
              "    .colab-df-container {\n",
              "      display:flex;\n",
              "      flex-wrap:wrap;\n",
              "      gap: 12px;\n",
              "    }\n",
              "\n",
              "    .colab-df-convert {\n",
              "      background-color: #E8F0FE;\n",
              "      border: none;\n",
              "      border-radius: 50%;\n",
              "      cursor: pointer;\n",
              "      display: none;\n",
              "      fill: #1967D2;\n",
              "      height: 32px;\n",
              "      padding: 0 0 0 0;\n",
              "      width: 32px;\n",
              "    }\n",
              "\n",
              "    .colab-df-convert:hover {\n",
              "      background-color: #E2EBFA;\n",
              "      box-shadow: 0px 1px 2px rgba(60, 64, 67, 0.3), 0px 1px 3px 1px rgba(60, 64, 67, 0.15);\n",
              "      fill: #174EA6;\n",
              "    }\n",
              "\n",
              "    [theme=dark] .colab-df-convert {\n",
              "      background-color: #3B4455;\n",
              "      fill: #D2E3FC;\n",
              "    }\n",
              "\n",
              "    [theme=dark] .colab-df-convert:hover {\n",
              "      background-color: #434B5C;\n",
              "      box-shadow: 0px 1px 3px 1px rgba(0, 0, 0, 0.15);\n",
              "      filter: drop-shadow(0px 1px 2px rgba(0, 0, 0, 0.3));\n",
              "      fill: #FFFFFF;\n",
              "    }\n",
              "  </style>\n",
              "\n",
              "      <script>\n",
              "        const buttonEl =\n",
              "          document.querySelector('#df-daba1c6b-2436-413a-b436-65f868230fe0 button.colab-df-convert');\n",
              "        buttonEl.style.display =\n",
              "          google.colab.kernel.accessAllowed ? 'block' : 'none';\n",
              "\n",
              "        async function convertToInteractive(key) {\n",
              "          const element = document.querySelector('#df-daba1c6b-2436-413a-b436-65f868230fe0');\n",
              "          const dataTable =\n",
              "            await google.colab.kernel.invokeFunction('convertToInteractive',\n",
              "                                                     [key], {});\n",
              "          if (!dataTable) return;\n",
              "\n",
              "          const docLinkHtml = 'Like what you see? Visit the ' +\n",
              "            '<a target=\"_blank\" href=https://colab.research.google.com/notebooks/data_table.ipynb>data table notebook</a>'\n",
              "            + ' to learn more about interactive tables.';\n",
              "          element.innerHTML = '';\n",
              "          dataTable['output_type'] = 'display_data';\n",
              "          await google.colab.output.renderOutput(dataTable, element);\n",
              "          const docLink = document.createElement('div');\n",
              "          docLink.innerHTML = docLinkHtml;\n",
              "          element.appendChild(docLink);\n",
              "        }\n",
              "      </script>\n",
              "    </div>\n",
              "  </div>\n",
              "  "
            ]
          },
          "metadata": {},
          "execution_count": 14
        }
      ]
    },
    {
      "cell_type": "markdown",
      "metadata": {
        "id": "fZKbpevQ7a-h"
      },
      "source": [
        "### Most Important Arguments\n",
        "\n",
        "Let's check the default parameters"
      ]
    },
    {
      "cell_type": "code",
      "metadata": {
        "id": "lL-QZ_2w7fzL",
        "colab": {
          "base_uri": "https://localhost:8080/"
        },
        "outputId": "91b9e3f2-3d23-4e69-89bf-9674d4d79192"
      },
      "source": [
        "print(\"train epochs : \", model.args.num_train_epochs)\n",
        "print(\"max_seq_length : \", model.args.max_seq_length)\n",
        "print(\"train_batch_size : \", model.args.train_batch_size)\n",
        "print(\"learning_rate : \", model.args.learning_rate)\n",
        "print(\"model_name : \", model.args.model_name)"
      ],
      "execution_count": null,
      "outputs": [
        {
          "output_type": "stream",
          "name": "stdout",
          "text": [
            "train epochs :  1\n",
            "max_seq_length :  128\n",
            "train_batch_size :  8\n",
            "learning_rate :  4e-05\n",
            "model_name :  bert-base-uncased\n"
          ]
        }
      ]
    },
    {
      "cell_type": "markdown",
      "metadata": {
        "id": "6QGPheuGXqIV"
      },
      "source": [
        "### Choose Hyperparameters"
      ]
    },
    {
      "cell_type": "code",
      "metadata": {
        "id": "4mHLBtrE-XTa"
      },
      "source": [
        "# These are the values we used in our Notebook:\n",
        "model.args.num_train_epochs = 4\n",
        "model.args.max_seq_length = 128\n",
        "model.args.train_batch_size = 32\n",
        "model.args.learning_rate = 2e-5"
      ],
      "execution_count": null,
      "outputs": []
    },
    {
      "cell_type": "markdown",
      "metadata": {
        "id": "wOz-aOhucHlf"
      },
      "source": [
        "### Configure Validation"
      ]
    },
    {
      "cell_type": "markdown",
      "metadata": {
        "id": "dMSDFNtEcLIt"
      },
      "source": [
        "Periodically evaluate on our 10% validation set during training to monitor over-fitting.\n",
        "\n",
        "Calculate number of steps so we can specify how often to evaluate."
      ]
    },
    {
      "cell_type": "code",
      "metadata": {
        "id": "W3h4WNIPcJe7"
      },
      "source": [
        "# Run evaluation periodically during training to monitor progress.\n",
        "model.args.evaluate_during_training = True\n",
        "\n",
        "# \"Print results from evaluation during training.\"\n",
        "model.args.evaluate_during_training_verbose = True\n",
        "\n",
        "# \"Perform evaluation at every specified steps.Checkpoint model and the evaluation results will be saved.\"\n",
        "model.args.evaluate_during_training_steps = 120\n",
        "\n",
        "# We only need to tokenize our validation set once, then we can read it from the cache.\n",
        "model.args.use_cached_eval_features = True"
      ],
      "execution_count": null,
      "outputs": []
    },
    {
      "cell_type": "markdown",
      "metadata": {
        "id": "AHM3fSwmXs39"
      },
      "source": [
        "### Configure Early Stopping"
      ]
    },
    {
      "cell_type": "markdown",
      "metadata": {
        "id": "OT1V5LmrXzwu"
      },
      "source": [
        "There's a nice intro to early stopping in their docs here:\n",
        "    \n",
        "* https://simpletransformers.ai/docs/usage/#using-early-stopping\n",
        "\n"
      ]
    },
    {
      "cell_type": "code",
      "metadata": {
        "id": "6m3mcaBnXjI_"
      },
      "source": [
        "# Turn on early stopping.\n",
        "model.args.use_early_stopping = True\n",
        "model.args.early_stopping_delta = 0.01\n",
        "model.args.early_stopping_metric = \"eval_loss\"\n",
        "model.args.early_stopping_metric_minimize = True\n",
        "# \"Terminate training after this many evaluations without an improvement in the\n",
        "#  evaluation metric greater then early_stopping_delta.\"\n",
        "model.args.early_stopping_patience = 2\n"
      ],
      "execution_count": null,
      "outputs": []
    },
    {
      "cell_type": "markdown",
      "metadata": {
        "id": "VHbXqbckfqEo"
      },
      "source": [
        "##Train"
      ]
    },
    {
      "cell_type": "code",
      "metadata": {
        "id": "XDTTZ6n7DECX",
        "colab": {
          "base_uri": "https://localhost:8080/",
          "height": 561,
          "referenced_widgets": [
            "ac9c48a50f0c478ab77d1f051d17bf33",
            "5f3c3d6b4dd540798289df58f654e1bd",
            "6178a8fff21a4040aa20ae6de1f462f8",
            "d34bda0c2d184ea1981be3fd0d4235d1",
            "567437c1d5514804b2c5e1e2c7aed1c5",
            "f302a54a62514c568824a1fa21159c60",
            "957d50af5b534bf6b7d7d56602bac662",
            "c8090b17bfa7482487ce8f056ab003cc",
            "9c58f67539414922935678617c24f230",
            "5e8a73b55d1c4890a1c8a58783b70a86",
            "26c5454bb548443f8b87f2125a89a6b5",
            "23b4f5f688cb4e15865a45c2e6619d57",
            "ef60cd9a29704439a98dbd094e080e35",
            "4ffadef1893c4ba4aec19af576f353a4",
            "0da4dafd7af84cf3a7b2f76908b3a976",
            "e02ac5faf1ba42978fcdb9c2660ecd6b",
            "6d09cdd72b224adcb505c375fd5d6b41",
            "f8834dd5d8c74330a367feb617940376",
            "33946fe5df734781904eb0148ce7cfc1",
            "0cec7d3006a94154b9e2e31244541deb",
            "8ff5a0e47f994881abf5f448646eb8c3",
            "83ef19d494364dcc89d6b9df3ac40d5e",
            "f61f4281ae904a6b8a220cadd2e7b577",
            "3b81c7a47c1a44e88dadfbe4173417c3",
            "11c026cd9eb1482ebd9702440c63fd4c",
            "30bb244d105f426385b7fa0173c717ba",
            "a61701e5fdde457c8745e28b1a6f3d3c",
            "8d4e10e1bd814f20ab35b3e3c844cff5",
            "e7a978b01a6f4c03a6e993deb3a02fe1",
            "b5fadd2aa986484aa36bcd38e90e5871",
            "3cdf9426fe67465f8e14a690939af449",
            "e67ae591701e4d85af3e57eda805a12b",
            "acd11d4c26c141a1a66c3a649f7cfd7a",
            "f413f435f6414477aae3a2f7852b94c2",
            "c1f11a7c1a8e4b66a450fdfae858719a",
            "cbb11761089c4460824587febaf4ad62",
            "140c152bb94a481084d59f1d7b09540b",
            "7fd0db0b0b084d5c88fdf8e27406910e",
            "6a4e752a97b94819b48562cdcedb35b6",
            "36041937ce184c9387bd7f190a6300e9",
            "93244fb56ce44d57a57b3898209e2a27",
            "2f2310cf4d594410a394a7831e4cf1e1",
            "a9882715342245839d7ea720602f8392",
            "4e86fd84bff54079a51b113f58d5ab48",
            "6590bc8a487e4ce1b2651d6838291625",
            "4d342afb5c3b4bafa2785ad21ea4bb70",
            "293ff68d77fa4cbd9e751244378d08d6",
            "a9ca7e847a494ae58daba9a1d5c53a76",
            "793aee45d3514104803d71511696ca5f",
            "ccbe1c01890c4d7491bed6e8f194007a",
            "583dfa136bc24b7983c0a358273f76d4",
            "499bc628cade4a33b2991027b428254a",
            "cb335f95a49b4ee39ae11ef90d019db1",
            "a0b32dc6ec2444f4bf3d093206f497b2",
            "bf4b90dc7c3d40fcaf47534338a24db8"
          ]
        },
        "outputId": "4288ad3e-6c6d-401e-bdd6-5fd2b1621a84"
      },
      "source": [
        "print('Training on {:,} samples...'.format(len(train_df)))\n",
        "\n",
        "# Train the model, testing against the validation set periodically.\n",
        "out = model.train_model(train_df, eval_df=validation_df)"
      ],
      "execution_count": null,
      "outputs": [
        {
          "output_type": "stream",
          "name": "stdout",
          "text": [
            "Training on 16,392 samples...\n"
          ]
        },
        {
          "output_type": "stream",
          "name": "stderr",
          "text": [
            "/usr/local/lib/python3.7/dist-packages/simpletransformers/classification/classification_model.py:602: UserWarning: Dataframe headers not specified. Falling back to using column 0 as text and column 1 as labels.\n",
            "  \"Dataframe headers not specified. Falling back to using column 0 as text and column 1 as labels.\"\n"
          ]
        },
        {
          "output_type": "display_data",
          "data": {
            "text/plain": [
              "  0%|          | 0/16392 [00:00<?, ?it/s]"
            ],
            "application/vnd.jupyter.widget-view+json": {
              "version_major": 2,
              "version_minor": 0,
              "model_id": "ac9c48a50f0c478ab77d1f051d17bf33"
            }
          },
          "metadata": {}
        },
        {
          "output_type": "stream",
          "name": "stderr",
          "text": [
            "/usr/local/lib/python3.7/dist-packages/transformers/optimization.py:310: FutureWarning: This implementation of AdamW is deprecated and will be removed in a future version. Use the PyTorch implementation torch.optim.AdamW instead, or set `no_deprecation_warning=True` to disable this warning\n",
            "  FutureWarning,\n"
          ]
        },
        {
          "output_type": "display_data",
          "data": {
            "text/plain": [
              "Epoch:   0%|          | 0/4 [00:00<?, ?it/s]"
            ],
            "application/vnd.jupyter.widget-view+json": {
              "version_major": 2,
              "version_minor": 0,
              "model_id": "23b4f5f688cb4e15865a45c2e6619d57"
            }
          },
          "metadata": {}
        },
        {
          "output_type": "display_data",
          "data": {
            "text/plain": [
              "Running Epoch 0 of 4:   0%|          | 0/513 [00:00<?, ?it/s]"
            ],
            "application/vnd.jupyter.widget-view+json": {
              "version_major": 2,
              "version_minor": 0,
              "model_id": "f61f4281ae904a6b8a220cadd2e7b577"
            }
          },
          "metadata": {}
        },
        {
          "output_type": "stream",
          "name": "stderr",
          "text": [
            "/usr/local/lib/python3.7/dist-packages/simpletransformers/classification/classification_model.py:1443: UserWarning: Dataframe headers not specified. Falling back to using column 0 as text and column 1 as labels.\n",
            "  \"Dataframe headers not specified. Falling back to using column 0 as text and column 1 as labels.\"\n"
          ]
        },
        {
          "output_type": "display_data",
          "data": {
            "text/plain": [
              "  0%|          | 0/2049 [00:00<?, ?it/s]"
            ],
            "application/vnd.jupyter.widget-view+json": {
              "version_major": 2,
              "version_minor": 0,
              "model_id": "f413f435f6414477aae3a2f7852b94c2"
            }
          },
          "metadata": {}
        },
        {
          "output_type": "stream",
          "name": "stderr",
          "text": [
            "/usr/local/lib/python3.7/dist-packages/simpletransformers/classification/classification_model.py:1443: UserWarning: Dataframe headers not specified. Falling back to using column 0 as text and column 1 as labels.\n",
            "  \"Dataframe headers not specified. Falling back to using column 0 as text and column 1 as labels.\"\n",
            "/usr/local/lib/python3.7/dist-packages/simpletransformers/classification/classification_model.py:1443: UserWarning: Dataframe headers not specified. Falling back to using column 0 as text and column 1 as labels.\n",
            "  \"Dataframe headers not specified. Falling back to using column 0 as text and column 1 as labels.\"\n",
            "/usr/local/lib/python3.7/dist-packages/simpletransformers/classification/classification_model.py:1443: UserWarning: Dataframe headers not specified. Falling back to using column 0 as text and column 1 as labels.\n",
            "  \"Dataframe headers not specified. Falling back to using column 0 as text and column 1 as labels.\"\n",
            "/usr/local/lib/python3.7/dist-packages/simpletransformers/classification/classification_model.py:1443: UserWarning: Dataframe headers not specified. Falling back to using column 0 as text and column 1 as labels.\n",
            "  \"Dataframe headers not specified. Falling back to using column 0 as text and column 1 as labels.\"\n"
          ]
        },
        {
          "output_type": "display_data",
          "data": {
            "text/plain": [
              "Running Epoch 1 of 4:   0%|          | 0/513 [00:00<?, ?it/s]"
            ],
            "application/vnd.jupyter.widget-view+json": {
              "version_major": 2,
              "version_minor": 0,
              "model_id": "6590bc8a487e4ce1b2651d6838291625"
            }
          },
          "metadata": {}
        },
        {
          "output_type": "stream",
          "name": "stderr",
          "text": [
            "/usr/local/lib/python3.7/dist-packages/simpletransformers/classification/classification_model.py:1443: UserWarning: Dataframe headers not specified. Falling back to using column 0 as text and column 1 as labels.\n",
            "  \"Dataframe headers not specified. Falling back to using column 0 as text and column 1 as labels.\"\n",
            "/usr/local/lib/python3.7/dist-packages/simpletransformers/classification/classification_model.py:1443: UserWarning: Dataframe headers not specified. Falling back to using column 0 as text and column 1 as labels.\n",
            "  \"Dataframe headers not specified. Falling back to using column 0 as text and column 1 as labels.\"\n",
            "/usr/local/lib/python3.7/dist-packages/simpletransformers/classification/classification_model.py:1443: UserWarning: Dataframe headers not specified. Falling back to using column 0 as text and column 1 as labels.\n",
            "  \"Dataframe headers not specified. Falling back to using column 0 as text and column 1 as labels.\"\n"
          ]
        }
      ]
    },
    {
      "cell_type": "markdown",
      "metadata": {
        "id": "cLbK5JgBFkua"
      },
      "source": [
        "## Evaluate on Test Set\n"
      ]
    },
    {
      "cell_type": "code",
      "metadata": {
        "id": "shHc3hNfh1OG"
      },
      "source": [
        "model = ClassificationModel(\n",
        "    \"bert\", \"outputs/best_model\"\n",
        ")"
      ],
      "execution_count": null,
      "outputs": []
    },
    {
      "cell_type": "markdown",
      "metadata": {
        "id": "apzWNC1pAHO7"
      },
      "source": [
        "**On Validation Set**"
      ]
    },
    {
      "cell_type": "code",
      "metadata": {
        "id": "u24h6JjSFsJ_",
        "colab": {
          "base_uri": "https://localhost:8080/",
          "height": 190,
          "referenced_widgets": [
            "f3dd77a95bcb455a83cb72caa9566d20",
            "e980d8cef0794edbbd2354540580e526",
            "4d38d8e276594b0eb44423591d6b9fd3",
            "3a795f1ae48948cc83d6afe10ebc2ac2",
            "6a50ca0993ae4c5db7c69bd7c50259e6",
            "aaa1838545ce406bbc2779e9a9eeb956",
            "1b1a602aeaff40f289ba686c717b97f0",
            "e37744f05d2848ccb2022505109759cf",
            "300f8fcf106947c3a3653c40203f06c3",
            "c5177ae576db40449afaf6c9f356ca09",
            "3152f808dfdc4a67a0ac3b821e5c82b5"
          ]
        },
        "outputId": "f28dfed1-8e2d-44f5-bb41-fd876694be81"
      },
      "source": [
        "from sklearn.metrics import f1_score, accuracy_score\n",
        "def f1_multiclass(labels, preds):\n",
        "    return f1_score(labels, preds, average='micro')\n",
        "\n",
        "def conf_matrix(labels, preds):\n",
        "    return confusion_matrix(labels, preds)\n",
        "\n",
        "def class_report(labels, preds):\n",
        "    return classification_report(labels, preds, output_dict=True)\n",
        "    \n",
        "result, val_outputs, wrong_predictions = model.eval_model(validation_df, f1=f1_multiclass, cm=conf_matrix, acc=accuracy_score, clf_report = class_report)\n",
        "print(result)"
      ],
      "execution_count": null,
      "outputs": [
        {
          "output_type": "stream",
          "name": "stderr",
          "text": [
            "/usr/local/lib/python3.7/dist-packages/simpletransformers/classification/classification_model.py:1443: UserWarning: Dataframe headers not specified. Falling back to using column 0 as text and column 1 as labels.\n",
            "  \"Dataframe headers not specified. Falling back to using column 0 as text and column 1 as labels.\"\n"
          ]
        },
        {
          "output_type": "display_data",
          "data": {
            "text/plain": [
              "Running Evaluation:   0%|          | 0/257 [00:00<?, ?it/s]"
            ],
            "application/vnd.jupyter.widget-view+json": {
              "version_major": 2,
              "version_minor": 0,
              "model_id": "f3dd77a95bcb455a83cb72caa9566d20"
            }
          },
          "metadata": {}
        },
        {
          "output_type": "stream",
          "name": "stdout",
          "text": [
            "{'mcc': 0.49195203202937837, 'f1': 0.6500732064421669, 'cm': array([[ 94,  30,   5,   1,   1],\n",
            "       [ 44,  64,  63,  16,   3],\n",
            "       [  6,  17, 114,  78,   6],\n",
            "       [  0,   2,  49, 344, 202],\n",
            "       [  0,   1,   8, 185, 716]]), 'acc': 0.6500732064421669, 'clf_report': {'0.0': {'precision': 0.6527777777777778, 'recall': 0.7175572519083969, 'f1-score': 0.6836363636363636, 'support': 131}, '1.0': {'precision': 0.5614035087719298, 'recall': 0.3368421052631579, 'f1-score': 0.4210526315789474, 'support': 190}, '2.0': {'precision': 0.4769874476987448, 'recall': 0.5158371040723982, 'f1-score': 0.49565217391304356, 'support': 221}, '3.0': {'precision': 0.5512820512820513, 'recall': 0.576214405360134, 'f1-score': 0.5634725634725636, 'support': 597}, '4.0': {'precision': 0.771551724137931, 'recall': 0.7868131868131868, 'f1-score': 0.7791077257889011, 'support': 910}, 'accuracy': 0.6500732064421669, 'macro avg': {'precision': 0.602800501933687, 'recall': 0.5866528106834548, 'f1-score': 0.5885842916779638, 'support': 2049}, 'weighted avg': {'precision': 0.6485223206822255, 'recall': 0.6500732064421669, 'f1-score': 0.6464014860576704, 'support': 2049}}, 'eval_loss': 0.7763789432985774}\n"
          ]
        }
      ]
    },
    {
      "cell_type": "markdown",
      "metadata": {
        "id": "GbE5RYSfAKM8"
      },
      "source": [
        "**On Test Set**"
      ]
    },
    {
      "cell_type": "code",
      "metadata": {
        "id": "NsTOCd8fALl5",
        "colab": {
          "base_uri": "https://localhost:8080/",
          "height": 190,
          "referenced_widgets": [
            "d62d0eae60c24dd1bdaabc848f64099a",
            "b0122c640eaf46eca82ec1b75d7a8bd4",
            "55e5e97490e94fdaa3a1a72a4afa791b",
            "fb90d4f34d0c4727aeb3079347b22a25",
            "742e344fe62c4d69ae76913c46a8410e",
            "6b68c609cc0c46209dec753376e492e2",
            "a575ffdc913e4fe2951ba60f5e58e05f",
            "a42f2a799d51473594de3f9593a7470c",
            "c5dd2eebaae54e528f3e1231b70d2e2f",
            "52f457766fb940f6b97529ccdb8c91ae",
            "d064c05f03f440b8914d2d86042e5170"
          ]
        },
        "outputId": "f65fb87e-66b8-46ed-e9e3-d96dfc1bf1ed"
      },
      "source": [
        "result, test_outputs, wrong_predictions = model.eval_model(test_df, f1=f1_multiclass, cm=conf_matrix, acc=accuracy_score, clf_report = class_report)\n",
        "print(result)"
      ],
      "execution_count": null,
      "outputs": [
        {
          "output_type": "stream",
          "name": "stderr",
          "text": [
            "/usr/local/lib/python3.7/dist-packages/simpletransformers/classification/classification_model.py:1443: UserWarning: Dataframe headers not specified. Falling back to using column 0 as text and column 1 as labels.\n",
            "  \"Dataframe headers not specified. Falling back to using column 0 as text and column 1 as labels.\"\n"
          ]
        },
        {
          "output_type": "display_data",
          "data": {
            "text/plain": [
              "Running Evaluation:   0%|          | 0/257 [00:00<?, ?it/s]"
            ],
            "application/vnd.jupyter.widget-view+json": {
              "version_major": 2,
              "version_minor": 0,
              "model_id": "d62d0eae60c24dd1bdaabc848f64099a"
            }
          },
          "metadata": {}
        },
        {
          "output_type": "stream",
          "name": "stdout",
          "text": [
            "{'mcc': 0.49195203202937837, 'f1': 0.6500732064421669, 'cm': array([[ 94,  30,   5,   1,   1],\n",
            "       [ 44,  64,  63,  16,   3],\n",
            "       [  6,  17, 114,  78,   6],\n",
            "       [  0,   2,  49, 344, 202],\n",
            "       [  0,   1,   8, 185, 716]]), 'acc': 0.6500732064421669, 'clf_report': {'0.0': {'precision': 0.6527777777777778, 'recall': 0.7175572519083969, 'f1-score': 0.6836363636363636, 'support': 131}, '1.0': {'precision': 0.5614035087719298, 'recall': 0.3368421052631579, 'f1-score': 0.4210526315789474, 'support': 190}, '2.0': {'precision': 0.4769874476987448, 'recall': 0.5158371040723982, 'f1-score': 0.49565217391304356, 'support': 221}, '3.0': {'precision': 0.5512820512820513, 'recall': 0.576214405360134, 'f1-score': 0.5634725634725636, 'support': 597}, '4.0': {'precision': 0.771551724137931, 'recall': 0.7868131868131868, 'f1-score': 0.7791077257889011, 'support': 910}, 'accuracy': 0.6500732064421669, 'macro avg': {'precision': 0.602800501933687, 'recall': 0.5866528106834548, 'f1-score': 0.5885842916779638, 'support': 2049}, 'weighted avg': {'precision': 0.6485223206822255, 'recall': 0.6500732064421669, 'f1-score': 0.6464014860576704, 'support': 2049}}, 'eval_loss': 0.7763789432985774}\n"
          ]
        }
      ]
    },
    {
      "cell_type": "markdown",
      "source": [
        "result  {'mcc': 0.49468331260672477, 'eval_loss': 0.775075949583536}"
      ],
      "metadata": {
        "id": "nRyI0elovGAW"
      }
    },
    {
      "cell_type": "markdown",
      "metadata": {
        "id": "KkM5QS7-BWrU"
      },
      "source": [
        "##  Over-Fitting "
      ]
    },
    {
      "cell_type": "code",
      "metadata": {
        "id": "6O_NbXFGMukX",
        "colab": {
          "base_uri": "https://localhost:8080/",
          "height": 332
        },
        "outputId": "1258e992-0e11-4d08-886f-56dea99aa425"
      },
      "source": [
        "import pandas as pd\n",
        "pd.set_option('precision', 2)\n",
        "\n",
        "# Create a DataFrame from our training statistics.\n",
        "df_stats = pd.read_csv(\"/content/outputs/training_progress_scores.csv\")\n",
        "\n",
        "# Use the 'epoch' as the row index.\n",
        "df_stats = df_stats.set_index('global_step')\n",
        "df_stats"
      ],
      "execution_count": null,
      "outputs": [
        {
          "output_type": "execute_result",
          "data": {
            "text/plain": [
              "             train_loss   mcc  eval_loss\n",
              "global_step                             \n",
              "120                1.24  0.25       1.17\n",
              "240                0.83  0.44       0.86\n",
              "360                1.06  0.43       0.85\n",
              "480                0.85  0.49       0.79\n",
              "513                0.84  0.49       0.78\n",
              "600                0.73  0.49       0.79\n",
              "720                0.72  0.49       0.79\n",
              "840                1.17  0.50       0.78"
            ],
            "text/html": [
              "\n",
              "  <div id=\"df-34878928-1944-4e2a-b800-6274a52cdf2f\">\n",
              "    <div class=\"colab-df-container\">\n",
              "      <div>\n",
              "<style scoped>\n",
              "    .dataframe tbody tr th:only-of-type {\n",
              "        vertical-align: middle;\n",
              "    }\n",
              "\n",
              "    .dataframe tbody tr th {\n",
              "        vertical-align: top;\n",
              "    }\n",
              "\n",
              "    .dataframe thead th {\n",
              "        text-align: right;\n",
              "    }\n",
              "</style>\n",
              "<table border=\"1\" class=\"dataframe\">\n",
              "  <thead>\n",
              "    <tr style=\"text-align: right;\">\n",
              "      <th></th>\n",
              "      <th>train_loss</th>\n",
              "      <th>mcc</th>\n",
              "      <th>eval_loss</th>\n",
              "    </tr>\n",
              "    <tr>\n",
              "      <th>global_step</th>\n",
              "      <th></th>\n",
              "      <th></th>\n",
              "      <th></th>\n",
              "    </tr>\n",
              "  </thead>\n",
              "  <tbody>\n",
              "    <tr>\n",
              "      <th>120</th>\n",
              "      <td>1.24</td>\n",
              "      <td>0.25</td>\n",
              "      <td>1.17</td>\n",
              "    </tr>\n",
              "    <tr>\n",
              "      <th>240</th>\n",
              "      <td>0.83</td>\n",
              "      <td>0.44</td>\n",
              "      <td>0.86</td>\n",
              "    </tr>\n",
              "    <tr>\n",
              "      <th>360</th>\n",
              "      <td>1.06</td>\n",
              "      <td>0.43</td>\n",
              "      <td>0.85</td>\n",
              "    </tr>\n",
              "    <tr>\n",
              "      <th>480</th>\n",
              "      <td>0.85</td>\n",
              "      <td>0.49</td>\n",
              "      <td>0.79</td>\n",
              "    </tr>\n",
              "    <tr>\n",
              "      <th>513</th>\n",
              "      <td>0.84</td>\n",
              "      <td>0.49</td>\n",
              "      <td>0.78</td>\n",
              "    </tr>\n",
              "    <tr>\n",
              "      <th>600</th>\n",
              "      <td>0.73</td>\n",
              "      <td>0.49</td>\n",
              "      <td>0.79</td>\n",
              "    </tr>\n",
              "    <tr>\n",
              "      <th>720</th>\n",
              "      <td>0.72</td>\n",
              "      <td>0.49</td>\n",
              "      <td>0.79</td>\n",
              "    </tr>\n",
              "    <tr>\n",
              "      <th>840</th>\n",
              "      <td>1.17</td>\n",
              "      <td>0.50</td>\n",
              "      <td>0.78</td>\n",
              "    </tr>\n",
              "  </tbody>\n",
              "</table>\n",
              "</div>\n",
              "      <button class=\"colab-df-convert\" onclick=\"convertToInteractive('df-34878928-1944-4e2a-b800-6274a52cdf2f')\"\n",
              "              title=\"Convert this dataframe to an interactive table.\"\n",
              "              style=\"display:none;\">\n",
              "        \n",
              "  <svg xmlns=\"http://www.w3.org/2000/svg\" height=\"24px\"viewBox=\"0 0 24 24\"\n",
              "       width=\"24px\">\n",
              "    <path d=\"M0 0h24v24H0V0z\" fill=\"none\"/>\n",
              "    <path d=\"M18.56 5.44l.94 2.06.94-2.06 2.06-.94-2.06-.94-.94-2.06-.94 2.06-2.06.94zm-11 1L8.5 8.5l.94-2.06 2.06-.94-2.06-.94L8.5 2.5l-.94 2.06-2.06.94zm10 10l.94 2.06.94-2.06 2.06-.94-2.06-.94-.94-2.06-.94 2.06-2.06.94z\"/><path d=\"M17.41 7.96l-1.37-1.37c-.4-.4-.92-.59-1.43-.59-.52 0-1.04.2-1.43.59L10.3 9.45l-7.72 7.72c-.78.78-.78 2.05 0 2.83L4 21.41c.39.39.9.59 1.41.59.51 0 1.02-.2 1.41-.59l7.78-7.78 2.81-2.81c.8-.78.8-2.07 0-2.86zM5.41 20L4 18.59l7.72-7.72 1.47 1.35L5.41 20z\"/>\n",
              "  </svg>\n",
              "      </button>\n",
              "      \n",
              "  <style>\n",
              "    .colab-df-container {\n",
              "      display:flex;\n",
              "      flex-wrap:wrap;\n",
              "      gap: 12px;\n",
              "    }\n",
              "\n",
              "    .colab-df-convert {\n",
              "      background-color: #E8F0FE;\n",
              "      border: none;\n",
              "      border-radius: 50%;\n",
              "      cursor: pointer;\n",
              "      display: none;\n",
              "      fill: #1967D2;\n",
              "      height: 32px;\n",
              "      padding: 0 0 0 0;\n",
              "      width: 32px;\n",
              "    }\n",
              "\n",
              "    .colab-df-convert:hover {\n",
              "      background-color: #E2EBFA;\n",
              "      box-shadow: 0px 1px 2px rgba(60, 64, 67, 0.3), 0px 1px 3px 1px rgba(60, 64, 67, 0.15);\n",
              "      fill: #174EA6;\n",
              "    }\n",
              "\n",
              "    [theme=dark] .colab-df-convert {\n",
              "      background-color: #3B4455;\n",
              "      fill: #D2E3FC;\n",
              "    }\n",
              "\n",
              "    [theme=dark] .colab-df-convert:hover {\n",
              "      background-color: #434B5C;\n",
              "      box-shadow: 0px 1px 3px 1px rgba(0, 0, 0, 0.15);\n",
              "      filter: drop-shadow(0px 1px 2px rgba(0, 0, 0, 0.3));\n",
              "      fill: #FFFFFF;\n",
              "    }\n",
              "  </style>\n",
              "\n",
              "      <script>\n",
              "        const buttonEl =\n",
              "          document.querySelector('#df-34878928-1944-4e2a-b800-6274a52cdf2f button.colab-df-convert');\n",
              "        buttonEl.style.display =\n",
              "          google.colab.kernel.accessAllowed ? 'block' : 'none';\n",
              "\n",
              "        async function convertToInteractive(key) {\n",
              "          const element = document.querySelector('#df-34878928-1944-4e2a-b800-6274a52cdf2f');\n",
              "          const dataTable =\n",
              "            await google.colab.kernel.invokeFunction('convertToInteractive',\n",
              "                                                     [key], {});\n",
              "          if (!dataTable) return;\n",
              "\n",
              "          const docLinkHtml = 'Like what you see? Visit the ' +\n",
              "            '<a target=\"_blank\" href=https://colab.research.google.com/notebooks/data_table.ipynb>data table notebook</a>'\n",
              "            + ' to learn more about interactive tables.';\n",
              "          element.innerHTML = '';\n",
              "          dataTable['output_type'] = 'display_data';\n",
              "          await google.colab.output.renderOutput(dataTable, element);\n",
              "          const docLink = document.createElement('div');\n",
              "          docLink.innerHTML = docLinkHtml;\n",
              "          element.appendChild(docLink);\n",
              "        }\n",
              "      </script>\n",
              "    </div>\n",
              "  </div>\n",
              "  "
            ]
          },
          "metadata": {},
          "execution_count": 23
        }
      ]
    },
    {
      "cell_type": "markdown",
      "metadata": {
        "id": "1-G03mmwH3aI"
      },
      "source": [
        "Validation Loss is a more precise measure than accuracy, because with accuracy we don't care about the exact output value, but just which side of a threshold it falls on. \n",
        "\n",
        "If we are predicting the correct answer, but with less confidence, then validation loss will catch this, while accuracy will not."
      ]
    },
    {
      "cell_type": "code",
      "metadata": {
        "id": "68xreA9JAmG5",
        "colab": {
          "base_uri": "https://localhost:8080/",
          "height": 427
        },
        "outputId": "1277a060-5493-45be-e4d6-30d232826cd2"
      },
      "source": [
        "import matplotlib.pyplot as plt\n",
        "import seaborn as sns\n",
        "\n",
        "# Increase the plot size and font size.\n",
        "sns.set(font_scale=1.5)\n",
        "plt.rcParams[\"figure.figsize\"] = (12,6)\n",
        "\n",
        "# Plot the learning curve.\n",
        "plt.plot(df_stats['train_loss'], 'b-o', label=\"Training\")\n",
        "plt.plot(df_stats['eval_loss'], 'g-o', label=\"Validation\")\n",
        "\n",
        "# Label the plot.\n",
        "plt.title(\"Training & Validation Loss\")\n",
        "plt.xlabel(\"Epoch\")\n",
        "plt.ylabel(\"Loss\")\n",
        "plt.legend()\n",
        "plt.xticks([1, 2, 3, 4])\n",
        "\n",
        "plt.show()"
      ],
      "execution_count": null,
      "outputs": [
        {
          "output_type": "display_data",
          "data": {
            "text/plain": [
              "<Figure size 864x432 with 1 Axes>"
            ],
            "image/png": "[encoded data removed]"
          },
          "metadata": {}
        }
      ]
    },
    {
      "cell_type": "markdown",
      "source": [
        "# BERT(Handle Class inbalancy)"
      ],
      "metadata": {
        "id": "OD4ChDhHKQoh"
      }
    },
    {
      "cell_type": "code",
      "source": [
        "class_weights = dict(zip(np.unique(df.label), class_weights))\n",
        "class_weights"
      ],
      "metadata": {
        "id": "Fv4EsRiFfHrf",
        "colab": {
          "base_uri": "https://localhost:8080/"
        },
        "outputId": "69e47f56-c2a0-407d-8c49-0c8c9488393e"
      },
      "execution_count": null,
      "outputs": [
        {
          "output_type": "execute_result",
          "data": {
            "text/plain": [
              "{0: 2.8840253342716395,\n",
              " 1: 2.2856664807585054,\n",
              " 2: 1.8764652014652015,\n",
              " 3: 0.678622288458354,\n",
              " 4: 0.45263971725204327}"
            ]
          },
          "metadata": {},
          "execution_count": 25
        }
      ]
    },
    {
      "cell_type": "code",
      "source": [
        "from simpletransformers.classification import ClassificationModel\n",
        "\n",
        "args = {\n",
        "    'reprocess_input_data': True, \n",
        "    'overwrite_output_dir': True\n",
        "}\n",
        "\n",
        "model = ClassificationModel('bert', 'bert-base-uncased', num_labels=5, args=args, weight=[2.88, 2.28, 1.87, 0.68, 0.45])"
      ],
      "metadata": {
        "id": "Hp149qWZKV0N",
        "colab": {
          "base_uri": "https://localhost:8080/"
        },
        "outputId": "109351a5-0fef-4fe0-c08f-fdb94d9a8dcd"
      },
      "execution_count": null,
      "outputs": [
        {
          "output_type": "stream",
          "name": "stderr",
          "text": [
            "Some weights of the model checkpoint at bert-base-uncased were not used when initializing BertForSequenceClassification: ['cls.predictions.decoder.weight', 'cls.predictions.transform.LayerNorm.bias', 'cls.predictions.transform.dense.weight', 'cls.seq_relationship.bias', 'cls.predictions.transform.dense.bias', 'cls.seq_relationship.weight', 'cls.predictions.bias', 'cls.predictions.transform.LayerNorm.weight']\n",
            "- This IS expected if you are initializing BertForSequenceClassification from the checkpoint of a model trained on another task or with another architecture (e.g. initializing a BertForSequenceClassification model from a BertForPreTraining model).\n",
            "- This IS NOT expected if you are initializing BertForSequenceClassification from the checkpoint of a model that you expect to be exactly identical (initializing a BertForSequenceClassification model from a BertForSequenceClassification model).\n",
            "Some weights of BertForSequenceClassification were not initialized from the model checkpoint at bert-base-uncased and are newly initialized: ['classifier.weight', 'classifier.bias']\n",
            "You should probably TRAIN this model on a down-stream task to be able to use it for predictions and inference.\n"
          ]
        }
      ]
    },
    {
      "cell_type": "markdown",
      "source": [
        "## Inspect Training Arguments"
      ],
      "metadata": {
        "id": "vcAguIh0WxLZ"
      }
    },
    {
      "cell_type": "code",
      "source": [
        "print(\"train epochs : \", model.args.num_train_epochs)\n",
        "print(\"max_seq_length : \", model.args.max_seq_length)\n",
        "print(\"train_batch_size : \", model.args.train_batch_size)\n",
        "print(\"learning_rate : \", model.args.learning_rate)\n",
        "print(\"model_name : \", model.args.model_name)"
      ],
      "metadata": {
        "id": "L-ONRr39WvlZ",
        "colab": {
          "base_uri": "https://localhost:8080/"
        },
        "outputId": "d2bdc5c6-ab15-4ffd-bdfb-cdf679b78612"
      },
      "execution_count": null,
      "outputs": [
        {
          "output_type": "stream",
          "name": "stdout",
          "text": [
            "train epochs :  1\n",
            "max_seq_length :  128\n",
            "train_batch_size :  8\n",
            "learning_rate :  4e-05\n",
            "model_name :  bert-base-uncased\n"
          ]
        }
      ]
    },
    {
      "cell_type": "code",
      "source": [
        "print('Training on {:,} samples...'.format(len(train_df)))\n",
        "\n",
        "# Train the model, testing against the validation set periodically.\n",
        "out = model.train_model(train_df, eval_df=validation_df)"
      ],
      "metadata": {
        "id": "Ds7nFa6gMCGU",
        "colab": {
          "base_uri": "https://localhost:8080/",
          "height": 220,
          "referenced_widgets": [
            "79ecda6afca14d618e9a8acdf3b9c80a",
            "9efe5be6ab08466e98dba5a6b45cb578",
            "2b81d875112e4ba0adb9f2c056c1a16b",
            "603d2a7871ca4cc0800d6eea8e61ef67",
            "00cda36dcc8940d584174f4a33eba3d9",
            "ab144ea22798488380e136a46fbe41bc",
            "05bb21dbeac34cd8bc83edf309d50607",
            "deb470b150554df7ba59c59578a94868",
            "ed1acd951f7444d596f83be2eab59012",
            "984c1f1e7bf74a089b28796764c92a62",
            "e706b51965574707b4d3ae89df409263",
            "aec1c216bbcc4a2ea06f504cee89fd55",
            "f0c0d2eec6db425ba4abedd14595b8d0",
            "befb6384ed7743058ba4d60ccfce52a5",
            "e9f53bb7775e44188d9351fd8c72a0e5",
            "c47b34f61dfa4a4cabccdcd9fa92bb41",
            "330e8f4644c848499e199f1c3973bb5e",
            "da10279328c54a9a903f68b92bc92ab1",
            "001852548c0240da9b52b83d66269698",
            "41de63a8e78246dd97c4576fec923b00",
            "a4652c622d3b4582b78c82d36a9fd209",
            "fdf933635ec3457287f80871d4d264a2",
            "f1710fec06fb4c08b22c56aa4b6047c2",
            "8a68f39446c84ad491b1d7e4a0ec060d",
            "3ee45aa344ad401ba151f302c34a5607",
            "1057636a268a40d29c03ccb2b0093ad6",
            "a6a20d8caa7342a096456871f792447a",
            "07f8474345724683af79ccbe45e901c1",
            "d7cd8fa1d9354f30bd760f0969eafc57",
            "eb20bea387154403a7119f1ad74f37cc",
            "226096de70d648d09300842178b57e63",
            "464b65be94bb4accaa5a16c0c83d9c8e",
            "96477534e9a44a5890e1537d5e7353f8"
          ]
        },
        "outputId": "c2f30701-5d57-44bc-e2df-a234355855a4"
      },
      "execution_count": null,
      "outputs": [
        {
          "output_type": "stream",
          "name": "stdout",
          "text": [
            "Training on 16,392 samples...\n"
          ]
        },
        {
          "output_type": "stream",
          "name": "stderr",
          "text": [
            "/usr/local/lib/python3.7/dist-packages/simpletransformers/classification/classification_model.py:602: UserWarning: Dataframe headers not specified. Falling back to using column 0 as text and column 1 as labels.\n",
            "  \"Dataframe headers not specified. Falling back to using column 0 as text and column 1 as labels.\"\n"
          ]
        },
        {
          "output_type": "display_data",
          "data": {
            "text/plain": [
              "  0%|          | 0/16392 [00:00<?, ?it/s]"
            ],
            "application/vnd.jupyter.widget-view+json": {
              "version_major": 2,
              "version_minor": 0,
              "model_id": "79ecda6afca14d618e9a8acdf3b9c80a"
            }
          },
          "metadata": {}
        },
        {
          "output_type": "stream",
          "name": "stderr",
          "text": [
            "/usr/local/lib/python3.7/dist-packages/transformers/optimization.py:310: FutureWarning: This implementation of AdamW is deprecated and will be removed in a future version. Use the PyTorch implementation torch.optim.AdamW instead, or set `no_deprecation_warning=True` to disable this warning\n",
            "  FutureWarning,\n"
          ]
        },
        {
          "output_type": "display_data",
          "data": {
            "text/plain": [
              "Epoch:   0%|          | 0/1 [00:00<?, ?it/s]"
            ],
            "application/vnd.jupyter.widget-view+json": {
              "version_major": 2,
              "version_minor": 0,
              "model_id": "aec1c216bbcc4a2ea06f504cee89fd55"
            }
          },
          "metadata": {}
        },
        {
          "output_type": "display_data",
          "data": {
            "text/plain": [
              "Running Epoch 0 of 1:   0%|          | 0/2049 [00:00<?, ?it/s]"
            ],
            "application/vnd.jupyter.widget-view+json": {
              "version_major": 2,
              "version_minor": 0,
              "model_id": "f1710fec06fb4c08b22c56aa4b6047c2"
            }
          },
          "metadata": {}
        }
      ]
    },
    {
      "cell_type": "markdown",
      "metadata": {
        "id": "I6ZGs3FpMRuk"
      },
      "source": [
        "## Model Evaluation\n"
      ]
    },
    {
      "cell_type": "markdown",
      "source": [
        "### On Validation"
      ],
      "metadata": {
        "id": "RlwmXYREmS5F"
      }
    },
    {
      "cell_type": "code",
      "source": [
        "from sklearn.metrics import f1_score, accuracy_score\n",
        "def f1_multiclass(labels, preds):\n",
        "    return f1_score(labels, preds, average='micro')\n",
        "\n",
        "def conf_matrix(labels, preds):\n",
        "    return confusion_matrix(labels, preds)\n",
        "    \n",
        "result, model_outputs, wrong_predictions = model.eval_model(validation_df, f1=f1_multiclass, cm=conf_matrix, acc=accuracy_score)\n",
        "print(result)"
      ],
      "metadata": {
        "id": "4-wgXwD2jNPD",
        "colab": {
          "base_uri": "https://localhost:8080/",
          "height": 222,
          "referenced_widgets": [
            "ecc9509491c648d9851f23771f508057",
            "eae6719dda6146c098490b89e3351282",
            "7d269da0b5a84ec285bd438528fe55a3",
            "347ca5c5d42d416fa37237e57af040ca",
            "acd3265dc8d54b28b68ef61c136055f5",
            "22d9e75a0c3f47f9800f256ee1d92388",
            "e0b12dffacee4700bcbb3431d66e2821",
            "72e3fbdb7aba47f7a875f418ef3d54d7",
            "35af3236ec5b47078b957198053c8e83",
            "5654ca2669bf4e7992822197934bf09a",
            "1e26806f164946b8a9adbe22d69505bf",
            "1cf1402e3a044d8e8fc245a5c9254dff",
            "5a4a5eb4f1724b7290578ce1499d119e",
            "3d2fa79a53aa41da9118a8c6bce83bf6",
            "b3f64198f3ff4720813d73eab143a39f",
            "e765cec9405843038df0fe0dfaee7577",
            "036e5986a79547be87a2c6034dc5bc76",
            "40ce8b4e50624df9853444a6d9d27f8d",
            "57cce49da2894e2f8306a866aca82bca",
            "93bf6611aa54475bb55cc25d1511bed3",
            "efd5ee9c08f6429483ee2bd05f8ee4de",
            "6f410d2afe6e4fc28f0f6eb46acb31fe"
          ]
        },
        "outputId": "eed9e945-21ab-4a9e-9094-3b0666b85102"
      },
      "execution_count": null,
      "outputs": [
        {
          "output_type": "stream",
          "name": "stderr",
          "text": [
            "/usr/local/lib/python3.7/dist-packages/simpletransformers/classification/classification_model.py:1443: UserWarning: Dataframe headers not specified. Falling back to using column 0 as text and column 1 as labels.\n",
            "  \"Dataframe headers not specified. Falling back to using column 0 as text and column 1 as labels.\"\n"
          ]
        },
        {
          "output_type": "display_data",
          "data": {
            "text/plain": [
              "  0%|          | 0/2049 [00:00<?, ?it/s]"
            ],
            "application/vnd.jupyter.widget-view+json": {
              "version_major": 2,
              "version_minor": 0,
              "model_id": "ecc9509491c648d9851f23771f508057"
            }
          },
          "metadata": {}
        },
        {
          "output_type": "display_data",
          "data": {
            "text/plain": [
              "Running Evaluation:   0%|          | 0/257 [00:00<?, ?it/s]"
            ],
            "application/vnd.jupyter.widget-view+json": {
              "version_major": 2,
              "version_minor": 0,
              "model_id": "1cf1402e3a044d8e8fc245a5c9254dff"
            }
          },
          "metadata": {}
        },
        {
          "output_type": "stream",
          "name": "stdout",
          "text": [
            "{'mcc': 0.49005145681030304, 'f1': 0.6412884333821376, 'cm': array([[ 96,  32,   2,   1,   0],\n",
            "       [ 47,  89,  48,   3,   3],\n",
            "       [  4,  49, 106,  58,   4],\n",
            "       [  2,  14,  65, 357, 159],\n",
            "       [  1,   5,  11, 227, 666]]), 'acc': 0.6412884333821376, 'eval_loss': 0.8688666312611056}\n"
          ]
        }
      ]
    },
    {
      "cell_type": "code",
      "source": [
        "print(classification_report(validation_df.label,np.argmax(val_outputs,axis=1)))"
      ],
      "metadata": {
        "id": "MmQaruh9MRup",
        "colab": {
          "base_uri": "https://localhost:8080/"
        },
        "outputId": "47c12ba2-480c-4b3a-b016-6c8f72da380a"
      },
      "execution_count": null,
      "outputs": [
        {
          "output_type": "stream",
          "name": "stdout",
          "text": [
            "              precision    recall  f1-score   support\n",
            "\n",
            "           0       0.65      0.72      0.68       131\n",
            "           1       0.56      0.34      0.42       190\n",
            "           2       0.48      0.52      0.50       221\n",
            "           3       0.55      0.58      0.56       597\n",
            "           4       0.77      0.79      0.78       910\n",
            "\n",
            "    accuracy                           0.65      2049\n",
            "   macro avg       0.60      0.59      0.59      2049\n",
            "weighted avg       0.65      0.65      0.65      2049\n",
            "\n"
          ]
        }
      ]
    },
    {
      "cell_type": "markdown",
      "source": [
        "### On Test"
      ],
      "metadata": {
        "id": "vY0pHkn6mhYm"
      }
    },
    {
      "cell_type": "code",
      "metadata": {
        "id": "c00eYvx2MRur",
        "colab": {
          "base_uri": "https://localhost:8080/",
          "height": 222,
          "referenced_widgets": [
            "ab13a8fe32634dadb643459344481e9d",
            "9226d414ba6c44aaa33f695f26096974",
            "ea8e16a51ce54b4abb890401ada6895d",
            "eabd8812b54b40ba8e91e2f428f130a5",
            "b58310f2028a4a0a9227a59cc2f2264d",
            "8f1a7ba49f374706973bbfabe568c27f",
            "e46ab0286fc041a89c7380adab64b08b",
            "bd293ccbe1334c5691a93627204a91dd",
            "3c04ada2700342128c824f4c3e058c6e",
            "8faacde480e945ca9c0565e51feafde0",
            "6c53eb2d682f4cfcb1e0c08d5ad55341",
            "f0fd145c131f4587b3e7a772786a65a7",
            "c276a5cd42a447c5bbd0c03ceb633845",
            "08a7150fcb0c4fe4b424aeaeb45f173f",
            "b567dbcaaeae4302b9e69c4808320396",
            "b02fe42e1fd043a597ec1b093ef32810",
            "9ae428a8161f44b5810fe4d82fc1fb4e",
            "bfe784f505d84dbb934d622796665784",
            "98d972ce3302413a9437bc742ebf1949",
            "8bbfc5ac4df84d119028779bba3da64b",
            "00b0029112b9483bb681043d96b21194",
            "cb7394e522ae470cb88510432997fe49"
          ]
        },
        "outputId": "69797ce3-74f6-47e2-d8fe-18286932bdfd"
      },
      "source": [
        "# Evaluate the model\n",
        "result, model_outputs, wrong_predictions = model.eval_model(test_df, f1=f1_multiclass, cm=conf_matrix, acc=accuracy_score, clf_report = class_report)\n",
        "print(result)"
      ],
      "execution_count": null,
      "outputs": [
        {
          "output_type": "stream",
          "name": "stderr",
          "text": [
            "/usr/local/lib/python3.7/dist-packages/simpletransformers/classification/classification_model.py:1443: UserWarning: Dataframe headers not specified. Falling back to using column 0 as text and column 1 as labels.\n",
            "  \"Dataframe headers not specified. Falling back to using column 0 as text and column 1 as labels.\"\n"
          ]
        },
        {
          "output_type": "display_data",
          "data": {
            "text/plain": [
              "  0%|          | 0/2050 [00:00<?, ?it/s]"
            ],
            "application/vnd.jupyter.widget-view+json": {
              "version_major": 2,
              "version_minor": 0,
              "model_id": "ab13a8fe32634dadb643459344481e9d"
            }
          },
          "metadata": {}
        },
        {
          "output_type": "display_data",
          "data": {
            "text/plain": [
              "Running Evaluation:   0%|          | 0/257 [00:00<?, ?it/s]"
            ],
            "application/vnd.jupyter.widget-view+json": {
              "version_major": 2,
              "version_minor": 0,
              "model_id": "f0fd145c131f4587b3e7a772786a65a7"
            }
          },
          "metadata": {}
        },
        {
          "output_type": "stream",
          "name": "stdout",
          "text": [
            "{'mcc': 0.525265369065681, 'f1': 0.6619512195121952, 'cm': array([[126,  41,   2,   1,   0],\n",
            "       [ 39,  87,  40,  14,   0],\n",
            "       [  8,  31, 125,  52,   1],\n",
            "       [  1,  12,  74, 345, 138],\n",
            "       [  1,   5,  14, 219, 674]]), 'acc': 0.6619512195121952, 'clf_report': {'0.0': {'precision': 0.72, 'recall': 0.7411764705882353, 'f1-score': 0.7304347826086955, 'support': 170}, '1.0': {'precision': 0.4943181818181818, 'recall': 0.48333333333333334, 'f1-score': 0.4887640449438202, 'support': 180}, '2.0': {'precision': 0.49019607843137253, 'recall': 0.576036866359447, 'f1-score': 0.5296610169491526, 'support': 217}, '3.0': {'precision': 0.5467511885895404, 'recall': 0.6052631578947368, 'f1-score': 0.5745212323064114, 'support': 570}, '4.0': {'precision': 0.8290282902829028, 'recall': 0.7382256297918949, 'f1-score': 0.7809965237543454, 'support': 913}, 'accuracy': 0.6619512195121952, 'macro avg': {'precision': 0.6160587478243995, 'recall': 0.6288070915935295, 'f1-score': 0.620875520112485, 'support': 2050}, 'weighted avg': {'precision': 0.6762443064737604, 'recall': 0.6619512195121952, 'f1-score': 0.667129175811563, 'support': 2050}}, 'eval_loss': 0.8421840965747833}\n"
          ]
        }
      ]
    },
    {
      "cell_type": "markdown",
      "source": [
        "### On raw text"
      ],
      "metadata": {
        "id": "AN3OInedo89r"
      }
    },
    {
      "cell_type": "code",
      "source": [
        "predictions, raw_outputs = model.predict([df.text.iloc[5]])\n",
        "predictions, raw_outputs, np.argmax(raw_outputs)"
      ],
      "metadata": {
        "id": "E_ev_Il-pBDW",
        "colab": {
          "base_uri": "https://localhost:8080/",
          "height": 133,
          "referenced_widgets": [
            "f7059e9e3961489b973a12b6fcdb557a",
            "32d002b05f54441687469439ffcc7abf",
            "ecdd1698d5724e7fac2a3ff6589acb93",
            "e55dcbbba27a41fda7a4c63b9415e62a",
            "9ba4ee7407c74966b54d3649d45c989d",
            "294fe24cf7c7429eab76aacd32acee70",
            "17060d877cc348d189957486b6eb7134",
            "891dadc44fcf44b09d160781e941d53c",
            "57c1e1a813e047d39a14adaa608595ca",
            "4399140c09274c74ac555e42eccb34b4",
            "2c84be5a9b50474fb64006073e80b6f8",
            "e2310c5b716a4af2b59f0743dba8a3e6",
            "c98e637b18364720ab99856b3a97064b",
            "c7326f62ef5a4bbba55c25a6ddd1d39f",
            "2d380e03028e4f54955d0feb0ab70b4a",
            "8661ce24a7e44048becfc61cf45d3b39",
            "e8c018457cbb465ab84aef744df63f78",
            "50fe9b5e1024417184dac5f449296475",
            "0ccadc27f79a4bcc900d36ed258d3e86",
            "9c7a40d6c5e145a699756b143f1612af",
            "c453142acae94737ac2b6cb8a00569c0",
            "fa0ebf3c4d7746ddbbb460f57f7513e8"
          ]
        },
        "outputId": "6e34e5f5-a816-47d9-818e-aa635b83b12b"
      },
      "execution_count": null,
      "outputs": [
        {
          "output_type": "display_data",
          "data": {
            "text/plain": [
              "  0%|          | 0/1 [00:00<?, ?it/s]"
            ],
            "application/vnd.jupyter.widget-view+json": {
              "version_major": 2,
              "version_minor": 0,
              "model_id": "f7059e9e3961489b973a12b6fcdb557a"
            }
          },
          "metadata": {}
        },
        {
          "output_type": "display_data",
          "data": {
            "text/plain": [
              "  0%|          | 0/1 [00:00<?, ?it/s]"
            ],
            "application/vnd.jupyter.widget-view+json": {
              "version_major": 2,
              "version_minor": 0,
              "model_id": "e2310c5b716a4af2b59f0743dba8a3e6"
            }
          },
          "metadata": {}
        },
        {
          "output_type": "execute_result",
          "data": {
            "text/plain": [
              "(array([4]),\n",
              " array([[-2.28515625, -1.69335938, -0.96923828,  1.92871094,  3.77929688]]),\n",
              " 4)"
            ]
          },
          "metadata": {},
          "execution_count": 32
        }
      ]
    },
    {
      "cell_type": "markdown",
      "source": [
        "# DistillBert(Handle Class inbalancy)"
      ],
      "metadata": {
        "id": "kINbb8yIwFff"
      }
    },
    {
      "cell_type": "code",
      "source": [
        "from simpletransformers.classification import ClassificationModel\n",
        "\n",
        "args = {\n",
        "    'reprocess_input_data': True, \n",
        "    'overwrite_output_dir': True\n",
        "}\n",
        "\n",
        "model = ClassificationModel('distilbert', 'distilbert-base-uncased', num_labels=5, args=args, weight=[2.88, 2.28, 1.87, 0.68, 0.45])"
      ],
      "metadata": {
        "id": "SAdfcXBTwFff",
        "colab": {
          "base_uri": "https://localhost:8080/",
          "height": 284,
          "referenced_widgets": [
            "3f3b1de2c532493ab1a16b0300655493",
            "f1b76d0997ba4e55987286c1779dbd47",
            "a923af6f5ce142c4acf51606662554bf",
            "1762e17b31af4ae6b120baef8153f29f",
            "cdbd6a3d674b4d5281054b3b3663cacb",
            "cf81916081d947f68e8e2d4d09828ee7",
            "6c592e16de6245ae9a230b96dab21ac3",
            "26726633143f4fb790ace3d63b60a044",
            "df4bda411497490a885f61a606eb0ae5",
            "4e57705b970e48c784b1039fd85ab67b",
            "994c34ac741540f982c0aa12b76a2954",
            "bf811802ead54bc69789f3a4c58c8173",
            "dc3d0fd2b51746fb9733dd407164adfb",
            "a931e55c089d4bada5b15c1d1342e85a",
            "511a0df508c24b948eeb2941c503b7c8",
            "85945dac46e64fb8ac27d4432a5d3a44",
            "ab6a91210fd74c6a86eefda8bd407eac",
            "be2b600090cf44d4a340a70def1a6509",
            "4067b8cc763e4ecb9f8f59abc07bb9c5",
            "f5cd5b3ace0b4e0e941e9760086721e6",
            "62a8e3d77a6845dea7d778d04f548441",
            "64ed0a500a4c4094bf7b00796abd9ba1",
            "076318912a5b4e1a85e438abc1248934",
            "7e2ce96eaa8f4f52a4d3838dac1ee875",
            "1193850e0caa4583b2ccbe04dd1510d9",
            "c09fd194d1b94687834fb9468949e188",
            "d3301483e7e84dd49b553a505019936d",
            "26a10fe551a044319e104d2afa28ff3f",
            "7cf9fcdabd9148deb18f6265e97b6064",
            "84ba86500d714541bdc08d6b60fa55bc",
            "b3cad876ee6f4ce1b117d42c55908d20",
            "1c33711f4ee84c08877512e8f1ac1cf0",
            "7deb27c207664490b47efd68dc8aa5c8",
            "f2d59c22e07f4f00a8a124f3486edd21",
            "1fa8e8be460e4872ab44c9815b2931a0",
            "52fb9fa3398142bd816906f4408ecc08",
            "90934f2735b543aba340306ffb418eec",
            "fdd67138198c436ab84c0e5b4757bd11",
            "b2f608688f77479c9663cc95ee493ffd",
            "18d1be4d972d44f2a88a34ce00d7acd5",
            "907cc617251244ecbe26aa2bf6606442",
            "2756edbf03804f428c15e0c8d6c674c9",
            "a886b581cd124bde86325b759f97de59",
            "d4b18b657e65495882ec82494c4e94c1",
            "6651ac898cbd42caa9a5b142ae4762ea",
            "773b99fbcc2b448582936ed16c6c5857",
            "b40aa19ae36a4fcf899b07fed0c7771c",
            "84086e75dd2c435fa8d88da8e907ee50",
            "ad7999f1fb974969bf897441007dd541",
            "0d51c6c448fc43b99118371bc0782a11",
            "dd028f23aebc448eba09be49acd4a9dd",
            "2ddc90f71be04e8ea58af037591de5e2",
            "4f7a355c619d4e148e9ccdb826d0e95b",
            "25d33e6d6d5d4c9cad0159dddcbd0216",
            "c526ee131489467d9626b81cf28982f7"
          ]
        },
        "outputId": "a8e88c24-a8bb-4741-ef58-7a23b020384d"
      },
      "execution_count": null,
      "outputs": [
        {
          "output_type": "display_data",
          "data": {
            "text/plain": [
              "Downloading:   0%|          | 0.00/483 [00:00<?, ?B/s]"
            ],
            "application/vnd.jupyter.widget-view+json": {
              "version_major": 2,
              "version_minor": 0,
              "model_id": "3f3b1de2c532493ab1a16b0300655493"
            }
          },
          "metadata": {}
        },
        {
          "output_type": "display_data",
          "data": {
            "text/plain": [
              "Downloading:   0%|          | 0.00/256M [00:00<?, ?B/s]"
            ],
            "application/vnd.jupyter.widget-view+json": {
              "version_major": 2,
              "version_minor": 0,
              "model_id": "bf811802ead54bc69789f3a4c58c8173"
            }
          },
          "metadata": {}
        },
        {
          "output_type": "stream",
          "name": "stderr",
          "text": [
            "Some weights of the model checkpoint at distilbert-base-uncased were not used when initializing DistilBertForSequenceClassification: ['vocab_transform.bias', 'vocab_layer_norm.weight', 'vocab_projector.weight', 'vocab_transform.weight', 'vocab_projector.bias', 'vocab_layer_norm.bias']\n",
            "- This IS expected if you are initializing DistilBertForSequenceClassification from the checkpoint of a model trained on another task or with another architecture (e.g. initializing a BertForSequenceClassification model from a BertForPreTraining model).\n",
            "- This IS NOT expected if you are initializing DistilBertForSequenceClassification from the checkpoint of a model that you expect to be exactly identical (initializing a BertForSequenceClassification model from a BertForSequenceClassification model).\n",
            "Some weights of DistilBertForSequenceClassification were not initialized from the model checkpoint at distilbert-base-uncased and are newly initialized: ['classifier.weight', 'classifier.bias', 'pre_classifier.weight', 'pre_classifier.bias']\n",
            "You should probably TRAIN this model on a down-stream task to be able to use it for predictions and inference.\n"
          ]
        },
        {
          "output_type": "display_data",
          "data": {
            "text/plain": [
              "Downloading:   0%|          | 0.00/28.0 [00:00<?, ?B/s]"
            ],
            "application/vnd.jupyter.widget-view+json": {
              "version_major": 2,
              "version_minor": 0,
              "model_id": "076318912a5b4e1a85e438abc1248934"
            }
          },
          "metadata": {}
        },
        {
          "output_type": "display_data",
          "data": {
            "text/plain": [
              "Downloading:   0%|          | 0.00/226k [00:00<?, ?B/s]"
            ],
            "application/vnd.jupyter.widget-view+json": {
              "version_major": 2,
              "version_minor": 0,
              "model_id": "f2d59c22e07f4f00a8a124f3486edd21"
            }
          },
          "metadata": {}
        },
        {
          "output_type": "display_data",
          "data": {
            "text/plain": [
              "Downloading:   0%|          | 0.00/455k [00:00<?, ?B/s]"
            ],
            "application/vnd.jupyter.widget-view+json": {
              "version_major": 2,
              "version_minor": 0,
              "model_id": "6651ac898cbd42caa9a5b142ae4762ea"
            }
          },
          "metadata": {}
        }
      ]
    },
    {
      "cell_type": "markdown",
      "source": [
        "## Inspect Training Arguments"
      ],
      "metadata": {
        "id": "-THS6Ok_XCSH"
      }
    },
    {
      "cell_type": "code",
      "source": [
        "print(\"train epochs : \", model.args.num_train_epochs)\n",
        "print(\"max_seq_length : \", model.args.max_seq_length)\n",
        "print(\"train_batch_size : \", model.args.train_batch_size)\n",
        "print(\"learning_rate : \", model.args.learning_rate)\n",
        "print(\"model_name : \", model.args.model_name)"
      ],
      "metadata": {
        "id": "HBogMT4XXCSI",
        "colab": {
          "base_uri": "https://localhost:8080/"
        },
        "outputId": "53544a17-13de-46f3-e36b-e54a7f5ef9cf"
      },
      "execution_count": null,
      "outputs": [
        {
          "output_type": "stream",
          "name": "stdout",
          "text": [
            "train epochs :  1\n",
            "max_seq_length :  128\n",
            "train_batch_size :  8\n",
            "learning_rate :  4e-05\n",
            "model_name :  distilbert-base-uncased\n"
          ]
        }
      ]
    },
    {
      "cell_type": "code",
      "source": [
        "print('Training on {:,} samples...'.format(len(train_df)))\n",
        "\n",
        "# Train the model, testing against the validation set periodically.\n",
        "out = model.train_model(train_df, eval_df=validation_df)"
      ],
      "metadata": {
        "id": "1oZ9jlbVwFff",
        "colab": {
          "base_uri": "https://localhost:8080/",
          "height": 220,
          "referenced_widgets": [
            "17596e3278a14810a78c321637b9ea6f",
            "90a5af8e14ce41d5bfb82b7f84dcb4e4",
            "356f880ec9f24baaa3a624c505edb451",
            "e8ea381047db4d898375bb294a9b3b92",
            "4f905f63f4ed4ed8b2f42bdf30b8fa92",
            "41cd9d821bdb4fde89cc9dabdbdf2bbb",
            "98140fd3ddfa452291f1da4fdf38e718",
            "c3df2f9f391841859076d75b5cd59f3c",
            "6b702d6a5c31410d80a11c548cc310f8",
            "9722cd01d2a34af4b27eaecf412f1f0b",
            "2654282712b94270a0b8c31828d08a3b",
            "2e427064a37343cdb44504cb2f28bfb5",
            "b85f871e26a04eb9a5af29de7d8d0b21",
            "f895580f116e401c8999b2aa3ad74e5d",
            "27a07dab82254c6f9deea39e00950a10",
            "b876e3c81b124674b94cb255a98f5bdc",
            "31ec81dfdff74d2c838ab7d03e4019d1",
            "301e526e14e048e8baaa060ac10a79aa",
            "fe090e1fa0674b21a3dc06da5916f03b",
            "7deb69c3bb554f9bb860c524a516e114",
            "3abdaf03a46f423e826a70483d08c111",
            "5d765cda3e7c4f53b9d894208cdc35ca",
            "6d976e0739914d15a958b157f2865e17",
            "49cce310b01e4e8a8e7e31966669fa84",
            "18d8eb8d2ac541c3903f1ce15c7f4366",
            "d8178166354f45a68358986561c99d82",
            "111f421d87f646d78abdca360b25d953",
            "447302410f1d4c8e91b349c2c84d52ee",
            "797923358c24466688af9c064447f1f1",
            "9c991730d2594bdda25bb6d4025e4eea",
            "885aa3ae828743cd9626e259248d452e",
            "fffb479e16ca4d9681c289d985a8e83c",
            "daed4f6de80e4f3ea66901234bc00695"
          ]
        },
        "outputId": "e86e7dfa-4cda-43c8-b4c6-bbebbc06e439"
      },
      "execution_count": null,
      "outputs": [
        {
          "output_type": "stream",
          "name": "stdout",
          "text": [
            "Training on 16,392 samples...\n"
          ]
        },
        {
          "output_type": "stream",
          "name": "stderr",
          "text": [
            "/usr/local/lib/python3.7/dist-packages/simpletransformers/classification/classification_model.py:602: UserWarning: Dataframe headers not specified. Falling back to using column 0 as text and column 1 as labels.\n",
            "  \"Dataframe headers not specified. Falling back to using column 0 as text and column 1 as labels.\"\n"
          ]
        },
        {
          "output_type": "display_data",
          "data": {
            "text/plain": [
              "  0%|          | 0/16392 [00:00<?, ?it/s]"
            ],
            "application/vnd.jupyter.widget-view+json": {
              "version_major": 2,
              "version_minor": 0,
              "model_id": "17596e3278a14810a78c321637b9ea6f"
            }
          },
          "metadata": {}
        },
        {
          "output_type": "stream",
          "name": "stderr",
          "text": [
            "/usr/local/lib/python3.7/dist-packages/transformers/optimization.py:310: FutureWarning: This implementation of AdamW is deprecated and will be removed in a future version. Use the PyTorch implementation torch.optim.AdamW instead, or set `no_deprecation_warning=True` to disable this warning\n",
            "  FutureWarning,\n"
          ]
        },
        {
          "output_type": "display_data",
          "data": {
            "text/plain": [
              "Epoch:   0%|          | 0/1 [00:00<?, ?it/s]"
            ],
            "application/vnd.jupyter.widget-view+json": {
              "version_major": 2,
              "version_minor": 0,
              "model_id": "2e427064a37343cdb44504cb2f28bfb5"
            }
          },
          "metadata": {}
        },
        {
          "output_type": "display_data",
          "data": {
            "text/plain": [
              "Running Epoch 0 of 1:   0%|          | 0/2049 [00:00<?, ?it/s]"
            ],
            "application/vnd.jupyter.widget-view+json": {
              "version_major": 2,
              "version_minor": 0,
              "model_id": "6d976e0739914d15a958b157f2865e17"
            }
          },
          "metadata": {}
        }
      ]
    },
    {
      "cell_type": "markdown",
      "metadata": {
        "id": "kiSeT-4YwFfg"
      },
      "source": [
        "## Model Evaluation\n"
      ]
    },
    {
      "cell_type": "code",
      "metadata": {
        "id": "OfoqKmsWwFfg"
      },
      "source": [
        "# model = ClassificationModel(\n",
        "#     \"bert\", \"outputs/best_model\"\n",
        "# )"
      ],
      "execution_count": null,
      "outputs": []
    },
    {
      "cell_type": "markdown",
      "source": [
        "### On Validation"
      ],
      "metadata": {
        "id": "XSybv8T4wFfg"
      }
    },
    {
      "cell_type": "code",
      "source": [
        "from sklearn.metrics import f1_score, accuracy_score\n",
        "def f1_multiclass(labels, preds):\n",
        "    return f1_score(labels, preds, average='micro')\n",
        "\n",
        "def conf_matrix(labels, preds):\n",
        "    return confusion_matrix(labels, preds)\n",
        "    \n",
        "result, val_outputs, wrong_predictions = model.eval_model(validation_df, f1=f1_multiclass, cm=conf_matrix, acc=accuracy_score)\n",
        "print(result)"
      ],
      "metadata": {
        "id": "6JNjQDVNwFfg",
        "colab": {
          "base_uri": "https://localhost:8080/",
          "height": 222,
          "referenced_widgets": [
            "2793506281c84c8e96204ea7a0952b8c",
            "d77d28acc8fc467181c4337efcd97fae",
            "17c471365ec54881a594b44a4c0a53eb",
            "66e50de7a6534c8d8d38c4bad108ea33",
            "d5387ed7bcd14812bacc5a9b204f1020",
            "f595b6c4ea8d48738e0e25edfa518a5c",
            "a96123bc93214d518f8bc5357830eedc",
            "65da1c17363b44efbc397af540b4a326",
            "8815058fa16a43ef82157fd6218e315b",
            "4c93a44cbb764e538685509607ba1584",
            "d8f72c1b384648a8916091bc220882ff",
            "10c6ab4dd32345d4adc4c96e98839460",
            "e680bfef16544a369af19ba03a850349",
            "c146236d97d64529971e29becb67c8f8",
            "40414c37a84945d6881ab1f0a4a2b0bd",
            "2cef115856644e71b49182d662d33641",
            "a7522f96596246309914f34ec6386152",
            "875c4ee155c246fcbe5f6b53f22611fc",
            "2b3bddf56e9143ba859172a284b8eb7f",
            "f041e10718e14c58807b9ce888ff6560",
            "ecb3e83a5d9e432c971a6911516bd255",
            "cb6c665e42604caa9c63ae375e0068ec"
          ]
        },
        "outputId": "dcbd4222-725d-4b26-b796-8dda8a6a0ed8"
      },
      "execution_count": null,
      "outputs": [
        {
          "output_type": "stream",
          "name": "stderr",
          "text": [
            "/usr/local/lib/python3.7/dist-packages/simpletransformers/classification/classification_model.py:1443: UserWarning: Dataframe headers not specified. Falling back to using column 0 as text and column 1 as labels.\n",
            "  \"Dataframe headers not specified. Falling back to using column 0 as text and column 1 as labels.\"\n"
          ]
        },
        {
          "output_type": "display_data",
          "data": {
            "text/plain": [
              "  0%|          | 0/2049 [00:00<?, ?it/s]"
            ],
            "application/vnd.jupyter.widget-view+json": {
              "version_major": 2,
              "version_minor": 0,
              "model_id": "2793506281c84c8e96204ea7a0952b8c"
            }
          },
          "metadata": {}
        },
        {
          "output_type": "display_data",
          "data": {
            "text/plain": [
              "Running Evaluation:   0%|          | 0/257 [00:00<?, ?it/s]"
            ],
            "application/vnd.jupyter.widget-view+json": {
              "version_major": 2,
              "version_minor": 0,
              "model_id": "10c6ab4dd32345d4adc4c96e98839460"
            }
          },
          "metadata": {}
        },
        {
          "output_type": "stream",
          "name": "stdout",
          "text": [
            "{'mcc': 0.48300126555636014, 'f1': 0.6364080039043436, 'cm': array([[ 97,  31,   3,   0,   0],\n",
            "       [ 40,  94,  49,   5,   2],\n",
            "       [  2,  48, 109,  55,   7],\n",
            "       [  0,  19,  87, 322, 169],\n",
            "       [  2,   6,  13, 207, 682]]), 'acc': 0.6364080039043436, 'eval_loss': 0.8958661991102687}\n"
          ]
        }
      ]
    },
    {
      "cell_type": "code",
      "source": [
        "print(classification_report(validation_df.label,np.argmax(val_outputs,axis=1)))"
      ],
      "metadata": {
        "id": "wVyAPKyfwFfg",
        "colab": {
          "base_uri": "https://localhost:8080/"
        },
        "outputId": "a7dd59a8-55a3-49a4-a7b9-c84acbe0c4f4"
      },
      "execution_count": null,
      "outputs": [
        {
          "output_type": "stream",
          "name": "stdout",
          "text": [
            "              precision    recall  f1-score   support\n",
            "\n",
            "           0       0.69      0.74      0.71       131\n",
            "           1       0.47      0.49      0.48       190\n",
            "           2       0.42      0.49      0.45       221\n",
            "           3       0.55      0.54      0.54       597\n",
            "           4       0.79      0.75      0.77       910\n",
            "\n",
            "    accuracy                           0.64      2049\n",
            "   macro avg       0.58      0.60      0.59      2049\n",
            "weighted avg       0.64      0.64      0.64      2049\n",
            "\n"
          ]
        }
      ]
    },
    {
      "cell_type": "markdown",
      "source": [
        "### On Test"
      ],
      "metadata": {
        "id": "jGRK8fUfwFfg"
      }
    },
    {
      "cell_type": "code",
      "metadata": {
        "id": "vBoO4Rw_wFfh",
        "colab": {
          "base_uri": "https://localhost:8080/",
          "height": 222,
          "referenced_widgets": [
            "9c7acfc0f9a947ee96c6f9a30eb7a772",
            "600e9844a5374ba2920ebb6857923cca",
            "e5b61f9ee065468b99418de46a175ba1",
            "7f25a66e326842a79246f87808ec7510",
            "2c3d4350226e48b5852a5eb3ff7046db",
            "82072d8f2d6d405bb6e75b35517edfaa",
            "c8351c3c57164b0e8764a1b29077c7c3",
            "57fec60d479b4d4c86b3046615926c46",
            "b8a462b833df47bfa19d1b582b67e9f9",
            "028286f5321549a685c08e877827c593",
            "3d544e8c85f54629892ed9e4202e5194",
            "0a869b57cd914cf99a26f7eab6a1dc9d",
            "365fc25813cc4616b36c587a4834d1aa",
            "5987d3c1938342b4a413ef3adb3c3058",
            "5c1ae1ce7cc04b02bb5cafd33b26bce4",
            "bbf96b45d5fe4df38d7a707afce0b63d",
            "a8259d6346944e10bacd46928b0c1c62",
            "9924a98a87d94685b3f6a01f70c36ce6",
            "665ce9ea5e0d4693b50205c756e324e5",
            "986f2d7ca2034b56a3281832bf96a6e3",
            "a2343870057d4bb287fb54b335a896da",
            "d76afb695c204cca81fd7c0a5ad41de3"
          ]
        },
        "outputId": "c98b35f3-e7e8-4595-9758-e470aad67b0b"
      },
      "source": [
        "# Evaluate the model\n",
        "result, test_outputs, wrong_predictions = model.eval_model(test_df, f1=f1_multiclass, cm=conf_matrix, acc=accuracy_score)\n",
        "print(result)"
      ],
      "execution_count": null,
      "outputs": [
        {
          "output_type": "stream",
          "name": "stderr",
          "text": [
            "/usr/local/lib/python3.7/dist-packages/simpletransformers/classification/classification_model.py:1443: UserWarning: Dataframe headers not specified. Falling back to using column 0 as text and column 1 as labels.\n",
            "  \"Dataframe headers not specified. Falling back to using column 0 as text and column 1 as labels.\"\n"
          ]
        },
        {
          "output_type": "display_data",
          "data": {
            "text/plain": [
              "  0%|          | 0/2050 [00:00<?, ?it/s]"
            ],
            "application/vnd.jupyter.widget-view+json": {
              "version_major": 2,
              "version_minor": 0,
              "model_id": "9c7acfc0f9a947ee96c6f9a30eb7a772"
            }
          },
          "metadata": {}
        },
        {
          "output_type": "display_data",
          "data": {
            "text/plain": [
              "Running Evaluation:   0%|          | 0/257 [00:00<?, ?it/s]"
            ],
            "application/vnd.jupyter.widget-view+json": {
              "version_major": 2,
              "version_minor": 0,
              "model_id": "0a869b57cd914cf99a26f7eab6a1dc9d"
            }
          },
          "metadata": {}
        },
        {
          "output_type": "stream",
          "name": "stdout",
          "text": [
            "{'mcc': 0.4927383190101385, 'f1': 0.6390243902439025, 'cm': array([[118,  48,   3,   1,   0],\n",
            "       [ 35,  96,  35,  14,   0],\n",
            "       [  5,  43, 111,  56,   2],\n",
            "       [  1,  15,  86, 314, 154],\n",
            "       [  2,   5,  19, 216, 671]]), 'acc': 0.6390243902439025, 'eval_loss': 0.8843171392433374}\n"
          ]
        }
      ]
    },
    {
      "cell_type": "code",
      "source": [
        "print(classification_report(test_df.label,np.argmax(test_outputs,axis=1)))"
      ],
      "metadata": {
        "id": "v9eUgvXfwFfh",
        "colab": {
          "base_uri": "https://localhost:8080/"
        },
        "outputId": "89f68314-2e8b-4ed2-a582-362f77b1643c"
      },
      "execution_count": null,
      "outputs": [
        {
          "output_type": "stream",
          "name": "stdout",
          "text": [
            "              precision    recall  f1-score   support\n",
            "\n",
            "           0       0.73      0.69      0.71       170\n",
            "           1       0.46      0.53      0.50       180\n",
            "           2       0.44      0.51      0.47       217\n",
            "           3       0.52      0.55      0.54       570\n",
            "           4       0.81      0.73      0.77       913\n",
            "\n",
            "    accuracy                           0.64      2050\n",
            "   macro avg       0.59      0.60      0.60      2050\n",
            "weighted avg       0.65      0.64      0.65      2050\n",
            "\n"
          ]
        }
      ]
    },
    {
      "cell_type": "markdown",
      "source": [
        "### On raw text"
      ],
      "metadata": {
        "id": "BRMtnpJ5wFfh"
      }
    },
    {
      "cell_type": "code",
      "source": [
        "predictions, raw_outputs = model.predict([df.text.iloc[5]])\n",
        "predictions, raw_outputs, np.argmax(raw_outputs)"
      ],
      "metadata": {
        "id": "MTempoJIwFfh",
        "colab": {
          "base_uri": "https://localhost:8080/",
          "referenced_widgets": [
            "fd234aacdfb64f6eb0d7f89cc77aa31a",
            "07e752756a3c4fb2838f3b7da39c47a3",
            "ca9cd803e9de404fbf9b49c40ba97aa4",
            "94e7a151a0f14bc0b2ac6ae37171d67b",
            "81dda269a41147a9bef487bb9214d20f",
            "bca434dc9e6c4e16b5fa0b3f2130e1f4",
            "58e88237aef24fd0841f5af5a6a06003",
            "1e42d08747004de0bc969317cfba533b",
            "cb518767eda24f9d9011fc61ce2b1b9f",
            "740ad644098947aa8836ff03c20fea48",
            "428f7412af154cb2ad656f8c7c8c9ffa",
            "25b366f79c72485f87e46fcdc332dd62",
            "7dcabe3f382a4fc5b0bae4c87994d1b5",
            "2f13c802c9ee42f7a15d79bee8a6d7e5",
            "fbb64ace75c548dc85b7aa077888c1dd",
            "6c093e48bf6f4639afc8dbf86b218383",
            "35c31cc18f8841a9aa5869f5a3f73f53",
            "ccf6b360d7394560a70b04fb8edf9bff",
            "eb99c2c3e49e44aa8abbb4c0c4c084c2",
            "c1052879de59462fba9b5059e971c3a0",
            "3d8f7948ffd947b593402880a1842db1",
            "6a9f7c734f344840a2979e59b6d5d23c"
          ]
        },
        "outputId": "07c98185-3b20-47b5-f703-c2949fac2eb3"
      },
      "execution_count": null,
      "outputs": [
        {
          "output_type": "display_data",
          "data": {
            "text/plain": [
              "  0%|          | 0/1 [00:00<?, ?it/s]"
            ],
            "application/vnd.jupyter.widget-view+json": {
              "version_major": 2,
              "version_minor": 0,
              "model_id": "fd234aacdfb64f6eb0d7f89cc77aa31a"
            }
          },
          "metadata": {}
        },
        {
          "output_type": "display_data",
          "data": {
            "text/plain": [
              "  0%|          | 0/1 [00:00<?, ?it/s]"
            ],
            "application/vnd.jupyter.widget-view+json": {
              "version_major": 2,
              "version_minor": 0,
              "model_id": "25b366f79c72485f87e46fcdc332dd62"
            }
          },
          "metadata": {}
        },
        {
          "output_type": "execute_result",
          "data": {
            "text/plain": [
              "(array([4]),\n",
              " array([[-2.81054688, -1.96972656, -0.94921875,  1.93554688,  2.92382812]]),\n",
              " 4)"
            ]
          },
          "metadata": {},
          "execution_count": 41
        }
      ]
    },
    {
      "cell_type": "markdown",
      "source": [
        "# Albert(Handle Class inbalancy)\n"
      ],
      "metadata": {
        "id": "t8fzWG5hw7rE"
      }
    },
    {
      "cell_type": "code",
      "source": [
        "from simpletransformers.classification import ClassificationModel\n",
        "\n",
        "args = {\n",
        "    'reprocess_input_data': True, \n",
        "    'overwrite_output_dir': True\n",
        "}\n",
        "\n",
        "model = ClassificationModel('albert', 'albert-base-v2', num_labels=5, args=args, weight=[2.88, 2.28, 1.87, 0.68, 0.45])"
      ],
      "metadata": {
        "id": "Na9sLXr7w7rI",
        "colab": {
          "base_uri": "https://localhost:8080/",
          "height": 220,
          "referenced_widgets": [
            "a25fe64e127049e6ab36c74cf6915508",
            "127f6105d06e4d848e74258a77fea8b5",
            "8e739b1cdc504ce18666fd9dde1397a0",
            "18a364deab124c7fa6e510b03eebc514",
            "ec523360e74b4a23a6ee2fd172d4ef83",
            "55d7721a0d474fe09bba801498932660",
            "21ab919276634eea8313d163be3035a8",
            "fc4d7935ef834c6a8c051451f388fede",
            "e047b599e7b1448b9908e7ff25cc8ae9",
            "e2926eca697e43448facfcd6547be098",
            "1579e26efb9f4665b4d674e32f872389",
            "92413e03d5ce483fae97e335173a6fd5",
            "1e1dde4a9c3f4db4a6c4a5ec13f43193",
            "b6d5d70f3a8841c3ba34849307ed6b2d",
            "58f3725d08f3466797b2862077516f1a",
            "b616a6306c69403d85e9d2d70d2a4224",
            "396a41d5270a4b7c9a19672d525bf471",
            "8caad73b16d64bd1ba132b364d2a6888",
            "c09c410c33074ea7a0ea131722be72be",
            "ed8262b7dfb54949baa699a83c163c9f",
            "ed6ae93a3ac04062a4c56a925d87634d",
            "1afc0778f33a46b7ace3deae7f06f0a4",
            "53f789445cfa497cbbe646d2ef80c172",
            "6ec2f9665be042389010a78d6ab0a079",
            "5e78bc317c224d978d3c0dfd18b785ca",
            "6087005d4a29484a8c51f83a6eec3dbf",
            "ced3664396b242a49e187b871bf87203",
            "ebf689ea72134b758324a19d21c4eac6",
            "5ab1db6895904260b2fc01de85964711",
            "68e2a7f5690a4c98aae9154650bf0fea",
            "c0d58f15701741efbf53995176334cd7",
            "1817bea4f46e4eb085dbf03ee3024ca6",
            "ba54a08dff1648a9b99b67d64a361c5c"
          ]
        },
        "outputId": "76a4466e-c760-4bb8-8eee-3e753f2eacd5"
      },
      "execution_count": null,
      "outputs": [
        {
          "output_type": "display_data",
          "data": {
            "text/plain": [
              "Downloading:   0%|          | 0.00/684 [00:00<?, ?B/s]"
            ],
            "application/vnd.jupyter.widget-view+json": {
              "version_major": 2,
              "version_minor": 0,
              "model_id": "a25fe64e127049e6ab36c74cf6915508"
            }
          },
          "metadata": {}
        },
        {
          "output_type": "display_data",
          "data": {
            "text/plain": [
              "Downloading:   0%|          | 0.00/45.2M [00:00<?, ?B/s]"
            ],
            "application/vnd.jupyter.widget-view+json": {
              "version_major": 2,
              "version_minor": 0,
              "model_id": "92413e03d5ce483fae97e335173a6fd5"
            }
          },
          "metadata": {}
        },
        {
          "output_type": "stream",
          "name": "stderr",
          "text": [
            "Some weights of the model checkpoint at albert-base-v2 were not used when initializing AlbertForSequenceClassification: ['predictions.dense.bias', 'predictions.LayerNorm.bias', 'predictions.decoder.bias', 'predictions.bias', 'predictions.LayerNorm.weight', 'predictions.decoder.weight', 'predictions.dense.weight']\n",
            "- This IS expected if you are initializing AlbertForSequenceClassification from the checkpoint of a model trained on another task or with another architecture (e.g. initializing a BertForSequenceClassification model from a BertForPreTraining model).\n",
            "- This IS NOT expected if you are initializing AlbertForSequenceClassification from the checkpoint of a model that you expect to be exactly identical (initializing a BertForSequenceClassification model from a BertForSequenceClassification model).\n",
            "Some weights of AlbertForSequenceClassification were not initialized from the model checkpoint at albert-base-v2 and are newly initialized: ['classifier.weight', 'classifier.bias']\n",
            "You should probably TRAIN this model on a down-stream task to be able to use it for predictions and inference.\n"
          ]
        },
        {
          "output_type": "display_data",
          "data": {
            "text/plain": [
              "Downloading:   0%|          | 0.00/742k [00:00<?, ?B/s]"
            ],
            "application/vnd.jupyter.widget-view+json": {
              "version_major": 2,
              "version_minor": 0,
              "model_id": "53f789445cfa497cbbe646d2ef80c172"
            }
          },
          "metadata": {}
        }
      ]
    },
    {
      "cell_type": "markdown",
      "source": [
        "## Inspect Training Arguments"
      ],
      "metadata": {
        "id": "c95d2LP5XGFm"
      }
    },
    {
      "cell_type": "code",
      "source": [
        "print(\"train epochs : \", model.args.num_train_epochs)\n",
        "print(\"max_seq_length : \", model.args.max_seq_length)\n",
        "print(\"train_batch_size : \", model.args.train_batch_size)\n",
        "print(\"learning_rate : \", model.args.learning_rate)\n",
        "print(\"model_name : \", model.args.model_name)"
      ],
      "metadata": {
        "id": "pfdR3ADmXGFn",
        "colab": {
          "base_uri": "https://localhost:8080/"
        },
        "outputId": "9f037c28-fdb2-4f93-e83b-1ecea5055a8b"
      },
      "execution_count": null,
      "outputs": [
        {
          "output_type": "stream",
          "name": "stdout",
          "text": [
            "train epochs :  1\n",
            "max_seq_length :  128\n",
            "train_batch_size :  8\n",
            "learning_rate :  4e-05\n",
            "model_name :  albert-base-v2\n"
          ]
        }
      ]
    },
    {
      "cell_type": "code",
      "source": [
        "print('Training on {:,} samples...'.format(len(train_df)))\n",
        "\n",
        "# Train the model, testing against the validation set periodically.\n",
        "out = model.train_model(train_df, eval_df=validation_df)"
      ],
      "metadata": {
        "id": "w-5zJjkZw7rJ",
        "colab": {
          "base_uri": "https://localhost:8080/",
          "height": 254,
          "referenced_widgets": [
            "71705b2120ff4a1eae00cefd4ae3f9b7",
            "5cdab61513cc4ce99494a2c6eff9dd0f",
            "080d094fa6cb4e68942edb29d428c57e",
            "393800ad1bf14178b712768aa360f662",
            "29457f3d055c4a27b54f8b996a52be44",
            "f79b9d3bd2df4958829478d37d418036",
            "d70b28ae3d3e42bba33f8a8c355cdce0",
            "3c84d7e733c1422c8137a01a0322f83a",
            "56aa065f099a410f9bc26533f21a4070",
            "c0d8c822a7d7435db5f75379290fed24",
            "0cf5aa58cdba4636a85077bae5230fbd",
            "5c5f1b3498924a87a27a10ba99a1e41f",
            "d10433d33f40472289a3906478c90a91",
            "166701294b4e469b8b4e81ce82e2a77f",
            "d920f34c6a5348bda5333f26b4f46a7a",
            "155cc92b5fe64a429caf0f9ee13a284e",
            "39ffb7df9d414b47a010101c544194c5",
            "15bb592979734b369d5acbfde69db667",
            "468181dc5b9941a5962c5f2f60be93c1",
            "885cec87e3e24efb8d0bc136fa3adb20",
            "a610fb06e8de4352b95341495185601b",
            "0c21ff0269564c848594fe3f11dbbe2d",
            "f27e419b51d84c209e49e104bc2f1f67",
            "bfe287858b074b7ab9e6f789748aa524",
            "96310accec9344b199bf68339f5cb05e",
            "03977cb2f15b40eab7f82b938235e520",
            "54ad2f68304a4cc289b7d0ea9f2aa160",
            "81a9a7ff237847fc944ddd55e90ab195",
            "ad110a349e1b4f038e63ac1bb2004043",
            "4ecc59bf86384799af0548734e457e2d",
            "431fa0fcd86c4c9ea347df30d141060d",
            "a37c5881e7ae4f1e8cad87755eebc93a",
            "5d7c0dcab7b54a9faaac2d8978453405"
          ]
        },
        "outputId": "55a6d4bf-efc7-4b3f-fcf3-603f1e9c9719"
      },
      "execution_count": null,
      "outputs": [
        {
          "output_type": "stream",
          "name": "stdout",
          "text": [
            "Training on 16,392 samples...\n"
          ]
        },
        {
          "output_type": "stream",
          "name": "stderr",
          "text": [
            "/usr/local/lib/python3.7/dist-packages/simpletransformers/classification/classification_model.py:602: UserWarning: Dataframe headers not specified. Falling back to using column 0 as text and column 1 as labels.\n",
            "  \"Dataframe headers not specified. Falling back to using column 0 as text and column 1 as labels.\"\n"
          ]
        },
        {
          "output_type": "display_data",
          "data": {
            "text/plain": [
              "  0%|          | 0/16392 [00:00<?, ?it/s]"
            ],
            "application/vnd.jupyter.widget-view+json": {
              "version_major": 2,
              "version_minor": 0,
              "model_id": "71705b2120ff4a1eae00cefd4ae3f9b7"
            }
          },
          "metadata": {}
        },
        {
          "output_type": "stream",
          "name": "stderr",
          "text": [
            "/usr/local/lib/python3.7/dist-packages/transformers/optimization.py:310: FutureWarning: This implementation of AdamW is deprecated and will be removed in a future version. Use the PyTorch implementation torch.optim.AdamW instead, or set `no_deprecation_warning=True` to disable this warning\n",
            "  FutureWarning,\n"
          ]
        },
        {
          "output_type": "display_data",
          "data": {
            "text/plain": [
              "Epoch:   0%|          | 0/1 [00:00<?, ?it/s]"
            ],
            "application/vnd.jupyter.widget-view+json": {
              "version_major": 2,
              "version_minor": 0,
              "model_id": "5c5f1b3498924a87a27a10ba99a1e41f"
            }
          },
          "metadata": {}
        },
        {
          "output_type": "display_data",
          "data": {
            "text/plain": [
              "Running Epoch 0 of 1:   0%|          | 0/2049 [00:00<?, ?it/s]"
            ],
            "application/vnd.jupyter.widget-view+json": {
              "version_major": 2,
              "version_minor": 0,
              "model_id": "f27e419b51d84c209e49e104bc2f1f67"
            }
          },
          "metadata": {}
        },
        {
          "output_type": "stream",
          "name": "stderr",
          "text": [
            "/usr/local/lib/python3.7/dist-packages/torch/optim/lr_scheduler.py:136: UserWarning: Detected call of `lr_scheduler.step()` before `optimizer.step()`. In PyTorch 1.1.0 and later, you should call them in the opposite order: `optimizer.step()` before `lr_scheduler.step()`.  Failure to do this will result in PyTorch skipping the first value of the learning rate schedule. See more details at https://pytorch.org/docs/stable/optim.html#how-to-adjust-learning-rate\n",
            "  \"https://pytorch.org/docs/stable/optim.html#how-to-adjust-learning-rate\", UserWarning)\n"
          ]
        }
      ]
    },
    {
      "cell_type": "markdown",
      "metadata": {
        "id": "fYn3lsgYw7rL"
      },
      "source": [
        "## Model Evaluation\n"
      ]
    },
    {
      "cell_type": "markdown",
      "source": [
        "### On Validation"
      ],
      "metadata": {
        "id": "oxy_rKYUw7rN"
      }
    },
    {
      "cell_type": "code",
      "source": [
        "from sklearn.metrics import f1_score, accuracy_score\n",
        "def f1_multiclass(labels, preds):\n",
        "    return f1_score(labels, preds, average='micro')\n",
        "\n",
        "def conf_matrix(labels, preds):\n",
        "    return confusion_matrix(labels, preds)\n",
        "    \n",
        "result, val_outputs, wrong_predictions = model.eval_model(validation_df, f1=f1_multiclass, cm=conf_matrix, acc=accuracy_score)\n",
        "print(result)"
      ],
      "metadata": {
        "id": "ANRusBS5w7rN",
        "colab": {
          "base_uri": "https://localhost:8080/",
          "height": 222,
          "referenced_widgets": [
            "83fe1a70ddd64445a68ab231d1ffbb4a",
            "2fee0ebb79cf4b17a18bd73e19a608e9",
            "e78c9cb6d2624f4e88c7c7f2dea16198",
            "ee9db8bf56764836a48553149b983837",
            "5e2adf8cc56040859b8d6744c31bed38",
            "21a7ff1a6f4a42798ad400b985fad74c",
            "c3524e9295a246a6acbbabe2a438dcc3",
            "f8f8d0b5df884301867fe73517153d21",
            "82770990d6274646a9608112b54eaf95",
            "4e7e7b84221a4479bd9738dcda96f73d",
            "9c39318d08dc4edd963864fa9ba25f8d",
            "0cb54431f5ed40b296f559cdb80d3849",
            "ffd6d5c5952a429d8d1754f4821fed69",
            "422e55cf1f0743448a24a3e9c1153e12",
            "729f17c59e5f4974a03e2f1960c0abba",
            "d84a10794fa24f6c98e3287bb60d4ec5",
            "c21a49ce1e774c2cb7360309513c0ea8",
            "b7dc15c393d64ffdbe2f5d3ed31d3f50",
            "8834f9126ff2440baa7a649337f047b6",
            "e195de65a7fe42c59b9dacce90025f27",
            "064d0bf64f904240b81f7130e0482a0e",
            "10defbacb1b44af0a6a85a6e44112990"
          ]
        },
        "outputId": "2fc38f5c-ca44-4c37-aed5-93ffcc91ab29"
      },
      "execution_count": null,
      "outputs": [
        {
          "output_type": "stream",
          "name": "stderr",
          "text": [
            "/usr/local/lib/python3.7/dist-packages/simpletransformers/classification/classification_model.py:1443: UserWarning: Dataframe headers not specified. Falling back to using column 0 as text and column 1 as labels.\n",
            "  \"Dataframe headers not specified. Falling back to using column 0 as text and column 1 as labels.\"\n"
          ]
        },
        {
          "output_type": "display_data",
          "data": {
            "text/plain": [
              "  0%|          | 0/2049 [00:00<?, ?it/s]"
            ],
            "application/vnd.jupyter.widget-view+json": {
              "version_major": 2,
              "version_minor": 0,
              "model_id": "83fe1a70ddd64445a68ab231d1ffbb4a"
            }
          },
          "metadata": {}
        },
        {
          "output_type": "display_data",
          "data": {
            "text/plain": [
              "Running Evaluation:   0%|          | 0/257 [00:00<?, ?it/s]"
            ],
            "application/vnd.jupyter.widget-view+json": {
              "version_major": 2,
              "version_minor": 0,
              "model_id": "0cb54431f5ed40b296f559cdb80d3849"
            }
          },
          "metadata": {}
        },
        {
          "output_type": "stream",
          "name": "stdout",
          "text": [
            "{'mcc': 0.38716628377556467, 'f1': 0.570522205954124, 'cm': array([[ 93,  32,   6,   0,   0],\n",
            "       [ 52,  73,  47,  16,   2],\n",
            "       [  7,  60,  72,  72,  10],\n",
            "       [  2,  14,  76, 294, 211],\n",
            "       [  0,   8,  31, 234, 637]]), 'acc': 0.570522205954124, 'eval_loss': 1.0570328591630616}\n"
          ]
        }
      ]
    },
    {
      "cell_type": "code",
      "source": [
        "print(classification_report(validation_df.label,np.argmax(val_outputs,axis=1)))"
      ],
      "metadata": {
        "id": "ri4xmoCvw7rP",
        "colab": {
          "base_uri": "https://localhost:8080/"
        },
        "outputId": "f1641bf8-ecbf-4af2-8c06-153b92891138"
      },
      "execution_count": null,
      "outputs": [
        {
          "output_type": "stream",
          "name": "stdout",
          "text": [
            "              precision    recall  f1-score   support\n",
            "\n",
            "           0       0.60      0.71      0.65       131\n",
            "           1       0.39      0.38      0.39       190\n",
            "           2       0.31      0.33      0.32       221\n",
            "           3       0.48      0.49      0.48       597\n",
            "           4       0.74      0.70      0.72       910\n",
            "\n",
            "    accuracy                           0.57      2049\n",
            "   macro avg       0.50      0.52      0.51      2049\n",
            "weighted avg       0.58      0.57      0.57      2049\n",
            "\n"
          ]
        }
      ]
    },
    {
      "cell_type": "markdown",
      "source": [
        "### On Test"
      ],
      "metadata": {
        "id": "Q4cPsPMKw7rQ"
      }
    },
    {
      "cell_type": "code",
      "metadata": {
        "id": "97Tk27Myw7rR",
        "colab": {
          "base_uri": "https://localhost:8080/",
          "height": 222,
          "referenced_widgets": [
            "507834cbaac543a69e18f65d4e681b37",
            "57b051220d3c4efd9bd7902143e9b7a4",
            "c3fa008956004f8e98635891d58be600",
            "5f145f3d79804a83975a4c89cf3e98ad",
            "2126770b8b424259bdd2d19d4adbfa22",
            "b68c89978f6b40e38d1b40add55030b6",
            "48a34a3aa52842208f62f277ffd0f8d4",
            "20a2b181ac854f45b71ff4521d68d290",
            "0adc7ff2dd934a46a044a861d88d1f81",
            "e9d0489d43b34ea8bccab7402a37bbfd",
            "fcb363a30db04609806517d67bc9ffb7",
            "ca802caf2fdf418ab53ace32c657fbbe",
            "0953505309c9415193b26e585ee11ec6",
            "df54db6e2d854553b988506cf62860d8",
            "71c578c67ce14d9f80286cb71368beb1",
            "73490a34aa7442b0987a048d41779134",
            "364fae5c03bf4abeb065efa3026ba8dd",
            "cad24d9a750944768f70ea694774761b",
            "ab92a9d71ce64cd0b322925718020cc1",
            "c29cfdecb5b0491d90e60e7d577037cc",
            "eaace2c9d3da41c7aa178aed0b6e644c",
            "4b37f270ee2447b08953dfa964c6f013"
          ]
        },
        "outputId": "e0e530dc-0085-4950-c985-1f66b94ff791"
      },
      "source": [
        "# Evaluate the model\n",
        "result, test_outputs, wrong_predictions = model.eval_model(test_df, f1=f1_multiclass, cm=conf_matrix, acc=accuracy_score)\n",
        "print(result)"
      ],
      "execution_count": null,
      "outputs": [
        {
          "output_type": "stream",
          "name": "stderr",
          "text": [
            "/usr/local/lib/python3.7/dist-packages/simpletransformers/classification/classification_model.py:1443: UserWarning: Dataframe headers not specified. Falling back to using column 0 as text and column 1 as labels.\n",
            "  \"Dataframe headers not specified. Falling back to using column 0 as text and column 1 as labels.\"\n"
          ]
        },
        {
          "output_type": "display_data",
          "data": {
            "text/plain": [
              "  0%|          | 0/2050 [00:00<?, ?it/s]"
            ],
            "application/vnd.jupyter.widget-view+json": {
              "version_major": 2,
              "version_minor": 0,
              "model_id": "507834cbaac543a69e18f65d4e681b37"
            }
          },
          "metadata": {}
        },
        {
          "output_type": "display_data",
          "data": {
            "text/plain": [
              "Running Evaluation:   0%|          | 0/257 [00:00<?, ?it/s]"
            ],
            "application/vnd.jupyter.widget-view+json": {
              "version_major": 2,
              "version_minor": 0,
              "model_id": "ca802caf2fdf418ab53ace32c657fbbe"
            }
          },
          "metadata": {}
        },
        {
          "output_type": "stream",
          "name": "stdout",
          "text": [
            "{'mcc': 0.40282137435463217, 'f1': 0.5770731707317073, 'cm': array([[113,  46,   8,   3,   0],\n",
            "       [ 42,  85,  27,  26,   0],\n",
            "       [ 11,  59,  81,  60,   6],\n",
            "       [  2,  18,  71, 273, 206],\n",
            "       [  2,   7,  31, 242, 631]]), 'acc': 0.5770731707317073, 'eval_loss': 1.0493019080579513}\n"
          ]
        }
      ]
    },
    {
      "cell_type": "code",
      "source": [
        "print(classification_report(test_df.label,np.argmax(test_outputs,axis=1)))"
      ],
      "metadata": {
        "id": "4W6lCJlSw7rS",
        "colab": {
          "base_uri": "https://localhost:8080/"
        },
        "outputId": "cb9c3fe1-7ab0-44c8-acc6-427f01054dba"
      },
      "execution_count": null,
      "outputs": [
        {
          "output_type": "stream",
          "name": "stdout",
          "text": [
            "              precision    recall  f1-score   support\n",
            "\n",
            "           0       0.66      0.66      0.66       170\n",
            "           1       0.40      0.47      0.43       180\n",
            "           2       0.37      0.37      0.37       217\n",
            "           3       0.45      0.48      0.47       570\n",
            "           4       0.75      0.69      0.72       913\n",
            "\n",
            "    accuracy                           0.58      2050\n",
            "   macro avg       0.53      0.54      0.53      2050\n",
            "weighted avg       0.59      0.58      0.58      2050\n",
            "\n"
          ]
        }
      ]
    },
    {
      "cell_type": "markdown",
      "source": [
        "### On raw text"
      ],
      "metadata": {
        "id": "HnM7tMYDw7rT"
      }
    },
    {
      "cell_type": "code",
      "source": [
        "predictions, raw_outputs = model.predict([df.text.iloc[5]])\n",
        "predictions, raw_outputs, np.argmax(raw_outputs)"
      ],
      "metadata": {
        "id": "4-WUs5KNw7rT",
        "colab": {
          "base_uri": "https://localhost:8080/",
          "referenced_widgets": [
            "fcdfde45da5e42dc9a0ef36a599ec951",
            "2b0e797cee75413584e7518bdf670f04",
            "8a0e8929d489479f8a99a8bc3438086e",
            "ceb0fd62b75c41a6afc740a2bcd9fb78",
            "463d4c7874cf4f03835337fffccadd61",
            "624e4d6a79d34091bd643379ec0e3b8a",
            "fe56f652e20c43c8898337fa5018eac7",
            "1a25965bc3364d54866327583cd46fa8",
            "996fe0468bc842a286c3f9af4875529a",
            "5076f2fac1094d52bcbb7d013ac4aeee",
            "4844a3b7d23f48d0a7ced7d28ebf7e56",
            "bd63052f5cc441e8972520acd2d3e484",
            "d6e852dfe913484b8d2165e2f376f3ab",
            "e09d0a150a094c62a03fb4f1015bedc4",
            "2940775301d249c59697febcc15c7ab3",
            "77fa7124854e4a68bdbd04093bff5752",
            "d2148233e8d64447ab98bc288cdb8263",
            "80aed73466584b73b1669b4c347d6ada",
            "5de5b26cf94648c285af5880ec1aef92",
            "3e4e75b992814c689c0fd5fae9eb9823",
            "33e18989a6a349f39bdd0d3015bf3ca5",
            "85104e36ed114551a2642f8da49a47bf"
          ]
        },
        "outputId": "8b0f9558-facb-42ee-b528-f959c2958620"
      },
      "execution_count": null,
      "outputs": [
        {
          "output_type": "display_data",
          "data": {
            "text/plain": [
              "  0%|          | 0/1 [00:00<?, ?it/s]"
            ],
            "application/vnd.jupyter.widget-view+json": {
              "version_major": 2,
              "version_minor": 0,
              "model_id": "fcdfde45da5e42dc9a0ef36a599ec951"
            }
          },
          "metadata": {}
        },
        {
          "output_type": "display_data",
          "data": {
            "text/plain": [
              "  0%|          | 0/1 [00:00<?, ?it/s]"
            ],
            "application/vnd.jupyter.widget-view+json": {
              "version_major": 2,
              "version_minor": 0,
              "model_id": "bd63052f5cc441e8972520acd2d3e484"
            }
          },
          "metadata": {}
        },
        {
          "output_type": "execute_result",
          "data": {
            "text/plain": [
              "(array([4]),\n",
              " array([[-2.58984375, -1.28808594, -0.14978027,  1.83105469,  2.828125  ]]),\n",
              " 4)"
            ]
          },
          "metadata": {},
          "execution_count": 49
        }
      ]
    },
    {
      "cell_type": "markdown",
      "source": [
        "# Roberta(Handle Class inbalancy)\n"
      ],
      "metadata": {
        "id": "7afhBl6Lr2-V"
      }
    },
    {
      "cell_type": "code",
      "source": [
        "from simpletransformers.classification import ClassificationModel\n",
        "\n",
        "args = {\n",
        "    'reprocess_input_data': True, \n",
        "    'overwrite_output_dir': True\n",
        "}\n",
        "\n",
        "model = ClassificationModel('roberta', 'roberta-base', num_labels=5, args=args, weight=[2.88, 2.28, 1.87, 0.68, 0.45])"
      ],
      "metadata": {
        "id": "UbLsfKHCr2-X",
        "colab": {
          "base_uri": "https://localhost:8080/",
          "height": 284,
          "referenced_widgets": [
            "7632baf373d64fa29b62bc457e057605",
            "9b0081b63e4a43a49b6078ae30f15be4",
            "7f1f0f3ea0f84b1dbfaa5e8511174178",
            "bf5ccf8ae0314d668cb64cc96315c8ba",
            "1aacac2a8b484390b8036df666845ec6",
            "d69615d9a8204c48a8922de6361281e3",
            "630e44aa4a1e4fa6a01bbccd327dbb50",
            "2e2d4e8c7cf947cb9ea6b5f42733f7c8",
            "b20b29a6b1b143928af8cd181e130d59",
            "693baa76444c4d52bd6e508640c35aea",
            "456c41c43e7b429fa626304e1b3de497",
            "cce5a65413dd4298a88b54274f93dddb",
            "d5c792e4fb9c45c284763c6a5a9a670e",
            "02f64d2e40454701a793373cd1f29ec8",
            "7c06000dd25f4c2cbf1fb168740fdebd",
            "d8f8dbd7f9de4374a2789b08c5ee9d30",
            "b83e9682b1d6458e959cfa20e68c6799",
            "c77baaee72e2482188618f3701fa90bc",
            "0b2919f5bc104df88beea78bd376c40d",
            "b0f00e343c7640beba8e21e2ddfbd119",
            "bcba8d15fde84793bfb44368abb9d3ea",
            "65a72e43fe8a4aa7946e5f6d8bf9bdc9",
            "d5118cbc6ff64b08992c8b8071d9a864",
            "de2391e0fd2b4095955e41012b8378fd",
            "ca54b4e80b7347e1a0450c85e8dd8a3c",
            "911f4a161cfc491d8fb886c25c614cf7",
            "8b39fe6e3be347538573f3cc67fe46e9",
            "7b3cd4f13c34479290ebeae3456b3465",
            "5f2a54307e3b41b58bd13cbe6472ccb6",
            "be3c52f3f63b45f5bfb50f0e1212035d",
            "cf0248d65a4c46bb9d1c038216ec5e3c",
            "c9bc0d42bb794c5282f832c4566b0f64",
            "c4e1e48d7fec492098522ffe0addac8d",
            "b0b5d7a62bb7456da5ea3ba2b85266d7",
            "ce33ebf8f83e4d1fb539952409b6da6a",
            "57378945c25946958679cee2869c736f",
            "38da651f7d83484a9d1bc14d15fb3fde",
            "7a5e8d70ad6740b4bf67f8c8d916ea8f",
            "b492c5b395474c3e899b777893e63257",
            "d9edf655473b4531af3d816857340189",
            "cd47a91689dd4e93bf6d5ad0a4471950",
            "0554c085383e4c48804fa40a79f5fead",
            "15584bd7678e46b6b42ea3de03ee3625",
            "d60fa415eb3a4566b7940a266728296a",
            "3bd0ed79b39b41d5a34c26cf3b96e1b1",
            "a5e12c3c8ff34a3093d288f878cb40f3",
            "a73a565fc9df4493bb88b94fd48f56d3",
            "22767a6480cf43bb837ca8e641875256",
            "1a0cb2b995414c9bab47d05bdadd139e",
            "7be9706b1b674d5bbef2efd6c0457eea",
            "46a2b6b538fa47c5ab7a9483df863292",
            "b704e0fb701546bf8d763c8fa5fe0e74",
            "8b427ac3fe154e09a99137b65dae550d",
            "59f9e127825940198f16c04e2c096615",
            "18e63ca4383b488bb65a35b31b19a77b"
          ]
        },
        "outputId": "aefe8d1b-0db3-41b8-bda3-b844e12cdaa5"
      },
      "execution_count": null,
      "outputs": [
        {
          "output_type": "display_data",
          "data": {
            "text/plain": [
              "Downloading:   0%|          | 0.00/481 [00:00<?, ?B/s]"
            ],
            "application/vnd.jupyter.widget-view+json": {
              "version_major": 2,
              "version_minor": 0,
              "model_id": "7632baf373d64fa29b62bc457e057605"
            }
          },
          "metadata": {}
        },
        {
          "output_type": "display_data",
          "data": {
            "text/plain": [
              "Downloading:   0%|          | 0.00/478M [00:00<?, ?B/s]"
            ],
            "application/vnd.jupyter.widget-view+json": {
              "version_major": 2,
              "version_minor": 0,
              "model_id": "cce5a65413dd4298a88b54274f93dddb"
            }
          },
          "metadata": {}
        },
        {
          "output_type": "stream",
          "name": "stderr",
          "text": [
            "Some weights of the model checkpoint at roberta-base were not used when initializing RobertaForSequenceClassification: ['lm_head.decoder.weight', 'roberta.pooler.dense.bias', 'roberta.pooler.dense.weight', 'lm_head.layer_norm.bias', 'lm_head.dense.bias', 'lm_head.layer_norm.weight', 'lm_head.dense.weight', 'lm_head.bias']\n",
            "- This IS expected if you are initializing RobertaForSequenceClassification from the checkpoint of a model trained on another task or with another architecture (e.g. initializing a BertForSequenceClassification model from a BertForPreTraining model).\n",
            "- This IS NOT expected if you are initializing RobertaForSequenceClassification from the checkpoint of a model that you expect to be exactly identical (initializing a BertForSequenceClassification model from a BertForSequenceClassification model).\n",
            "Some weights of RobertaForSequenceClassification were not initialized from the model checkpoint at roberta-base and are newly initialized: ['classifier.out_proj.weight', 'classifier.out_proj.bias', 'classifier.dense.weight', 'classifier.dense.bias']\n",
            "You should probably TRAIN this model on a down-stream task to be able to use it for predictions and inference.\n"
          ]
        },
        {
          "output_type": "display_data",
          "data": {
            "text/plain": [
              "Downloading:   0%|          | 0.00/878k [00:00<?, ?B/s]"
            ],
            "application/vnd.jupyter.widget-view+json": {
              "version_major": 2,
              "version_minor": 0,
              "model_id": "d5118cbc6ff64b08992c8b8071d9a864"
            }
          },
          "metadata": {}
        },
        {
          "output_type": "display_data",
          "data": {
            "text/plain": [
              "Downloading:   0%|          | 0.00/446k [00:00<?, ?B/s]"
            ],
            "application/vnd.jupyter.widget-view+json": {
              "version_major": 2,
              "version_minor": 0,
              "model_id": "b0b5d7a62bb7456da5ea3ba2b85266d7"
            }
          },
          "metadata": {}
        },
        {
          "output_type": "display_data",
          "data": {
            "text/plain": [
              "Downloading:   0%|          | 0.00/1.29M [00:00<?, ?B/s]"
            ],
            "application/vnd.jupyter.widget-view+json": {
              "version_major": 2,
              "version_minor": 0,
              "model_id": "3bd0ed79b39b41d5a34c26cf3b96e1b1"
            }
          },
          "metadata": {}
        }
      ]
    },
    {
      "cell_type": "markdown",
      "source": [
        "## Inspect Training Arguments"
      ],
      "metadata": {
        "id": "lhbg8DNEXKbl"
      }
    },
    {
      "cell_type": "code",
      "source": [
        "print(\"train epochs : \", model.args.num_train_epochs)\n",
        "print(\"max_seq_length : \", model.args.max_seq_length)\n",
        "print(\"train_batch_size : \", model.args.train_batch_size)\n",
        "print(\"learning_rate : \", model.args.learning_rate)\n",
        "print(\"model_name : \", model.args.model_name)"
      ],
      "metadata": {
        "id": "N549OlHrXKbm",
        "colab": {
          "base_uri": "https://localhost:8080/"
        },
        "outputId": "bc54b92e-4971-4bbb-fcf7-5c87ec9cfe25"
      },
      "execution_count": null,
      "outputs": [
        {
          "output_type": "stream",
          "name": "stdout",
          "text": [
            "train epochs :  1\n",
            "max_seq_length :  128\n",
            "train_batch_size :  8\n",
            "learning_rate :  4e-05\n",
            "model_name :  roberta-base\n"
          ]
        }
      ]
    },
    {
      "cell_type": "code",
      "source": [
        "print('Training on {:,} samples...'.format(len(train_df)))\n",
        "\n",
        "# Train the model, testing against the validation set periodically.\n",
        "out = model.train_model(train_df, eval_df=validation_df)"
      ],
      "metadata": {
        "id": "TfVHJ960r2-Y",
        "colab": {
          "base_uri": "https://localhost:8080/",
          "height": 220,
          "referenced_widgets": [
            "b340ad9083af4d6393efa108f572f674",
            "af66666f614941a4a44d45ffa5957bfe",
            "bbf9ba86be6d4121bf3e3123741eb03f",
            "21d7c1748328432cac9f9354abf0886a",
            "2dda447e991646688a4afad77dd1e462",
            "9571f743a7834e2d91bef13ec5af0c36",
            "84c428d589dd4c07af39ee9b96be0433",
            "bca4f7b117384b21b68e463cb279762d",
            "c1523faaaff64d9086cc3860519d349e",
            "917de8c5fadb4ef18d220b5bf3e811ff",
            "b390a42880cd4e37aa072e6ea0d3d41d",
            "0dbd568d981d4e2cb65d979d403474d7",
            "33934d65b5db4cac824034386a6c947c",
            "9d76d071bd82436a82e879e3dc215cb3",
            "cb6ad6161e3a4bcd8ab0a814bf77c8e4",
            "70dbd08b390d4c60941c8ec3fd3a7198",
            "9b73f88ad77249cfaca2a67be5f593f7",
            "9b888c74817f42bc9d79fc3c5dc65570",
            "a48047cc546f4010a8fb69952bc8c2a7",
            "3ee90f4f3a8141daa427b7925668db3e",
            "4f237c35b70b4dcd81a4a5799aaeb1b3",
            "b3c55e5cca994b0d922d4dff20abe6aa",
            "4ee05fdc59b44e75b36a99f9b4a024d2",
            "41e979246f234596a65fbe6f1851893f",
            "33e1d3ca10d9437a8390e4d77b163300",
            "a7a60d56c27b4617b2e406dbab937301",
            "0c7deda2f0b44bfab987f5832bd2224a",
            "16dc56e4069949078a4cb26198eb7eec",
            "6a2a34579df64db29719b17529dde48e",
            "e752d9741fe844e697d9b47167cddee2",
            "a578b7d217864dc1b457904c85bc3fd1",
            "9adf92e20f0446be9c6003cd64a07989",
            "667913db436e4dedae75032cb51c0134"
          ]
        },
        "outputId": "5df5f3d6-a8fa-4333-df31-d87dca5bf81f"
      },
      "execution_count": null,
      "outputs": [
        {
          "output_type": "stream",
          "name": "stdout",
          "text": [
            "Training on 16,392 samples...\n"
          ]
        },
        {
          "output_type": "stream",
          "name": "stderr",
          "text": [
            "/usr/local/lib/python3.7/dist-packages/simpletransformers/classification/classification_model.py:602: UserWarning: Dataframe headers not specified. Falling back to using column 0 as text and column 1 as labels.\n",
            "  \"Dataframe headers not specified. Falling back to using column 0 as text and column 1 as labels.\"\n"
          ]
        },
        {
          "output_type": "display_data",
          "data": {
            "text/plain": [
              "  0%|          | 0/16392 [00:00<?, ?it/s]"
            ],
            "application/vnd.jupyter.widget-view+json": {
              "version_major": 2,
              "version_minor": 0,
              "model_id": "b340ad9083af4d6393efa108f572f674"
            }
          },
          "metadata": {}
        },
        {
          "output_type": "stream",
          "name": "stderr",
          "text": [
            "/usr/local/lib/python3.7/dist-packages/transformers/optimization.py:310: FutureWarning: This implementation of AdamW is deprecated and will be removed in a future version. Use the PyTorch implementation torch.optim.AdamW instead, or set `no_deprecation_warning=True` to disable this warning\n",
            "  FutureWarning,\n"
          ]
        },
        {
          "output_type": "display_data",
          "data": {
            "text/plain": [
              "Epoch:   0%|          | 0/1 [00:00<?, ?it/s]"
            ],
            "application/vnd.jupyter.widget-view+json": {
              "version_major": 2,
              "version_minor": 0,
              "model_id": "0dbd568d981d4e2cb65d979d403474d7"
            }
          },
          "metadata": {}
        },
        {
          "output_type": "display_data",
          "data": {
            "text/plain": [
              "Running Epoch 0 of 1:   0%|          | 0/2049 [00:00<?, ?it/s]"
            ],
            "application/vnd.jupyter.widget-view+json": {
              "version_major": 2,
              "version_minor": 0,
              "model_id": "4ee05fdc59b44e75b36a99f9b4a024d2"
            }
          },
          "metadata": {}
        }
      ]
    },
    {
      "cell_type": "markdown",
      "metadata": {
        "id": "Sr-OL53Or2-Z"
      },
      "source": [
        "## Model Evaluation\n"
      ]
    },
    {
      "cell_type": "markdown",
      "source": [
        "### On Validation"
      ],
      "metadata": {
        "id": "Re320PdZr2-a"
      }
    },
    {
      "cell_type": "code",
      "source": [
        "from sklearn.metrics import f1_score, accuracy_score\n",
        "def f1_multiclass(labels, preds):\n",
        "    return f1_score(labels, preds, average='micro')\n",
        "\n",
        "def conf_matrix(labels, preds):\n",
        "    return confusion_matrix(labels, preds)\n",
        "    \n",
        "result, val_outputs, wrong_predictions = model.eval_model(validation_df, f1=f1_multiclass, cm=conf_matrix, acc=accuracy_score)\n",
        "print(result)"
      ],
      "metadata": {
        "id": "rIQ1DR7Mr2-b",
        "colab": {
          "base_uri": "https://localhost:8080/",
          "height": 222,
          "referenced_widgets": [
            "01b70a5f61454965ad3fe24081bbf7ea",
            "66e8576c37274ded873245b8bc06389c",
            "71a1f587dac848b396f510a5444800e1",
            "be042735f294433185548ac21810c04e",
            "8a5d27f1d2fa42f38c16b298351b2887",
            "2a3866aee9a5444b929bf759420e1f24",
            "da68bdb02a8f4693af728b19bee74ba0",
            "a0fe0ced220846b58fb799952f298e3b",
            "864a836ab08941da9bd502610186436c",
            "06c9f93dd01d4b6e8acf901fd1c7e39c",
            "b9944e40195b4ac69edcc30ac322004d",
            "947853ca6dc54578bd83fcc048eea183",
            "f5dfd8c948294199b1fe1b8ff99983be",
            "5f84b97bc88d4e0293eb94ce76e3d143",
            "7d22d26920984284818d5ee186cb36ef",
            "2674b5c4dd8c4c77966d2c8f88b13ed2",
            "a2101a1027d948abad4d068f41557eb2",
            "0cb45f187eb1468f805b01c5f15c5615",
            "972d3b81838b496ba662a45db71dfe5c",
            "ca1d6aa50f6e49289de1caf7cd733c13",
            "1edac7273dfa42d9b50b7d9a79eeac75",
            "c534d1d2079541d2b19080739daff1c7"
          ]
        },
        "outputId": "4e94e0f9-99a5-41bb-d29a-0cb033c69d3a"
      },
      "execution_count": null,
      "outputs": [
        {
          "output_type": "stream",
          "name": "stderr",
          "text": [
            "/usr/local/lib/python3.7/dist-packages/simpletransformers/classification/classification_model.py:1443: UserWarning: Dataframe headers not specified. Falling back to using column 0 as text and column 1 as labels.\n",
            "  \"Dataframe headers not specified. Falling back to using column 0 as text and column 1 as labels.\"\n"
          ]
        },
        {
          "output_type": "display_data",
          "data": {
            "text/plain": [
              "  0%|          | 0/2049 [00:00<?, ?it/s]"
            ],
            "application/vnd.jupyter.widget-view+json": {
              "version_major": 2,
              "version_minor": 0,
              "model_id": "01b70a5f61454965ad3fe24081bbf7ea"
            }
          },
          "metadata": {}
        },
        {
          "output_type": "display_data",
          "data": {
            "text/plain": [
              "Running Evaluation:   0%|          | 0/257 [00:00<?, ?it/s]"
            ],
            "application/vnd.jupyter.widget-view+json": {
              "version_major": 2,
              "version_minor": 0,
              "model_id": "947853ca6dc54578bd83fcc048eea183"
            }
          },
          "metadata": {}
        },
        {
          "output_type": "stream",
          "name": "stdout",
          "text": [
            "{'mcc': 0.2415652139376959, 'f1': 0.4924353343094192, 'cm': array([[ 90,  21,   2,   1,  17],\n",
            "       [ 68,  31,   7,   0,  84],\n",
            "       [ 25,  19,   6,   2, 169],\n",
            "       [  7,  22,   2,   1, 565],\n",
            "       [  7,  18,   4,   0, 881]]), 'acc': 0.4924353343094192, 'eval_loss': 1.3320476920688198}\n"
          ]
        }
      ]
    },
    {
      "cell_type": "code",
      "source": [
        "print(classification_report(validation_df.label,np.argmax(val_outputs,axis=1)))"
      ],
      "metadata": {
        "id": "cx9dvBl_r2-b",
        "colab": {
          "base_uri": "https://localhost:8080/"
        },
        "outputId": "3cbe3681-dcfc-450b-a132-a4a703035441"
      },
      "execution_count": null,
      "outputs": [
        {
          "output_type": "stream",
          "name": "stdout",
          "text": [
            "              precision    recall  f1-score   support\n",
            "\n",
            "           0       0.46      0.69      0.55       131\n",
            "           1       0.28      0.16      0.21       190\n",
            "           2       0.29      0.03      0.05       221\n",
            "           3       0.25      0.00      0.00       597\n",
            "           4       0.51      0.97      0.67       910\n",
            "\n",
            "    accuracy                           0.49      2049\n",
            "   macro avg       0.36      0.37      0.30      2049\n",
            "weighted avg       0.39      0.49      0.36      2049\n",
            "\n"
          ]
        }
      ]
    },
    {
      "cell_type": "markdown",
      "source": [
        "### On Test"
      ],
      "metadata": {
        "id": "bLOxFxOdr2-c"
      }
    },
    {
      "cell_type": "code",
      "metadata": {
        "id": "2l8S5FM9r2-c",
        "colab": {
          "base_uri": "https://localhost:8080/",
          "height": 222,
          "referenced_widgets": [
            "c509e23bf4d6489cbdc953b08ee96b8b",
            "8727b664bcb54cef8dbadb7e3248e76b",
            "31122ea6b7a84e4d82e03dbba5faa3d3",
            "901e13b90b894b019f509915244d10c3",
            "7b9f4dd43d0349e8abbc7f414556743e",
            "9e5b2cf1b46d4bbbb75def36556748d4",
            "b6c6f8f5e983408ab1d68e504396c764",
            "40ffa9ca6dab437a980df2f3c91e19bb",
            "3ceac70fe97744a0b6db65ae2dca80cd",
            "1999f71558cf495faddc4170ca4f48ba",
            "e7914c3c564b4d17a41c85537ca78fd7",
            "3776a37c362647368a6def681496a5a8",
            "c3d558c696364463a04d9226929471d3",
            "263fc5429891463a8ce22deab48d00a4",
            "19ecb5e235274ebfb0525c9cebf19255",
            "40da560d2f73405bb82ac0c4ac1fa696",
            "61b6bd68f6a845f3b05826758c5fa12e",
            "3c44892a749042f58a5e4f5eebed1726",
            "937e1bf8be034afabb86b37024eb630a",
            "7eebc0132e534ee98be11dbf5cff4942",
            "3b7dc1ad9ca241e3871745d3558c28ff",
            "9a5d890b344749988b56f2a95b4ed2a2"
          ]
        },
        "outputId": "29929f5d-7259-477b-d4e2-67c213171600"
      },
      "source": [
        "# Evaluate the model\n",
        "result, test_outputs, wrong_predictions = model.eval_model(test_df, f1=f1_multiclass, cm=conf_matrix, acc=accuracy_score)\n",
        "print(result)"
      ],
      "execution_count": null,
      "outputs": [
        {
          "output_type": "stream",
          "name": "stderr",
          "text": [
            "/usr/local/lib/python3.7/dist-packages/simpletransformers/classification/classification_model.py:1443: UserWarning: Dataframe headers not specified. Falling back to using column 0 as text and column 1 as labels.\n",
            "  \"Dataframe headers not specified. Falling back to using column 0 as text and column 1 as labels.\"\n"
          ]
        },
        {
          "output_type": "display_data",
          "data": {
            "text/plain": [
              "  0%|          | 0/2050 [00:00<?, ?it/s]"
            ],
            "application/vnd.jupyter.widget-view+json": {
              "version_major": 2,
              "version_minor": 0,
              "model_id": "c509e23bf4d6489cbdc953b08ee96b8b"
            }
          },
          "metadata": {}
        },
        {
          "output_type": "display_data",
          "data": {
            "text/plain": [
              "Running Evaluation:   0%|          | 0/257 [00:00<?, ?it/s]"
            ],
            "application/vnd.jupyter.widget-view+json": {
              "version_major": 2,
              "version_minor": 0,
              "model_id": "3776a37c362647368a6def681496a5a8"
            }
          },
          "metadata": {}
        },
        {
          "output_type": "stream",
          "name": "stdout",
          "text": [
            "{'mcc': 0.26970460566367793, 'f1': 0.5068292682926829, 'cm': array([[119,  27,   4,   1,  19],\n",
            "       [ 69,  29,   7,   3,  72],\n",
            "       [ 25,  22,   7,   1, 162],\n",
            "       [ 11,  17,   3,   1, 538],\n",
            "       [ 16,  11,   3,   0, 883]]), 'acc': 0.5068292682926829, 'eval_loss': 1.3352248819421701}\n"
          ]
        }
      ]
    },
    {
      "cell_type": "code",
      "source": [
        "print(classification_report(test_df.label,np.argmax(test_outputs,axis=1)))"
      ],
      "metadata": {
        "id": "ferJ2-n0r2-d",
        "colab": {
          "base_uri": "https://localhost:8080/"
        },
        "outputId": "d89daf27-0eb3-40da-f588-b5a1b1c7f092"
      },
      "execution_count": null,
      "outputs": [
        {
          "output_type": "stream",
          "name": "stdout",
          "text": [
            "              precision    recall  f1-score   support\n",
            "\n",
            "           0       0.50      0.70      0.58       170\n",
            "           1       0.27      0.16      0.20       180\n",
            "           2       0.29      0.03      0.06       217\n",
            "           3       0.17      0.00      0.00       570\n",
            "           4       0.53      0.97      0.68       913\n",
            "\n",
            "    accuracy                           0.51      2050\n",
            "   macro avg       0.35      0.37      0.31      2050\n",
            "weighted avg       0.38      0.51      0.38      2050\n",
            "\n"
          ]
        }
      ]
    },
    {
      "cell_type": "markdown",
      "source": [
        "### On raw text"
      ],
      "metadata": {
        "id": "es0jaUt_r2-d"
      }
    },
    {
      "cell_type": "code",
      "source": [
        "predictions, raw_outputs = model.predict([df.text.iloc[5]])\n",
        "predictions, raw_outputs, np.argmax(raw_outputs)"
      ],
      "metadata": {
        "id": "llMQp986r2-e",
        "colab": {
          "base_uri": "https://localhost:8080/",
          "referenced_widgets": [
            "f4a98a86e4f642ff85f4e20035212d7c",
            "63c426c6eda047e9ac4f2a88eb2ce989",
            "4a2bf7a4ec094ac7a10827277d365b72",
            "d68e0b04658f46178580de8e1269036c",
            "4137db2de78b4f7c85e71bc2ef2fbef2",
            "ecd5086508cc4f2196db0da4125f0dc9",
            "5093ebcad40645a089dd55f1a4b35f0f",
            "cef683931aa34c10987dc599c8c6ddea",
            "5786a63a47834dfd996cd6a497699118",
            "3d4f95ddbc6f4153b81d07a7e19b8b33",
            "9121fba3af7a43a5b968979b39878996",
            "1572268f31ea47f4b64045ab15ed0228",
            "9813e8b4e2fc47edaa6dd7613d3a284b",
            "fbb3d6d3a62f41e8acee0867f3ebe05b",
            "90b800b49c444c8f8f040dbce6876521",
            "3e88e57772d7435aadebf47818d4d560",
            "9f4b15ac90f243e6b373e03be1053236",
            "3fac5e468e9247c0af455f1f7516b60f",
            "4dc5ea60a4084434aa5f31721623ce99",
            "43f94bbbc13e46179ef8fcd22c639b7f",
            "fab16186cf114b059629897a94d31851",
            "bedf3a5cf61444b38959136325ba8e70"
          ]
        },
        "outputId": "be370888-2663-42df-e58a-e2fe7d3f0238"
      },
      "execution_count": null,
      "outputs": [
        {
          "output_type": "display_data",
          "data": {
            "text/plain": [
              "  0%|          | 0/1 [00:00<?, ?it/s]"
            ],
            "application/vnd.jupyter.widget-view+json": {
              "version_major": 2,
              "version_minor": 0,
              "model_id": "f4a98a86e4f642ff85f4e20035212d7c"
            }
          },
          "metadata": {}
        },
        {
          "output_type": "display_data",
          "data": {
            "text/plain": [
              "  0%|          | 0/1 [00:00<?, ?it/s]"
            ],
            "application/vnd.jupyter.widget-view+json": {
              "version_major": 2,
              "version_minor": 0,
              "model_id": "1572268f31ea47f4b64045ab15ed0228"
            }
          },
          "metadata": {}
        },
        {
          "output_type": "execute_result",
          "data": {
            "text/plain": [
              "(array([4]),\n",
              " array([[-2.640625  , -0.7265625 ,  0.58496094,  1.16796875,  1.35546875]]),\n",
              " 4)"
            ]
          },
          "metadata": {},
          "execution_count": 57
        }
      ]
    },
    {
      "cell_type": "code",
      "source": [
        ""
      ],
      "metadata": {
        "id": "VX-Gm0_mwEga"
      },
      "execution_count": null,
      "outputs": []
    },
    {
      "cell_type": "code",
      "source": [
        ""
      ],
      "metadata": {
        "id": "AZvFD-uSwFNK"
      },
      "execution_count": null,
      "outputs": []
    },
    {
      "cell_type": "markdown",
      "source": [
        "# XLNet(Handle Class inbalancy)\n"
      ],
      "metadata": {
        "id": "CmBcXmA_whrO"
      }
    },
    {
      "cell_type": "code",
      "source": [
        "from simpletransformers.classification import ClassificationModel\n",
        "\n",
        "args = {\n",
        "    'reprocess_input_data': True, \n",
        "    'overwrite_output_dir': True\n",
        "}\n",
        "\n",
        "model = ClassificationModel('xlnet', 'xlnet-base-cased', num_labels=5, args=args, weight=[2.88, 2.28, 1.87, 0.68, 0.45])"
      ],
      "metadata": {
        "id": "xr1oNDaZwhrP",
        "colab": {
          "base_uri": "https://localhost:8080/",
          "height": 252,
          "referenced_widgets": [
            "68dbd73e43a449c6a4439931dc9cf74c",
            "f796c2bfd07c46648f76a8609a911575",
            "ec6ff381c66a47a6a87c8dfff7e19b4b",
            "967cd991ced8472eabb7bb8251fb794f",
            "7a56c7ab5da24de6a6d8c996dec6b070",
            "b2299936504244e59d534fa1a5dd501a",
            "f186ee2beb864618aee2735e1dbb6d3e",
            "455361a192864226894bcd3b317fb840",
            "f4b8079d2ebd4447a0977b844e6be627",
            "4b8b5a2e662543d9ae0101d837c987ef",
            "ab33d85e6e3947029283acd2234f6a57",
            "865364b6d529480db92cc134f97daaf4",
            "efeeb139ecf249ca85ce37edb8a19f85",
            "d5e6283eb9bb4a78824a4da4d86ab448",
            "b4e7b3f9293f42ab839dfa2d90c78d6e",
            "84cb0bb440d04534b4a8f1a3cc842a01",
            "72a6dd35b4314f7a9d00d4a6e40ee7f0",
            "16be57f5e8e2412a8abf5ee62a6c7752",
            "fdb9b919d77240e7aea910b53eeb694f",
            "28e65e11257441a79a2df0fdc5f050a3",
            "ef9eae0de8e448beae5f4dbaa0676ae8",
            "6d0f863385564979bdba542adc5c421d",
            "38e0d2b83bd349aeb5f3ccf42eacf9d4",
            "96ca997731164dc1a73f93ddd5f5e511",
            "498334e3df9b4b2986a69d80819dc622",
            "c41d0c6b8f42490e8c3e228891de9aa8",
            "4652c8fa59ce4a6cbecacbdaa17b94f3",
            "9fb66f81836b4b3287c9f95a3dc2bb24",
            "823e2e4fe043427da2936e8cbd6bdc7c",
            "b8a350f5c15b4d769cd0d9af45d45c97",
            "1729c9e6a9504279872385384a3f0f10",
            "0065c71d24f2462cb32ad6c3550a3f8b",
            "1e0b7b2d316f431e9f23121117c70913",
            "8859d26ce2a44669a3cc7465ee28fe73",
            "33423aacfd0849ccbb9767a88278a285",
            "3b3b13b3d276453187e8e2e994c1c040",
            "c1550444c8af42809680ddd8b2495a8a",
            "23b935d26bb845babee21fcc5ebcd954",
            "e13e3ee12b1041198a16cc5507d81c3f",
            "d66639aeb0ac4945b4d2dd5ad0bdd385",
            "a21bdd7276fd48d0b39a51a9532f16bc",
            "508b741b14814f2db23a10c4817bb4eb",
            "a0cc8c4565b24443be657cda71b56410",
            "721eab986bd349c2a08211cf4e96cd0f"
          ]
        },
        "outputId": "9d4d9464-a34f-4923-8ede-76661fb11b71"
      },
      "execution_count": null,
      "outputs": [
        {
          "output_type": "display_data",
          "data": {
            "text/plain": [
              "Downloading:   0%|          | 0.00/760 [00:00<?, ?B/s]"
            ],
            "application/vnd.jupyter.widget-view+json": {
              "version_major": 2,
              "version_minor": 0,
              "model_id": "68dbd73e43a449c6a4439931dc9cf74c"
            }
          },
          "metadata": {}
        },
        {
          "output_type": "display_data",
          "data": {
            "text/plain": [
              "Downloading:   0%|          | 0.00/445M [00:00<?, ?B/s]"
            ],
            "application/vnd.jupyter.widget-view+json": {
              "version_major": 2,
              "version_minor": 0,
              "model_id": "865364b6d529480db92cc134f97daaf4"
            }
          },
          "metadata": {}
        },
        {
          "output_type": "stream",
          "name": "stderr",
          "text": [
            "Some weights of the model checkpoint at xlnet-base-cased were not used when initializing XLNetForSequenceClassification: ['lm_loss.weight', 'lm_loss.bias']\n",
            "- This IS expected if you are initializing XLNetForSequenceClassification from the checkpoint of a model trained on another task or with another architecture (e.g. initializing a BertForSequenceClassification model from a BertForPreTraining model).\n",
            "- This IS NOT expected if you are initializing XLNetForSequenceClassification from the checkpoint of a model that you expect to be exactly identical (initializing a BertForSequenceClassification model from a BertForSequenceClassification model).\n",
            "Some weights of XLNetForSequenceClassification were not initialized from the model checkpoint at xlnet-base-cased and are newly initialized: ['logits_proj.bias', 'logits_proj.weight', 'sequence_summary.summary.bias', 'sequence_summary.summary.weight']\n",
            "You should probably TRAIN this model on a down-stream task to be able to use it for predictions and inference.\n"
          ]
        },
        {
          "output_type": "display_data",
          "data": {
            "text/plain": [
              "Downloading:   0%|          | 0.00/779k [00:00<?, ?B/s]"
            ],
            "application/vnd.jupyter.widget-view+json": {
              "version_major": 2,
              "version_minor": 0,
              "model_id": "38e0d2b83bd349aeb5f3ccf42eacf9d4"
            }
          },
          "metadata": {}
        },
        {
          "output_type": "display_data",
          "data": {
            "text/plain": [
              "Downloading:   0%|          | 0.00/1.32M [00:00<?, ?B/s]"
            ],
            "application/vnd.jupyter.widget-view+json": {
              "version_major": 2,
              "version_minor": 0,
              "model_id": "8859d26ce2a44669a3cc7465ee28fe73"
            }
          },
          "metadata": {}
        }
      ]
    },
    {
      "cell_type": "markdown",
      "source": [
        "## Inspect Training Arguments"
      ],
      "metadata": {
        "id": "yU3E8E2uXTWL"
      }
    },
    {
      "cell_type": "code",
      "source": [
        "print(\"train epochs : \", model.args.num_train_epochs)\n",
        "print(\"max_seq_length : \", model.args.max_seq_length)\n",
        "print(\"train_batch_size : \", model.args.train_batch_size)\n",
        "print(\"learning_rate : \", model.args.learning_rate)\n",
        "print(\"model_name : \", model.args.model_name)"
      ],
      "metadata": {
        "id": "pyhLj7kbXTWN",
        "colab": {
          "base_uri": "https://localhost:8080/"
        },
        "outputId": "275fc5f3-0bb9-419e-9715-c218b234a0ef"
      },
      "execution_count": null,
      "outputs": [
        {
          "output_type": "stream",
          "name": "stdout",
          "text": [
            "train epochs :  1\n",
            "max_seq_length :  128\n",
            "train_batch_size :  8\n",
            "learning_rate :  4e-05\n",
            "model_name :  xlnet-base-cased\n"
          ]
        }
      ]
    },
    {
      "cell_type": "code",
      "source": [
        "print('Training on {:,} samples...'.format(len(train_df)))\n",
        "\n",
        "# Train the model, testing against the validation set periodically.\n",
        "out = model.train_model(train_df, eval_df=validation_df)"
      ],
      "metadata": {
        "id": "98p7-KdkwhrQ",
        "colab": {
          "base_uri": "https://localhost:8080/",
          "height": 254,
          "referenced_widgets": [
            "a42372c6535a43d6a4ee2a9fdd7057db",
            "1d3af713e7544f8e90925080383565f4",
            "f1107ee9d1164180910df2eebb44af20",
            "a1b4fae0bdf04c57970b47b5f8da469c",
            "cd312e9ceb984f20b3ad71f1ad4b4c39",
            "7340602ca7874892a1c9580ddd01da35",
            "2f952273041c46f49567c07eeda4f778",
            "602ce1b465314ea49dcd0325e583266c",
            "83b2bcbf9d6e4aceace99d31002486a9",
            "6a5faffc30734e74a488b8e4bc58ac6b",
            "e9e339d50ffb41b2829337a0c680825f",
            "bbc72b4bfc454bac87692fc1b4254a0a",
            "4bef954412ce4ded9c54957267752f54",
            "bea9054ab6ed469ab908eac3cf1795e7",
            "8019e605f6264790b793577b6bac6d9d",
            "a5d74a089fea4c2f99c23a5af700b9d0",
            "ce54cd2dcab34d09ba406b4ff677e703",
            "a4c193d27f32424fa81b7c2fc1218c07",
            "75402775f2e14eb8ac1c115fe45ae73f",
            "fcb6cd407d4f4e88af3311127574ad89",
            "19fcd90c5242438a84451d4e9bd7bc4e",
            "6739768699a746819d87e69fb6672071",
            "906ddf324cfb48eeb526e6f343b7f5c7",
            "09fca96cd543438bb1c3e285b691eecd",
            "3dbd638da392429dbafcebcc1ac69667",
            "ff4d30255eaf423388388ab195d722c2",
            "546c699c63ba4ff8a1175c55f2499195",
            "3afe717bfc4d4a53ad7fa55a296c1dce",
            "8ff6cff190ef47b1b53a90504b806743",
            "622ddfc0ca8247a0b86e8edce599b2c2",
            "41c2ad5fe14e4d1dbf1e8f2b129ce9ba",
            "45bde7f10f97449e998bb2fb68d5198c",
            "a81fe15ebc8440329e7f4d6fc76802d8"
          ]
        },
        "outputId": "1e5a4d80-7e9b-49bc-af9a-98c27357712f"
      },
      "execution_count": null,
      "outputs": [
        {
          "output_type": "stream",
          "name": "stdout",
          "text": [
            "Training on 16,392 samples...\n"
          ]
        },
        {
          "output_type": "stream",
          "name": "stderr",
          "text": [
            "/usr/local/lib/python3.7/dist-packages/simpletransformers/classification/classification_model.py:602: UserWarning: Dataframe headers not specified. Falling back to using column 0 as text and column 1 as labels.\n",
            "  \"Dataframe headers not specified. Falling back to using column 0 as text and column 1 as labels.\"\n"
          ]
        },
        {
          "output_type": "display_data",
          "data": {
            "text/plain": [
              "  0%|          | 0/16392 [00:00<?, ?it/s]"
            ],
            "application/vnd.jupyter.widget-view+json": {
              "version_major": 2,
              "version_minor": 0,
              "model_id": "a42372c6535a43d6a4ee2a9fdd7057db"
            }
          },
          "metadata": {}
        },
        {
          "output_type": "stream",
          "name": "stderr",
          "text": [
            "/usr/local/lib/python3.7/dist-packages/transformers/optimization.py:310: FutureWarning: This implementation of AdamW is deprecated and will be removed in a future version. Use the PyTorch implementation torch.optim.AdamW instead, or set `no_deprecation_warning=True` to disable this warning\n",
            "  FutureWarning,\n"
          ]
        },
        {
          "output_type": "display_data",
          "data": {
            "text/plain": [
              "Epoch:   0%|          | 0/1 [00:00<?, ?it/s]"
            ],
            "application/vnd.jupyter.widget-view+json": {
              "version_major": 2,
              "version_minor": 0,
              "model_id": "bbc72b4bfc454bac87692fc1b4254a0a"
            }
          },
          "metadata": {}
        },
        {
          "output_type": "display_data",
          "data": {
            "text/plain": [
              "Running Epoch 0 of 1:   0%|          | 0/2049 [00:00<?, ?it/s]"
            ],
            "application/vnd.jupyter.widget-view+json": {
              "version_major": 2,
              "version_minor": 0,
              "model_id": "906ddf324cfb48eeb526e6f343b7f5c7"
            }
          },
          "metadata": {}
        },
        {
          "output_type": "stream",
          "name": "stderr",
          "text": [
            "/usr/local/lib/python3.7/dist-packages/torch/optim/lr_scheduler.py:136: UserWarning: Detected call of `lr_scheduler.step()` before `optimizer.step()`. In PyTorch 1.1.0 and later, you should call them in the opposite order: `optimizer.step()` before `lr_scheduler.step()`.  Failure to do this will result in PyTorch skipping the first value of the learning rate schedule. See more details at https://pytorch.org/docs/stable/optim.html#how-to-adjust-learning-rate\n",
            "  \"https://pytorch.org/docs/stable/optim.html#how-to-adjust-learning-rate\", UserWarning)\n"
          ]
        }
      ]
    },
    {
      "cell_type": "markdown",
      "metadata": {
        "id": "vkOrqt-ywhrR"
      },
      "source": [
        "## Model Evaluation\n"
      ]
    },
    {
      "cell_type": "markdown",
      "source": [
        "### On Validation"
      ],
      "metadata": {
        "id": "sGXh1G4BwhrR"
      }
    },
    {
      "cell_type": "code",
      "source": [
        "from sklearn.metrics import f1_score, accuracy_score\n",
        "def f1_multiclass(labels, preds):\n",
        "    return f1_score(labels, preds, average='micro')\n",
        "\n",
        "def conf_matrix(labels, preds):\n",
        "    return confusion_matrix(labels, preds)\n",
        "    \n",
        "result, val_outputs, wrong_predictions = model.eval_model(validation_df, f1=f1_multiclass, cm=conf_matrix, acc=accuracy_score)\n",
        "print(result)"
      ],
      "metadata": {
        "id": "fF3T1fRjwhrS",
        "colab": {
          "base_uri": "https://localhost:8080/",
          "height": 222,
          "referenced_widgets": [
            "13b2d831786446519c129e7d4f666f31",
            "f554f9a7d4d247dab406eb91cc9f6023",
            "5bd1532552164ecb9458bc4f6d731305",
            "ec35b3a9726a4ecaa1f31dd1c3f7a957",
            "1eebfb4cdda74dd9adc3c8224035b72d",
            "0913e468d4424ef19295dd7507106ca3",
            "279aca6d3d1f435faa3758284b5688b9",
            "71cd432b7b00477e9eb041926545fed9",
            "4dcd87b33ba04949925b5bcb3cd21361",
            "d014ed94b16b4d039b7d093487fa4320",
            "9e2e27f701174e89aa18bd742cbc9e18",
            "71d1dd450b4743fe9879a30f29874773",
            "74114d5762fc43b8bad775ae23d51bd9",
            "f5e037bf61954b608c2a6ab2bdbb0a06",
            "111da78fc4d740539ccf83f01e82ac77",
            "9e42fc3b5c7c41cf9f7af726ed6a994a",
            "66d7e1b298e1493cbbf7f1b919c2513f",
            "09e2f67f4caf4ef6ae0ae5de5dc98f65",
            "ea07e90f095a4a42b2edb4d574a61750",
            "65c0f393abde429496ee083ae85e5941",
            "833ce716c94343a182ab9bb96f18729d",
            "8df3665a670a4e31a50de8dae74f62a0"
          ]
        },
        "outputId": "0ebc4e42-07d7-422c-f4ea-0048524283cb"
      },
      "execution_count": null,
      "outputs": [
        {
          "output_type": "stream",
          "name": "stderr",
          "text": [
            "/usr/local/lib/python3.7/dist-packages/simpletransformers/classification/classification_model.py:1443: UserWarning: Dataframe headers not specified. Falling back to using column 0 as text and column 1 as labels.\n",
            "  \"Dataframe headers not specified. Falling back to using column 0 as text and column 1 as labels.\"\n"
          ]
        },
        {
          "output_type": "display_data",
          "data": {
            "text/plain": [
              "  0%|          | 0/2049 [00:00<?, ?it/s]"
            ],
            "application/vnd.jupyter.widget-view+json": {
              "version_major": 2,
              "version_minor": 0,
              "model_id": "13b2d831786446519c129e7d4f666f31"
            }
          },
          "metadata": {}
        },
        {
          "output_type": "display_data",
          "data": {
            "text/plain": [
              "Running Evaluation:   0%|          | 0/257 [00:00<?, ?it/s]"
            ],
            "application/vnd.jupyter.widget-view+json": {
              "version_major": 2,
              "version_minor": 0,
              "model_id": "71d1dd450b4743fe9879a30f29874773"
            }
          },
          "metadata": {}
        },
        {
          "output_type": "stream",
          "name": "stdout",
          "text": [
            "{'mcc': 0.48638953925640704, 'f1': 0.6408003904343582, 'cm': array([[ 86,  42,   2,   1,   0],\n",
            "       [ 38, 106,  37,   5,   4],\n",
            "       [  3,  55, 109,  49,   5],\n",
            "       [  1,  20,  78, 306, 192],\n",
            "       [  0,   7,  12, 185, 706]]), 'acc': 0.6408003904343582, 'eval_loss': 0.8973847102910164}\n"
          ]
        }
      ]
    },
    {
      "cell_type": "code",
      "source": [
        "print(classification_report(validation_df.label,np.argmax(val_outputs,axis=1)))"
      ],
      "metadata": {
        "id": "EuapmZmNwhrS",
        "colab": {
          "base_uri": "https://localhost:8080/"
        },
        "outputId": "2d46c73a-29c6-4eb8-f88a-1cd2322ff19d"
      },
      "execution_count": null,
      "outputs": [
        {
          "output_type": "stream",
          "name": "stdout",
          "text": [
            "              precision    recall  f1-score   support\n",
            "\n",
            "           0       0.67      0.66      0.66       131\n",
            "           1       0.46      0.56      0.50       190\n",
            "           2       0.46      0.49      0.47       221\n",
            "           3       0.56      0.51      0.54       597\n",
            "           4       0.78      0.78      0.78       910\n",
            "\n",
            "    accuracy                           0.64      2049\n",
            "   macro avg       0.59      0.60      0.59      2049\n",
            "weighted avg       0.64      0.64      0.64      2049\n",
            "\n"
          ]
        }
      ]
    },
    {
      "cell_type": "markdown",
      "source": [
        "### On Test"
      ],
      "metadata": {
        "id": "gFaKlixUwhrS"
      }
    },
    {
      "cell_type": "code",
      "metadata": {
        "id": "LVbPdAq3whrT",
        "colab": {
          "base_uri": "https://localhost:8080/",
          "height": 222,
          "referenced_widgets": [
            "a1c8be9751064b34b3233603e4314057",
            "09c50b21f3ac4ca4981bc05a00ba2b4e",
            "ee36a5abfe3945c29334c56655282b0c",
            "badfee1fa6b64ff2be734a4b946edf82",
            "a8181989cafe4aa1856f6579171c2d6e",
            "90583ee915574355b1f601b6eae60e04",
            "b7314e377c844d2794de8a87c2ec8d0f",
            "7d6a5a1560104a9291597899c2f83259",
            "1f997bfcb0944607a28cbce95e01597d",
            "673fcdca22e2426795ab208d7231a910",
            "f18ba6f2fd0d48598f49316090bf2a4d",
            "2873558c7d4c412da63cbc405138e931",
            "0d02db921be94c8caa0ac88bf9bc4562",
            "b4fdd48297604f898502cb3cbac6f8fa",
            "b986d48e633845d49696a0e341683174",
            "d9405cf9b2b0490ea20bee0d89acf343",
            "137be808ea1a42d08c10a80b86ce2bfd",
            "918dc1bde0f4492983130cd3c500b17f",
            "d6fd90336523437a8e61458404214268",
            "46c6bb5e63984ee880b9f623f877187c",
            "add311853c93405f9a72db999cec606d",
            "1bf17f34a8ea47e5bdc90f278612a4fd"
          ]
        },
        "outputId": "b6c6162b-e83d-4cd5-9e21-0c89cd791d01"
      },
      "source": [
        "# Evaluate the model\n",
        "result, test_outputs, wrong_predictions = model.eval_model(test_df, f1=f1_multiclass, cm=conf_matrix, acc=accuracy_score)\n",
        "print(result)"
      ],
      "execution_count": null,
      "outputs": [
        {
          "output_type": "stream",
          "name": "stderr",
          "text": [
            "/usr/local/lib/python3.7/dist-packages/simpletransformers/classification/classification_model.py:1443: UserWarning: Dataframe headers not specified. Falling back to using column 0 as text and column 1 as labels.\n",
            "  \"Dataframe headers not specified. Falling back to using column 0 as text and column 1 as labels.\"\n"
          ]
        },
        {
          "output_type": "display_data",
          "data": {
            "text/plain": [
              "  0%|          | 0/2050 [00:00<?, ?it/s]"
            ],
            "application/vnd.jupyter.widget-view+json": {
              "version_major": 2,
              "version_minor": 0,
              "model_id": "a1c8be9751064b34b3233603e4314057"
            }
          },
          "metadata": {}
        },
        {
          "output_type": "display_data",
          "data": {
            "text/plain": [
              "Running Evaluation:   0%|          | 0/257 [00:00<?, ?it/s]"
            ],
            "application/vnd.jupyter.widget-view+json": {
              "version_major": 2,
              "version_minor": 0,
              "model_id": "2873558c7d4c412da63cbc405138e931"
            }
          },
          "metadata": {}
        },
        {
          "output_type": "stream",
          "name": "stdout",
          "text": [
            "{'mcc': 0.5151746333765646, 'f1': 0.6580487804878049, 'cm': array([[119,  48,   3,   0,   0],\n",
            "       [ 25, 114,  26,  14,   1],\n",
            "       [  7,  46, 108,  50,   6],\n",
            "       [  1,  19,  79, 297, 174],\n",
            "       [  2,   9,  10, 181, 711]]), 'acc': 0.6580487804878049, 'eval_loss': 0.8944905155015827}\n"
          ]
        }
      ]
    },
    {
      "cell_type": "code",
      "source": [
        "print(classification_report(test_df.label,np.argmax(test_outputs,axis=1)))"
      ],
      "metadata": {
        "id": "UhhWmKx5whrT",
        "colab": {
          "base_uri": "https://localhost:8080/"
        },
        "outputId": "1410b5aa-83d2-4974-f0d7-a2d5c4ce5f5a"
      },
      "execution_count": null,
      "outputs": [
        {
          "output_type": "stream",
          "name": "stdout",
          "text": [
            "              precision    recall  f1-score   support\n",
            "\n",
            "           0       0.77      0.70      0.73       170\n",
            "           1       0.48      0.63      0.55       180\n",
            "           2       0.48      0.50      0.49       217\n",
            "           3       0.55      0.52      0.53       570\n",
            "           4       0.80      0.78      0.79       913\n",
            "\n",
            "    accuracy                           0.66      2050\n",
            "   macro avg       0.62      0.63      0.62      2050\n",
            "weighted avg       0.66      0.66      0.66      2050\n",
            "\n"
          ]
        }
      ]
    },
    {
      "cell_type": "markdown",
      "source": [
        "### On raw text"
      ],
      "metadata": {
        "id": "sACsGeJ8whrU"
      }
    },
    {
      "cell_type": "code",
      "source": [
        "predictions, raw_outputs = model.predict([df.text.iloc[5]])\n",
        "predictions, raw_outputs, np.argmax(raw_outputs)"
      ],
      "metadata": {
        "id": "K9-r60G5whrU",
        "colab": {
          "base_uri": "https://localhost:8080/",
          "referenced_widgets": [
            "db16723c07c14edea5b4901d0854fed2",
            "2fda7fc521554b6cbf3d93c647d80205",
            "772a02cc14944f1d8897364622ed2f60",
            "d133e8fa0d124577ac7b58eeb2531fa1",
            "5dad9097f7cf4abf83eb581b421390d5",
            "88a62497a4164c298dd0f2c8e933e469",
            "73e8a57addd349908c794ab1fdf9ae55",
            "6e367ae894684ff18a6d231d33eb7f87",
            "a6ffc48a17424bfa87612bb19f498735",
            "cf2317c3d27847f497f646e4b3037bbf",
            "4e84f2daba9843c2b569bed109d45111",
            "b4ee73f172b342bb890484ee88a25bfc",
            "4db9ed1da0cb424d94ef835fb1775185",
            "ac168ef961b942eda07a3099618b7195",
            "d6f5168f6a81485bacda91d3652c281e",
            "566ca8216c124bb5b7e3da3351c489e6",
            "d9f4108d6cee453280a8198e31f8643b",
            "be5aa403832a4bf39b2090d69f0225af",
            "71b87733d26341b08a0349916ef5a0ab",
            "4f7b7b5c80a24ce19e0b93769a9cd23f",
            "014a730add6646b58851f2d38972965e",
            "ce84359e2d7c4adaa015995dac9a79ad"
          ]
        },
        "outputId": "99eb23a1-b4ce-4ac4-d628-7ac858e4e348"
      },
      "execution_count": null,
      "outputs": [
        {
          "output_type": "display_data",
          "data": {
            "text/plain": [
              "  0%|          | 0/1 [00:00<?, ?it/s]"
            ],
            "application/vnd.jupyter.widget-view+json": {
              "version_major": 2,
              "version_minor": 0,
              "model_id": "db16723c07c14edea5b4901d0854fed2"
            }
          },
          "metadata": {}
        },
        {
          "output_type": "display_data",
          "data": {
            "text/plain": [
              "  0%|          | 0/1 [00:00<?, ?it/s]"
            ],
            "application/vnd.jupyter.widget-view+json": {
              "version_major": 2,
              "version_minor": 0,
              "model_id": "b4ee73f172b342bb890484ee88a25bfc"
            }
          },
          "metadata": {}
        },
        {
          "output_type": "execute_result",
          "data": {
            "text/plain": [
              "(array([4]),\n",
              " array([[-1.98046875, -1.54199219, -0.68408203,  2.60546875,  4.45703125]]),\n",
              " 4)"
            ]
          },
          "metadata": {},
          "execution_count": 65
        }
      ]
    },
    {
      "cell_type": "markdown",
      "source": [
        "#GPT2"
      ],
      "metadata": {
        "id": "Yr5JKDhBsAWS"
      }
    },
    {
      "cell_type": "markdown",
      "source": [
        "## Installs"
      ],
      "metadata": {
        "id": "VCksRw4TL8xG"
      }
    },
    {
      "cell_type": "code",
      "source": [
        "!pip3 install torch==1.10.2+cu113 torchvision==0.11.3+cu113 torchaudio==0.10.2+cu113 -f https://download.pytorch.org/whl/cu113/torch_stable.html\n",
        "!pip3 install transformers"
      ],
      "metadata": {
        "id": "8Ys-_KCowyVp",
        "colab": {
          "base_uri": "https://localhost:8080/"
        },
        "outputId": "a45355d0-001f-4d11-b033-3ff03780f37d"
      },
      "execution_count": null,
      "outputs": [
        {
          "output_type": "stream",
          "name": "stdout",
          "text": [
            "Looking in indexes: https://pypi.org/simple, https://us-python.pkg.dev/colab-wheels/public/simple/\n",
            "Looking in links: https://download.pytorch.org/whl/cu113/torch_stable.html\n",
            "Collecting torch==1.10.2+cu113\n",
            "  Downloading https://download.pytorch.org/whl/cu113/torch-1.10.2%2Bcu113-cp37-cp37m-linux_x86_64.whl (1821.4 MB)\n",
            "\u001b[K     |██████████████▋                 | 834.1 MB 1.3 MB/s eta 0:12:54tcmalloc: large alloc 1147494400 bytes == 0x3a4f8000 @  0x7f6f3d7a8615 0x592b76 0x4df71e 0x59afff 0x515655 0x549576 0x593fce 0x548ae9 0x51566f 0x549576 0x593fce 0x548ae9 0x5127f1 0x598e3b 0x511f68 0x598e3b 0x511f68 0x598e3b 0x511f68 0x4bc98a 0x532e76 0x594b72 0x515600 0x549576 0x593fce 0x548ae9 0x5127f1 0x549576 0x593fce 0x5118f8 0x593dd7\n",
            "\u001b[K     |██████████████████▌             | 1055.7 MB 1.2 MB/s eta 0:10:18tcmalloc: large alloc 1434370048 bytes == 0x7eb4e000 @  0x7f6f3d7a8615 0x592b76 0x4df71e 0x59afff 0x515655 0x549576 0x593fce 0x548ae9 0x51566f 0x549576 0x593fce 0x548ae9 0x5127f1 0x598e3b 0x511f68 0x598e3b 0x511f68 0x598e3b 0x511f68 0x4bc98a 0x532e76 0x594b72 0x515600 0x549576 0x593fce 0x548ae9 0x5127f1 0x549576 0x593fce 0x5118f8 0x593dd7\n",
            "\u001b[K     |███████████████████████▌        | 1336.2 MB 1.2 MB/s eta 0:06:49tcmalloc: large alloc 1792966656 bytes == 0x3980000 @  0x7f6f3d7a8615 0x592b76 0x4df71e 0x59afff 0x515655 0x549576 0x593fce 0x548ae9 0x51566f 0x549576 0x593fce 0x548ae9 0x5127f1 0x598e3b 0x511f68 0x598e3b 0x511f68 0x598e3b 0x511f68 0x4bc98a 0x532e76 0x594b72 0x515600 0x549576 0x593fce 0x548ae9 0x5127f1 0x549576 0x593fce 0x5118f8 0x593dd7\n",
            "\u001b[K     |█████████████████████████████▊  | 1691.1 MB 1.2 MB/s eta 0:01:51tcmalloc: large alloc 2241208320 bytes == 0x6e768000 @  0x7f6f3d7a8615 0x592b76 0x4df71e 0x59afff 0x515655 0x549576 0x593fce 0x548ae9 0x51566f 0x549576 0x593fce 0x548ae9 0x5127f1 0x598e3b 0x511f68 0x598e3b 0x511f68 0x598e3b 0x511f68 0x4bc98a 0x532e76 0x594b72 0x515600 0x549576 0x593fce 0x548ae9 0x5127f1 0x549576 0x593fce 0x5118f8 0x593dd7\n",
            "\u001b[K     |████████████████████████████████| 1821.4 MB 1.3 MB/s eta 0:00:01tcmalloc: large alloc 1821433856 bytes == 0xf40ca000 @  0x7f6f3d7a71e7 0x4a3940 0x4a39cc 0x592b76 0x4df71e 0x59afff 0x515655 0x549576 0x593fce 0x511e2c 0x549576 0x593fce 0x511e2c 0x549576 0x593fce 0x511e2c 0x549576 0x593fce 0x511e2c 0x549576 0x593fce 0x511e2c 0x593dd7 0x511e2c 0x549576 0x593fce 0x548ae9 0x5127f1 0x549576 0x593fce 0x548ae9\n",
            "tcmalloc: large alloc 2276794368 bytes == 0x1609d8000 @  0x7f6f3d7a8615 0x592b76 0x4df71e 0x59afff 0x515655 0x549576 0x593fce 0x511e2c 0x549576 0x593fce 0x511e2c 0x549576 0x593fce 0x511e2c 0x549576 0x593fce 0x511e2c 0x549576 0x593fce 0x511e2c 0x593dd7 0x511e2c 0x549576 0x593fce 0x548ae9 0x5127f1 0x549576 0x593fce 0x548ae9 0x5127f1 0x549576\n",
            "\u001b[K     |████████████████████████████████| 1821.4 MB 2.5 kB/s \n",
            "\u001b[?25hCollecting torchvision==0.11.3+cu113\n",
            "  Downloading https://download.pytorch.org/whl/cu113/torchvision-0.11.3%2Bcu113-cp37-cp37m-linux_x86_64.whl (24.5 MB)\n",
            "\u001b[K     |████████████████████████████████| 24.5 MB 1.3 MB/s \n",
            "\u001b[?25hCollecting torchaudio==0.10.2+cu113\n",
            "  Downloading https://download.pytorch.org/whl/cu113/torchaudio-0.10.2%2Bcu113-cp37-cp37m-linux_x86_64.whl (2.9 MB)\n",
            "\u001b[K     |████████████████████████████████| 2.9 MB 59.0 MB/s \n",
            "\u001b[?25hRequirement already satisfied: typing-extensions in /usr/local/lib/python3.7/dist-packages (from torch==1.10.2+cu113) (4.1.1)\n",
            "Requirement already satisfied: pillow!=8.3.0,>=5.3.0 in /usr/local/lib/python3.7/dist-packages (from torchvision==0.11.3+cu113) (7.1.2)\n",
            "Requirement already satisfied: numpy in /usr/local/lib/python3.7/dist-packages (from torchvision==0.11.3+cu113) (1.21.6)\n",
            "Installing collected packages: torch, torchvision, torchaudio\n",
            "  Attempting uninstall: torch\n",
            "    Found existing installation: torch 1.11.0+cu113\n",
            "    Uninstalling torch-1.11.0+cu113:\n",
            "      Successfully uninstalled torch-1.11.0+cu113\n",
            "  Attempting uninstall: torchvision\n",
            "    Found existing installation: torchvision 0.12.0+cu113\n",
            "    Uninstalling torchvision-0.12.0+cu113:\n",
            "      Successfully uninstalled torchvision-0.12.0+cu113\n",
            "  Attempting uninstall: torchaudio\n",
            "    Found existing installation: torchaudio 0.11.0+cu113\n",
            "    Uninstalling torchaudio-0.11.0+cu113:\n",
            "      Successfully uninstalled torchaudio-0.11.0+cu113\n",
            "\u001b[31mERROR: pip's dependency resolver does not currently take into account all the packages that are installed. This behaviour is the source of the following dependency conflicts.\n",
            "torchtext 0.12.0 requires torch==1.11.0, but you have torch 1.10.2+cu113 which is incompatible.\u001b[0m\n",
            "Successfully installed torch-1.10.2+cu113 torchaudio-0.10.2+cu113 torchvision-0.11.3+cu113\n"
          ]
        },
        {
          "output_type": "display_data",
          "data": {
            "application/vnd.colab-display-data+json": {
              "pip_warning": {
                "packages": [
                  "torch",
                  "torchvision"
                ]
              }
            }
          },
          "metadata": {}
        },
        {
          "output_type": "stream",
          "name": "stdout",
          "text": [
            "Looking in indexes: https://pypi.org/simple, https://us-python.pkg.dev/colab-wheels/public/simple/\n",
            "Requirement already satisfied: transformers in /usr/local/lib/python3.7/dist-packages (4.20.1)\n",
            "Requirement already satisfied: importlib-metadata in /usr/local/lib/python3.7/dist-packages (from transformers) (4.11.4)\n",
            "Requirement already satisfied: requests in /usr/local/lib/python3.7/dist-packages (from transformers) (2.23.0)\n",
            "Requirement already satisfied: packaging>=20.0 in /usr/local/lib/python3.7/dist-packages (from transformers) (21.3)\n",
            "Requirement already satisfied: huggingface-hub<1.0,>=0.1.0 in /usr/local/lib/python3.7/dist-packages (from transformers) (0.8.1)\n",
            "Requirement already satisfied: regex!=2019.12.17 in /usr/local/lib/python3.7/dist-packages (from transformers) (2022.6.2)\n",
            "Requirement already satisfied: filelock in /usr/local/lib/python3.7/dist-packages (from transformers) (3.7.1)\n",
            "Requirement already satisfied: pyyaml>=5.1 in /usr/local/lib/python3.7/dist-packages (from transformers) (6.0)\n",
            "Requirement already satisfied: tokenizers!=0.11.3,<0.13,>=0.11.1 in /usr/local/lib/python3.7/dist-packages (from transformers) (0.12.1)\n",
            "Requirement already satisfied: numpy>=1.17 in /usr/local/lib/python3.7/dist-packages (from transformers) (1.21.6)\n",
            "Requirement already satisfied: tqdm>=4.27 in /usr/local/lib/python3.7/dist-packages (from transformers) (4.64.0)\n",
            "Requirement already satisfied: typing-extensions>=3.7.4.3 in /usr/local/lib/python3.7/dist-packages (from huggingface-hub<1.0,>=0.1.0->transformers) (4.1.1)\n",
            "Requirement already satisfied: pyparsing!=3.0.5,>=2.0.2 in /usr/local/lib/python3.7/dist-packages (from packaging>=20.0->transformers) (3.0.9)\n",
            "Requirement already satisfied: zipp>=0.5 in /usr/local/lib/python3.7/dist-packages (from importlib-metadata->transformers) (3.8.0)\n",
            "Requirement already satisfied: certifi>=2017.4.17 in /usr/local/lib/python3.7/dist-packages (from requests->transformers) (2022.6.15)\n",
            "Requirement already satisfied: chardet<4,>=3.0.2 in /usr/local/lib/python3.7/dist-packages (from requests->transformers) (3.0.4)\n",
            "Requirement already satisfied: idna<3,>=2.5 in /usr/local/lib/python3.7/dist-packages (from requests->transformers) (2.10)\n",
            "Requirement already satisfied: urllib3!=1.25.0,!=1.25.1,<1.26,>=1.21.1 in /usr/local/lib/python3.7/dist-packages (from requests->transformers) (1.25.11)\n"
          ]
        }
      ]
    },
    {
      "cell_type": "markdown",
      "source": [
        "##Imports"
      ],
      "metadata": {
        "id": "nSyd4V2OL_Eo"
      }
    },
    {
      "cell_type": "code",
      "source": [
        "import torch\n",
        "import numpy as np\n",
        "import pandas as pd\n",
        "import matplotlib.pyplot as plt\n",
        "from google.colab import drive\n",
        "from torch import nn\n",
        "from torch.optim import Adam\n",
        "from transformers import GPT2Model, GPT2Tokenizer\n",
        "from tqdm import tqdm\n",
        "from sklearn.model_selection import train_test_split\n",
        "from sklearn.metrics import accuracy_score\n",
        "from sklearn.metrics import classification_report\n",
        "from sklearn.metrics import f1_score\n",
        "from sklearn.metrics import precision_score\n",
        "from sklearn.utils import class_weight\n",
        "from sklearn.metrics import confusion_matrix\n",
        "from sklearn.metrics import ConfusionMatrixDisplay"
      ],
      "metadata": {
        "id": "UQ1Q1W-NxCnr"
      },
      "execution_count": null,
      "outputs": []
    },
    {
      "cell_type": "markdown",
      "source": [
        "## Loading Data and EDA"
      ],
      "metadata": {
        "id": "w0koK3CBLy19"
      }
    },
    {
      "cell_type": "code",
      "source": [
        "drive.mount('/content/drive/')"
      ],
      "metadata": {
        "id": "1oGC1B6RIf4k",
        "colab": {
          "base_uri": "https://localhost:8080/"
        },
        "outputId": "61df27cd-96f8-4340-bf1b-7945c5e70ed9"
      },
      "execution_count": null,
      "outputs": [
        {
          "output_type": "stream",
          "name": "stdout",
          "text": [
            "Drive already mounted at /content/drive/; to attempt to forcibly remount, call drive.mount(\"/content/drive/\", force_remount=True).\n"
          ]
        }
      ]
    },
    {
      "cell_type": "code",
      "source": [
        "df = pd.read_csv(\"/content/drive/MyDrive/dataset/tripadvisor_hotel_reviews.csv\")\n",
        "df.sample(10)"
      ],
      "metadata": {
        "id": "OZUcStmUX3tL",
        "colab": {
          "base_uri": "https://localhost:8080/"
        },
        "outputId": "bd1fa9f5-d976-4f94-8876-48a077c96170"
      },
      "execution_count": null,
      "outputs": [
        {
          "output_type": "execute_result",
          "data": {
            "text/plain": [
              "                                                  Review  Rating\n",
              "4810   london bridge london experience just returned ...       5\n",
              "19993  wonderful time, wonderful stay fusion suites, ...       5\n",
              "8970   class hotel booked short break condes barcelon...       4\n",
              "7740   staff putting ritz property fantastic, linens ...       5\n",
              "10129  excellent hotel stayed hotel twice, took mum 2...       5\n",
              "14884  stylish decor fab location, pulitzer great cen...       5\n",
              "5653   nice room good location great loaction 2 block...       4\n",
              "829    loud times just okay ladies beware bathrooms t...       3\n",
              "12143  standard 4* stuff stayed 4 nights july budget ...       3\n",
              "17080  great time bahia just returned bahia overall t...       4"
            ],
            "text/html": [
              "\n",
              "  <div id=\"df-df97497e-43f8-4e3a-899a-66fd1ec6fb28\">\n",
              "    <div class=\"colab-df-container\">\n",
              "      <div>\n",
              "<style scoped>\n",
              "    .dataframe tbody tr th:only-of-type {\n",
              "        vertical-align: middle;\n",
              "    }\n",
              "\n",
              "    .dataframe tbody tr th {\n",
              "        vertical-align: top;\n",
              "    }\n",
              "\n",
              "    .dataframe thead th {\n",
              "        text-align: right;\n",
              "    }\n",
              "</style>\n",
              "<table border=\"1\" class=\"dataframe\">\n",
              "  <thead>\n",
              "    <tr style=\"text-align: right;\">\n",
              "      <th></th>\n",
              "      <th>Review</th>\n",
              "      <th>Rating</th>\n",
              "    </tr>\n",
              "  </thead>\n",
              "  <tbody>\n",
              "    <tr>\n",
              "      <th>4810</th>\n",
              "      <td>london bridge london experience just returned ...</td>\n",
              "      <td>5</td>\n",
              "    </tr>\n",
              "    <tr>\n",
              "      <th>19993</th>\n",
              "      <td>wonderful time, wonderful stay fusion suites, ...</td>\n",
              "      <td>5</td>\n",
              "    </tr>\n",
              "    <tr>\n",
              "      <th>8970</th>\n",
              "      <td>class hotel booked short break condes barcelon...</td>\n",
              "      <td>4</td>\n",
              "    </tr>\n",
              "    <tr>\n",
              "      <th>7740</th>\n",
              "      <td>staff putting ritz property fantastic, linens ...</td>\n",
              "      <td>5</td>\n",
              "    </tr>\n",
              "    <tr>\n",
              "      <th>10129</th>\n",
              "      <td>excellent hotel stayed hotel twice, took mum 2...</td>\n",
              "      <td>5</td>\n",
              "    </tr>\n",
              "    <tr>\n",
              "      <th>14884</th>\n",
              "      <td>stylish decor fab location, pulitzer great cen...</td>\n",
              "      <td>5</td>\n",
              "    </tr>\n",
              "    <tr>\n",
              "      <th>5653</th>\n",
              "      <td>nice room good location great loaction 2 block...</td>\n",
              "      <td>4</td>\n",
              "    </tr>\n",
              "    <tr>\n",
              "      <th>829</th>\n",
              "      <td>loud times just okay ladies beware bathrooms t...</td>\n",
              "      <td>3</td>\n",
              "    </tr>\n",
              "    <tr>\n",
              "      <th>12143</th>\n",
              "      <td>standard 4* stuff stayed 4 nights july budget ...</td>\n",
              "      <td>3</td>\n",
              "    </tr>\n",
              "    <tr>\n",
              "      <th>17080</th>\n",
              "      <td>great time bahia just returned bahia overall t...</td>\n",
              "      <td>4</td>\n",
              "    </tr>\n",
              "  </tbody>\n",
              "</table>\n",
              "</div>\n",
              "      <button class=\"colab-df-convert\" onclick=\"convertToInteractive('df-df97497e-43f8-4e3a-899a-66fd1ec6fb28')\"\n",
              "              title=\"Convert this dataframe to an interactive table.\"\n",
              "              style=\"display:none;\">\n",
              "        \n",
              "  <svg xmlns=\"http://www.w3.org/2000/svg\" height=\"24px\"viewBox=\"0 0 24 24\"\n",
              "       width=\"24px\">\n",
              "    <path d=\"M0 0h24v24H0V0z\" fill=\"none\"/>\n",
              "    <path d=\"M18.56 5.44l.94 2.06.94-2.06 2.06-.94-2.06-.94-.94-2.06-.94 2.06-2.06.94zm-11 1L8.5 8.5l.94-2.06 2.06-.94-2.06-.94L8.5 2.5l-.94 2.06-2.06.94zm10 10l.94 2.06.94-2.06 2.06-.94-2.06-.94-.94-2.06-.94 2.06-2.06.94z\"/><path d=\"M17.41 7.96l-1.37-1.37c-.4-.4-.92-.59-1.43-.59-.52 0-1.04.2-1.43.59L10.3 9.45l-7.72 7.72c-.78.78-.78 2.05 0 2.83L4 21.41c.39.39.9.59 1.41.59.51 0 1.02-.2 1.41-.59l7.78-7.78 2.81-2.81c.8-.78.8-2.07 0-2.86zM5.41 20L4 18.59l7.72-7.72 1.47 1.35L5.41 20z\"/>\n",
              "  </svg>\n",
              "      </button>\n",
              "      \n",
              "  <style>\n",
              "    .colab-df-container {\n",
              "      display:flex;\n",
              "      flex-wrap:wrap;\n",
              "      gap: 12px;\n",
              "    }\n",
              "\n",
              "    .colab-df-convert {\n",
              "      background-color: #E8F0FE;\n",
              "      border: none;\n",
              "      border-radius: 50%;\n",
              "      cursor: pointer;\n",
              "      display: none;\n",
              "      fill: #1967D2;\n",
              "      height: 32px;\n",
              "      padding: 0 0 0 0;\n",
              "      width: 32px;\n",
              "    }\n",
              "\n",
              "    .colab-df-convert:hover {\n",
              "      background-color: #E2EBFA;\n",
              "      box-shadow: 0px 1px 2px rgba(60, 64, 67, 0.3), 0px 1px 3px 1px rgba(60, 64, 67, 0.15);\n",
              "      fill: #174EA6;\n",
              "    }\n",
              "\n",
              "    [theme=dark] .colab-df-convert {\n",
              "      background-color: #3B4455;\n",
              "      fill: #D2E3FC;\n",
              "    }\n",
              "\n",
              "    [theme=dark] .colab-df-convert:hover {\n",
              "      background-color: #434B5C;\n",
              "      box-shadow: 0px 1px 3px 1px rgba(0, 0, 0, 0.15);\n",
              "      filter: drop-shadow(0px 1px 2px rgba(0, 0, 0, 0.3));\n",
              "      fill: #FFFFFF;\n",
              "    }\n",
              "  </style>\n",
              "\n",
              "      <script>\n",
              "        const buttonEl =\n",
              "          document.querySelector('#df-df97497e-43f8-4e3a-899a-66fd1ec6fb28 button.colab-df-convert');\n",
              "        buttonEl.style.display =\n",
              "          google.colab.kernel.accessAllowed ? 'block' : 'none';\n",
              "\n",
              "        async function convertToInteractive(key) {\n",
              "          const element = document.querySelector('#df-df97497e-43f8-4e3a-899a-66fd1ec6fb28');\n",
              "          const dataTable =\n",
              "            await google.colab.kernel.invokeFunction('convertToInteractive',\n",
              "                                                     [key], {});\n",
              "          if (!dataTable) return;\n",
              "\n",
              "          const docLinkHtml = 'Like what you see? Visit the ' +\n",
              "            '<a target=\"_blank\" href=https://colab.research.google.com/notebooks/data_table.ipynb>data table notebook</a>'\n",
              "            + ' to learn more about interactive tables.';\n",
              "          element.innerHTML = '';\n",
              "          dataTable['output_type'] = 'display_data';\n",
              "          await google.colab.output.renderOutput(dataTable, element);\n",
              "          const docLink = document.createElement('div');\n",
              "          docLink.innerHTML = docLinkHtml;\n",
              "          element.appendChild(docLink);\n",
              "        }\n",
              "      </script>\n",
              "    </div>\n",
              "  </div>\n",
              "  "
            ]
          },
          "metadata": {},
          "execution_count": 69
        }
      ]
    },
    {
      "cell_type": "code",
      "source": [
        "df[\"Review\"] = df[\"Review\"].apply(lambda x: x.replace(\"* \", \"\"))\n",
        "df[\"Review\"] = df[\"Review\"].apply(lambda x: x.replace(\"__Ç_é_\", \"s\"))\n",
        "df[\"Review\"] = df[\"Review\"].apply(lambda x: x.replace(\"__Ç\", \"s\"))\n",
        "df[\"Review\"] = df[\"Review\"].apply(lambda x: x.replace(\"///\", \" \"))"
      ],
      "metadata": {
        "id": "U9yYBSipY7ZH"
      },
      "execution_count": null,
      "outputs": []
    },
    {
      "cell_type": "code",
      "metadata": {
        "id": "9zKTKEkHY7ZK"
      },
      "source": [
        "# Rename 'sentence' column to 'text' (this is the name SimpleTransformers expects).\n",
        "df.columns = ['text', 'label']"
      ],
      "execution_count": null,
      "outputs": []
    },
    {
      "cell_type": "markdown",
      "source": [
        "Tramsformer assumes label from 0 to Num_labels."
      ],
      "metadata": {
        "id": "n0nWQ3-KY7ZL"
      }
    },
    {
      "cell_type": "code",
      "source": [
        "# Dict={1:0,2:1,3:2,4:3,5:4}\n",
        "# df['label']=df['label'].map(Dict)\n",
        "df['label'] = df['label'].apply(lambda x:x-1)"
      ],
      "metadata": {
        "id": "jisCYQERY7ZM"
      },
      "execution_count": null,
      "outputs": []
    },
    {
      "cell_type": "markdown",
      "source": [
        "## EDA"
      ],
      "metadata": {
        "id": "GevTfVV6Y7ZN"
      }
    },
    {
      "cell_type": "markdown",
      "source": [
        "Check Missing values"
      ],
      "metadata": {
        "id": "TB9vVLm9Y7ZO"
      }
    },
    {
      "cell_type": "code",
      "source": [
        "df.isnull().sum()"
      ],
      "metadata": {
        "id": "2kJUB4HFY7ZP",
        "colab": {
          "base_uri": "https://localhost:8080/"
        },
        "outputId": "b4bebc86-ad2d-48fa-da8b-61e67470ac04"
      },
      "execution_count": null,
      "outputs": [
        {
          "output_type": "execute_result",
          "data": {
            "text/plain": [
              "text     0\n",
              "label    0\n",
              "dtype: int64"
            ]
          },
          "metadata": {},
          "execution_count": 73
        }
      ]
    },
    {
      "cell_type": "markdown",
      "source": [
        "Check calss imbalancy"
      ],
      "metadata": {
        "id": "47_Zhd_hY7ZQ"
      }
    },
    {
      "cell_type": "code",
      "source": [
        "df.label.value_counts()"
      ],
      "metadata": {
        "id": "pkizT-FgY7ZR",
        "colab": {
          "base_uri": "https://localhost:8080/"
        },
        "outputId": "ca4a6a24-7edf-4f96-e989-46c2ed1e8b21"
      },
      "execution_count": null,
      "outputs": [
        {
          "output_type": "execute_result",
          "data": {
            "text/plain": [
              "4    9054\n",
              "3    6039\n",
              "2    2184\n",
              "1    1793\n",
              "0    1421\n",
              "Name: label, dtype: int64"
            ]
          },
          "metadata": {},
          "execution_count": 74
        }
      ]
    },
    {
      "cell_type": "code",
      "source": [
        "df.groupby(\"label\").size().plot.bar()"
      ],
      "metadata": {
        "id": "nhzS7XyXY7ZS",
        "colab": {
          "base_uri": "https://localhost:8080/"
        },
        "outputId": "2028cbc2-d840-46a7-e493-be336dcc9f82"
      },
      "execution_count": null,
      "outputs": [
        {
          "output_type": "execute_result",
          "data": {
            "text/plain": [
              "<matplotlib.axes._subplots.AxesSubplot at 0x7f0b9454f650>"
            ]
          },
          "metadata": {},
          "execution_count": 75
        },
        {
          "output_type": "display_data",
          "data": {
            "text/plain": [
              "<Figure size 864x432 with 1 Axes>"
            ],
            "image/png": "[encoded data removed]"
          },
          "metadata": {}
        }
      ]
    },
    {
      "cell_type": "markdown",
      "source": [
        "Data is imbalance, let's calculate the class_weights"
      ],
      "metadata": {
        "id": "38u8xzjHY7ZT"
      }
    },
    {
      "cell_type": "code",
      "source": [
        "from sklearn.utils.class_weight import compute_class_weight\n",
        "class_weights = compute_class_weight(class_weight = \"balanced\", classes= np.unique(df.label), y= df.label)\n",
        "class_weights"
      ],
      "metadata": {
        "id": "hTBlxYP-Y7ZU",
        "colab": {
          "base_uri": "https://localhost:8080/"
        },
        "outputId": "108c9d37-2c87-4378-d7ad-de73687e50e8"
      },
      "execution_count": null,
      "outputs": [
        {
          "output_type": "execute_result",
          "data": {
            "text/plain": [
              "array([2.88402533, 2.28566648, 1.8764652 , 0.67862229, 0.45263972])"
            ]
          },
          "metadata": {},
          "execution_count": 76
        }
      ]
    },
    {
      "cell_type": "markdown",
      "source": [
        "## Dataset class"
      ],
      "metadata": {
        "id": "DTXvFqcOLqMr"
      }
    },
    {
      "cell_type": "code",
      "source": [
        "tokenizer = GPT2Tokenizer.from_pretrained('gpt2')\n",
        "tokenizer.padding_side = \"left\"\n",
        "tokenizer.pad_token = tokenizer.eos_token\n",
        "\n",
        "\n",
        "class Dataset(torch.utils.data.Dataset):\n",
        "    def __init__(self, df):\n",
        "        self.labels = [label for label in df['label']]\n",
        "        self.texts = [tokenizer(text,\n",
        "                                padding='max_length',\n",
        "                                max_length=128,\n",
        "                                truncation=True,\n",
        "                                return_tensors=\"pt\") for text in df['text']]\n",
        "        \n",
        "    def classes(self):\n",
        "        return self.labels\n",
        "    \n",
        "    def __len__(self):\n",
        "        return len(self.labels)\n",
        "    \n",
        "    def get_batch_labels(self, idx):\n",
        "        # Get a batch of labels\n",
        "        return np.array(self.labels[idx])\n",
        "    \n",
        "    def get_batch_texts(self, idx):\n",
        "        # Get a batch of inputs\n",
        "        return self.texts[idx]\n",
        "    \n",
        "    def __getitem__(self, idx):\n",
        "        batch_texts = self.get_batch_texts(idx)\n",
        "        batch_y = self.get_batch_labels(idx)\n",
        "        return batch_texts, batch_y"
      ],
      "metadata": {
        "id": "LnO3svgrKFmj",
        "colab": {
          "base_uri": "https://localhost:8080/",
          "height": 113,
          "referenced_widgets": [
            "9e2e5b1d11594bc4b4b11c33b37280bf",
            "41df0c31e06f429db1c12abb601dd11b",
            "5b928194399f432aacec2f87cb1818ac",
            "b141a05434c04108bdd1a4c50657d214",
            "7678bc8db66d4baa852e750662680c5d",
            "1a9cd89607d84c819644165de1b16d5f",
            "87020c37c3d34c1b8102f309abc704be",
            "6f692b85b0f64942aadb85a805e76654",
            "239cfb006917429ba0d4ad358bf32269",
            "477ce14493fa4a7f8965913c194531f4",
            "1b5be88e200d4ea49aa9bb7c93aee2e7",
            "bad57053044b4366a06e8bee0c4793d3",
            "d73d7688b1244a3280308e2e8a047e60",
            "231fa6010d1445e0a98cbf3c2ee2f131",
            "536eaaf0aca84c19927c15f1ef07c183",
            "2705475481f945cbb9ad17afa1b9faa6",
            "346cb874f010436f990f2d1c462a5464",
            "84699c43650a4f749ed34acdc7187e83",
            "055c7460d6cc415eb6a3d79f91b6cf4d",
            "2a2dabe3b56642d383b17e2f9bd2a635",
            "fd275c5099ed405fb3ed649496dce615",
            "2dfbaf2036354878940814161fabe2f2",
            "cd064d23a39e435e810ff6cde9610c4c",
            "9fa38c5f23484104a7f89f91ee2b85c6",
            "f8d42feaa90547c9bf9e0fad71315515",
            "dabfa02dc3f64352ba4912ae06ae6c69",
            "bc6622e515db48dab5195e877ee7f671",
            "7959f779db344a089f1adf4827900315",
            "576516d057ee479d9b819ba1776197aa",
            "2b16d86eafbc4cd09659ffa058145941",
            "87209f2bc0454fbe9ce5b70147d699aa",
            "819a3dda4711485487e2f66e8475ae25",
            "28d1e7741f6d4f22831857c220edd7cf"
          ]
        },
        "outputId": "36e8e73e-ba05-4f74-b101-7e424c890f99"
      },
      "execution_count": null,
      "outputs": [
        {
          "output_type": "display_data",
          "data": {
            "text/plain": [
              "Downloading:   0%|          | 0.00/0.99M [00:00<?, ?B/s]"
            ],
            "application/vnd.jupyter.widget-view+json": {
              "version_major": 2,
              "version_minor": 0,
              "model_id": "9e2e5b1d11594bc4b4b11c33b37280bf"
            }
          },
          "metadata": {}
        },
        {
          "output_type": "display_data",
          "data": {
            "text/plain": [
              "Downloading:   0%|          | 0.00/446k [00:00<?, ?B/s]"
            ],
            "application/vnd.jupyter.widget-view+json": {
              "version_major": 2,
              "version_minor": 0,
              "model_id": "bad57053044b4366a06e8bee0c4793d3"
            }
          },
          "metadata": {}
        },
        {
          "output_type": "display_data",
          "data": {
            "text/plain": [
              "Downloading:   0%|          | 0.00/665 [00:00<?, ?B/s]"
            ],
            "application/vnd.jupyter.widget-view+json": {
              "version_major": 2,
              "version_minor": 0,
              "model_id": "cd064d23a39e435e810ff6cde9610c4c"
            }
          },
          "metadata": {}
        }
      ]
    },
    {
      "cell_type": "markdown",
      "source": [
        "## Split training-test dataset\n",
        "\n"
      ],
      "metadata": {
        "id": "hb1YZcAPLimH"
      }
    },
    {
      "cell_type": "code",
      "source": [
        "np.random.seed(112)\n",
        "df_train, df_val, df_test = np.split(df.sample(frac=1, random_state=35),\n",
        "                                     [int(0.8*len(df)), int(0.9*len(df))])\n",
        "\n",
        "print(len(df_train), len(df_val), len(df_test))"
      ],
      "metadata": {
        "id": "ztSYe9ZuKJIj",
        "colab": {
          "base_uri": "https://localhost:8080/"
        },
        "outputId": "6d4bf9f5-cc2a-423f-9595-7e73f491105a"
      },
      "execution_count": null,
      "outputs": [
        {
          "output_type": "stream",
          "name": "stdout",
          "text": [
            "16392 2049 2050\n"
          ]
        }
      ]
    },
    {
      "cell_type": "markdown",
      "source": [
        "## Model building\n",
        "\n",
        "\n",
        "Now comes to the most important part of this notebook. We need to buid a classifier model on top of a pre-trained GPT-2 model. The trick here is to add a linear layer on top of GPT-2's 12 layers of decoders with its output dimension equals our number of labels. In this way we can use GPT-2 to output 5 numbers which corresponds to our five news categories!\n",
        "\n",
        "For more information about how to build customized models in PyTorch, see [here](https://pytorch.org/tutorials/beginner/basics/buildmodel_tutorial.html)"
      ],
      "metadata": {
        "id": "-SqL7dLuLaqN"
      }
    },
    {
      "cell_type": "code",
      "source": [
        "class SimpleGPT2SequenceClassifier(nn.Module):\n",
        "    def __init__(self, hidden_size: int, num_classes:int ,max_seq_len:int, gpt_model_name:str):\n",
        "        super(SimpleGPT2SequenceClassifier,self).__init__()\n",
        "        self.gpt2model = GPT2Model.from_pretrained(gpt_model_name)\n",
        "        self.fc1 = nn.Linear(hidden_size*max_seq_len, num_classes)\n",
        "\n",
        "        \n",
        "    def forward(self, input_id, mask):\n",
        "        \"\"\"\n",
        "        Args:\n",
        "                input_id: encoded inputs ids of sent.\n",
        "        \"\"\"\n",
        "        gpt_out, _ = self.gpt2model(input_ids=input_id, attention_mask=mask, return_dict=False)\n",
        "        batch_size = gpt_out.shape[0]\n",
        "        #print(\"batch_size \",batch_size) to check the batch size\n",
        "        linear_output = self.fc1(gpt_out.view(batch_size,-1))\n",
        "        return linear_output"
      ],
      "metadata": {
        "id": "8FNQdXcQKonq"
      },
      "execution_count": null,
      "outputs": []
    },
    {
      "cell_type": "markdown",
      "source": [
        "## Training loop\n",
        "\n",
        "\n",
        "Now it's time to train (fine-tune) our model! Here I build a standard PyTorch training loop following [this guide](https://pytorch.org/tutorials/beginner/basics/optimization_tutorial.html). Since this is a multi-class classification problem, I picked [cross-entropy-loss](https://pytorch.org/docs/stable/generated/torch.nn.CrossEntropyLoss.html) as our loss function (\"criterion\"), and [Adam](https://pytorch.org/docs/stable/generated/torch.optim.Adam.html) as the optimization algorithm."
      ],
      "metadata": {
        "id": "Z3XAE2JGLR3e"
      }
    },
    {
      "cell_type": "code",
      "source": [
        "def train(model, train_data, val_data, learning_rate, epochs):\n",
        "    train, val = Dataset(train_data), Dataset(val_data)\n",
        "    \n",
        "    train_dataloader = torch.utils.data.DataLoader(train, batch_size=2, shuffle=True)\n",
        "    val_dataloader = torch.utils.data.DataLoader(val, batch_size=2)\n",
        "    \n",
        "    use_cuda = torch.cuda.is_available()\n",
        "    device = torch.device(\"cuda\" if use_cuda else \"cpu\")\n",
        "    \n",
        "    criterion = nn.CrossEntropyLoss()\n",
        "    optimizer = Adam(model.parameters(), lr=learning_rate)\n",
        "    \n",
        "    if use_cuda:\n",
        "        model = model.cuda()\n",
        "        criterion = criterion.cuda()\n",
        "\n",
        "    for epoch_num in range(epochs):\n",
        "        total_acc_train = 0\n",
        "        total_loss_train = 0\n",
        "        \n",
        "        for train_input, train_label in tqdm(train_dataloader):\n",
        "            train_label = train_label.to(device)\n",
        "            mask = train_input['attention_mask'].to(device)\n",
        "            input_id = train_input[\"input_ids\"].squeeze(1).to(device)\n",
        "            \n",
        "            model.zero_grad()\n",
        "\n",
        "            output = model(input_id, mask)\n",
        "            \n",
        "            batch_loss = criterion(output, train_label)\n",
        "            total_loss_train += batch_loss.item()\n",
        "            \n",
        "            acc = (output.argmax(dim=1)==train_label).sum().item()\n",
        "            total_acc_train += acc\n",
        "\n",
        "            batch_loss.backward()\n",
        "            optimizer.step()\n",
        "            \n",
        "        total_acc_val = 0\n",
        "        total_loss_val = 0\n",
        "        \n",
        "        with torch.no_grad():\n",
        "            \n",
        "            for val_input, val_label in val_dataloader:\n",
        "                val_label = val_label.to(device)\n",
        "                mask = val_input['attention_mask'].to(device)\n",
        "                input_id = val_input['input_ids'].squeeze(1).to(device)\n",
        "                \n",
        "                output = model(input_id, mask)\n",
        "                \n",
        "                batch_loss = criterion(output, val_label)\n",
        "                total_loss_val += batch_loss.item()\n",
        "                \n",
        "                acc = (output.argmax(dim=1)==val_label).sum().item()\n",
        "                total_acc_val += acc\n",
        "                \n",
        "            print(\n",
        "            f\"Epochs: {epoch_num + 1} | Train Loss: {total_loss_train/len(train_data): .3f} \\\n",
        "            | Train Accuracy: {total_acc_train / len(train_data): .3f} \\\n",
        "            | Val Loss: {total_loss_val / len(val_data): .3f} \\\n",
        "            | Val Accuracy: {total_acc_val / len(val_data): .3f}\")\n",
        "            \n",
        "EPOCHS = 1\n",
        "model = SimpleGPT2SequenceClassifier(hidden_size=768, num_classes=5, max_seq_len=128, gpt_model_name=\"gpt2\")\n",
        "LR = 1e-5\n",
        "\n",
        "train(model, df_train, df_val, LR, EPOCHS)"
      ],
      "metadata": {
        "id": "mlF30ROhLKsN"
      },
      "execution_count": null,
      "outputs": []
    },
    {
      "cell_type": "markdown",
      "source": [
        "## Evaluation"
      ],
      "metadata": {
        "id": "doKtdR5qbiq0"
      }
    },
    {
      "cell_type": "code",
      "source": [
        "def evaluate(model, test_data):\n",
        "\n",
        "    test = Dataset(test_data)\n",
        "\n",
        "    test_dataloader = torch.utils.data.DataLoader(test, batch_size=2)\n",
        "\n",
        "    use_cuda = torch.cuda.is_available()\n",
        "    device = torch.device(\"cuda\" if use_cuda else \"cpu\")\n",
        "\n",
        "    if use_cuda:\n",
        "\n",
        "        model = model.cuda()\n",
        "\n",
        "        \n",
        "    # Tracking variables\n",
        "    predictions_labels = []\n",
        "    true_labels = []\n",
        "    \n",
        "    total_acc_test = 0\n",
        "    with torch.no_grad():\n",
        "\n",
        "        for test_input, test_label in test_dataloader:\n",
        "\n",
        "            test_label = test_label.to(device)\n",
        "            mask = test_input['attention_mask'].to(device)\n",
        "            input_id = test_input['input_ids'].squeeze(1).to(device)\n",
        "\n",
        "            output = model(input_id, mask)\n",
        "\n",
        "            acc = (output.argmax(dim=1) == test_label).sum().item()\n",
        "            total_acc_test += acc\n",
        "            \n",
        "            # add original labels\n",
        "            true_labels += test_label.cpu().numpy().flatten().tolist()\n",
        "            # get predicitons to list\n",
        "            predictions_labels += output.argmax(dim=1).cpu().numpy().flatten().tolist()\n",
        "    \n",
        "    print(f'Test Accuracy: {total_acc_test / len(test_data): .3f}')\n",
        "    return true_labels, predictions_labels\n",
        "    \n",
        "true_labels, pred_labels = evaluate(model, df_val)"
      ],
      "metadata": {
        "id": "_E7GRAIMbj0X",
        "colab": {
          "base_uri": "https://localhost:8080/"
        },
        "outputId": "1564795b-c1a8-4b89-c9ff-77aa4d484167"
      },
      "execution_count": null,
      "outputs": [
        {
          "output_type": "stream",
          "name": "stdout",
          "text": [
            "Test Accuracy:  0.645\n"
          ]
        }
      ]
    },
    {
      "cell_type": "code",
      "source": [
        "print(classification_report(true_labels,pred_labels))"
      ],
      "metadata": {
        "id": "-QnXRbhki7bn",
        "colab": {
          "base_uri": "https://localhost:8080/"
        },
        "outputId": "a243b1b2-adcf-4e3e-cd36-f0de112f63b3"
      },
      "execution_count": null,
      "outputs": [
        {
          "output_type": "stream",
          "name": "stdout",
          "text": [
            "              precision    recall  f1-score   support\n",
            "\n",
            "           0       0.74      0.57      0.64       157\n",
            "           1       0.40      0.62      0.49       141\n",
            "           2       0.57      0.16      0.25       217\n",
            "           3       0.53      0.67      0.59       609\n",
            "           4       0.80      0.76      0.78       925\n",
            "\n",
            "    accuracy                           0.64      2049\n",
            "   macro avg       0.61      0.56      0.55      2049\n",
            "weighted avg       0.66      0.64      0.64      2049\n",
            "\n"
          ]
        }
      ]
    },
    {
      "cell_type": "code",
      "source": [
        "true_labels, pred_labels = evaluate(model, df_test)\n",
        "print(classification_report(true_labels,pred_labels))"
      ],
      "metadata": {
        "colab": {
          "base_uri": "https://localhost:8080/"
        },
        "id": "6h5NVT85qUg6",
        "outputId": "bcdeb489-42dc-40a2-ed8a-78642528383f"
      },
      "execution_count": null,
      "outputs": [
        {
          "output_type": "stream",
          "name": "stdout",
          "text": [
            "Test Accuracy:  0.640\n",
            "              precision    recall  f1-score   support\n",
            "\n",
            "           0       0.66      0.64      0.65       157\n",
            "           1       0.46      0.59      0.51       193\n",
            "           2       0.59      0.18      0.27       226\n",
            "           3       0.54      0.67      0.60       610\n",
            "           4       0.79      0.75      0.77       864\n",
            "\n",
            "    accuracy                           0.64      2050\n",
            "   macro avg       0.61      0.57      0.56      2050\n",
            "weighted avg       0.65      0.64      0.63      2050\n",
            "\n"
          ]
        }
      ]
    },
    {
      "cell_type": "code",
      "source": [
        "print(f1_score(true_labels,pred_labels,average='micro'))"
      ],
      "metadata": {
        "colab": {
          "base_uri": "https://localhost:8080/"
        },
        "id": "_cQDjvVDq9Kc",
        "outputId": "bf880209-b837-4ac4-d52e-6bf0492e3ab8"
      },
      "execution_count": null,
      "outputs": [
        {
          "output_type": "stream",
          "name": "stdout",
          "text": [
            "0.6404878048780488\n"
          ]
        }
      ]
    },
    {
      "cell_type": "code",
      "source": [
        "# Plot confusion matrix.\n",
        "fig, ax = plt.subplots(figsize=(8, 8))\n",
        "cm = confusion_matrix(y_true=true_labels, y_pred=pred_labels, labels=range(len(df.label.unique())))#, normalize='true')\n",
        "disp = ConfusionMatrixDisplay(confusion_matrix=cm, display_labels=list(df.label.unique()))\n",
        "disp.plot(ax=ax)"
      ],
      "metadata": {
        "id": "vl4XiAC5bkUz",
        "colab": {
          "base_uri": "https://localhost:8080/",
          "height": 494
        },
        "outputId": "d7c96834-ebd4-4618-f61b-b5fe7d8ee8d6"
      },
      "execution_count": null,
      "outputs": [
        {
          "output_type": "execute_result",
          "data": {
            "text/plain": [
              "<sklearn.metrics._plot.confusion_matrix.ConfusionMatrixDisplay at 0x7f0afaa68e90>"
            ]
          },
          "metadata": {},
          "execution_count": 86
        },
        {
          "output_type": "display_data",
          "data": {
            "text/plain": [
              "<Figure size 576x576 with 2 Axes>"
            ],
            "image/png": "[encoded data removed]"
          },
          "metadata": {}
        }
      ]
    },
    {
      "cell_type": "markdown",
      "source": [
        "## Saving and loading the model"
      ],
      "metadata": {
        "id": "jYGBIz7qb5Py"
      }
    },
    {
      "cell_type": "code",
      "source": [
        "# save trained model\n",
        "torch.save(model.state_dict(), \"gpt2-text-classifier-model.pt\")"
      ],
      "metadata": {
        "id": "ojda1PNcbuoN"
      },
      "execution_count": null,
      "outputs": []
    },
    {
      "cell_type": "code",
      "source": [
        "# load trained model\n",
        "model_new = SimpleGPT2SequenceClassifier(hidden_size=768, num_classes=5, max_seq_len=128, gpt_model_name=\"gpt2\")\n",
        "model_new.load_state_dict(torch.load(\"gpt2-text-classifier-model.pt\"))\n",
        "model_new.eval()"
      ],
      "metadata": {
        "id": "DkOUYVRUbuGT"
      },
      "execution_count": null,
      "outputs": []
    },
    {
      "cell_type": "markdown",
      "source": [
        "## Model Inference"
      ],
      "metadata": {
        "id": "ruEMXcq5cKZv"
      }
    },
    {
      "cell_type": "code",
      "source": [
        "df.text.iloc[5], df.label.iloc[5]"
      ],
      "metadata": {
        "id": "FbmWiVHXcTeX"
      },
      "execution_count": null,
      "outputs": []
    },
    {
      "cell_type": "code",
      "source": [
        "example_text = df.text.iloc[5]\n",
        "fixed_text = \" \".join(example_text.lower().split())\n",
        "print(fixed_text)\n",
        "\n",
        "tokenizer = GPT2Tokenizer.from_pretrained('gpt2')\n",
        "tokenizer.padding_side = \"left\"\n",
        "tokenizer.pad_token = tokenizer.eos_token\n",
        "\n",
        "model_input = tokenizer(fixed_text, padding='max_length', max_length=128, truncation=True, return_tensors=\"pt\")"
      ],
      "metadata": {
        "id": "da0ufn_ccGwO"
      },
      "execution_count": null,
      "outputs": []
    },
    {
      "cell_type": "code",
      "source": [
        "mask = model_input['attention_mask'].cpu()\n",
        "input_id = model_input[\"input_ids\"].squeeze(1).cpu()\n",
        "\n",
        "output = model_new(input_id, mask)\n",
        "print(\"output \", output)\n",
        "prob = torch.nn.functional.softmax(output, dim=1)[0]\n",
        "print(\"prob \", prob)\n",
        "pred_label = prob.argmax()\n",
        "print(\"pred_label \", pred_label)"
      ],
      "metadata": {
        "id": "YLg0MXancHUj"
      },
      "execution_count": null,
      "outputs": []
    },
    {
      "cell_type": "markdown",
      "source": [
        "# Models Comparison\n",
        "\n",
        "\\begin{array}{ccc}\n",
        "&Bert&Bert(clsImb)&DistillBert&Albert&Roberta&XLNet&GPT2\\\\\n",
        "Epochs&4&1&1&1&1&1&1\\\\\n",
        "BatchSize&32&8&8&8&8&8&2\\\\\n",
        "LearnRate&2*10^{-5}&4*10^{-5}&4*10^{-5}&4*10^{-5}&4*10^{-5}&4*10^{-5}&10^{-5}&\\\\\n",
        "F1ScoreEval&0.646&0.65&0.64&0.57&0.49&0.64&0.64\\\\\n",
        "F1ScoreTest&0.646&0.667&0.64&0.58&0.51&0.66&0.64\\\\\n",
        "TrainTime&5min&4min&2min&3min&4min&5min&14 min\n",
        "\\end{array}"
      ],
      "metadata": {
        "id": "7khnuPW-f010"
      }
    },
    {
      "cell_type": "markdown",
      "source": [
        "From above table, we can say that, Bert(clsImb) and XLNet are best. I have trained for one epoch only just to avoid the colab memory and limited runtime limitation. The above results might varry for higher epochs and tunning of other parameters. "
      ],
      "metadata": {
        "id": "ikOPuE-mwD2A"
      }
    }
  ]
}